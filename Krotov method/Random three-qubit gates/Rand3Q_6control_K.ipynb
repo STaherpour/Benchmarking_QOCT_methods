{
  "nbformat": 4,
  "nbformat_minor": 0,
  "metadata": {
    "colab": {
      "provenance": []
    },
    "kernelspec": {
      "name": "python3",
      "display_name": "Python 3"
    },
    "language_info": {
      "name": "python"
    }
  },
  "cells": [
    {
      "cell_type": "code",
      "execution_count": null,
      "metadata": {
        "id": "71474a76"
      },
      "outputs": [],
      "source": [
        "!pip install qutip"
      ]
    },
    {
      "cell_type": "code",
      "execution_count": null,
      "metadata": {
        "id": "8b10bac1"
      },
      "outputs": [],
      "source": [
        "!pip install krotov"
      ]
    },
    {
      "cell_type": "code",
      "execution_count": null,
      "metadata": {
        "id": "58da45b5"
      },
      "outputs": [],
      "source": [
        "import sys\n",
        "import os\n",
        "import qutip\n",
        "import numpy as np\n",
        "import scipy\n",
        "import matplotlib\n",
        "import matplotlib.pylab as plt\n",
        "import krotov\n",
        "from scipy.fftpack import fft\n",
        "from scipy.interpolate import interp1d\n",
        "from qutip.control import *\n",
        "\n",
        "from scipy.stats import unitary_group\n",
        "import math as mt"
      ]
    },
    {
      "cell_type": "code",
      "execution_count": null,
      "metadata": {
        "id": "c1a64951"
      },
      "outputs": [],
      "source": [
        "\n",
        "zIsigma_z= np.array([[1, 0, 0, 0, 0, 0, 0, 0],\n",
        "           [0, -1, 0, 0, 0, 0, 0, 0],\n",
        "           [0, 0, 1, 0, 0, 0, 0, 0],\n",
        "           [0, 0, 0, -1, 0, 0, 0, 0],\n",
        "           [0, 0, 0, 0, -1, 0, 0, 0],\n",
        "           [0, 0, 0, 0, 0, 1, 0, 0],\n",
        "           [0, 0, 0, 0, 0, 0, -1, 0],\n",
        "           [0, 0, 0, 0, 0, 0, 0, 1]])\n",
        "zsigma_zI= np.array([[1, 0, 0, 0, 0, 0, 0, 0],\n",
        "           [0, 1, 0, 0, 0, 0, 0, 0],\n",
        "           [0, 0, -1, 0, 0, 0, 0, 0],\n",
        "           [0, 0, 0, -1, 0, 0, 0, 0],\n",
        "           [0, 0, 0, 0, -1, 0, 0, 0],\n",
        "           [0, 0, 0, 0, 0, -1, 0, 0],\n",
        "           [0, 0, 0, 0, 0, 0, 1, 0],\n",
        "           [0, 0, 0, 0, 0, 0, 0, 1]])\n",
        "\n",
        "IIsigma_z= np.array([[1, 0, 0, 0, 0, 0, 0, 0],\n",
        "           [0, -1, 0, 0, 0, 0, 0, 0],\n",
        "           [0, 0, 1, 0, 0, 0, 0, 0],\n",
        "           [0, 0, 0, -1, 0, 0, 0, 0],\n",
        "           [0, 0, 0, 0, 1, 0, 0, 0],\n",
        "           [0, 0, 0, 0, 0, -1, 0, 0],\n",
        "           [0, 0, 0, 0, 0, 0, 1, 0],\n",
        "           [0, 0, 0, 0, 0, 0, 0, -1]])\n",
        "Isigma_zI= np.array([[1, 0, 0, 0, 0, 0, 0, 0],\n",
        "           [0, 1, 0, 0, 0, 0, 0, 0],\n",
        "           [0, 0, -1, 0, 0, 0, 0, 0],\n",
        "           [0, 0, 0, -1, 0, 0, 0, 0],\n",
        "           [0, 0, 0, 0, 1, 0, 0, 0],\n",
        "           [0, 0, 0, 0, 0, 1, 0, 0],\n",
        "           [0, 0, 0, 0, 0, 0, -1, 0],\n",
        "           [0, 0, 0, 0, 0, 0, 0, -1]])\n",
        "sigma_zII= np.array([[1, 0, 0, 0, 0, 0, 0, 0],\n",
        "           [0, 1, 0, 0, 0, 0, 0, 0],\n",
        "           [0, 0, 1, 0, 0, 0, 0, 0],\n",
        "           [0, 0, 0, 1, 0, 0, 0, 0],\n",
        "           [0, 0, 0, 0, -1, 0, 0, 0],\n",
        "           [0, 0, 0, 0, 0, -1, 0, 0],\n",
        "           [0, 0, 0, 0, 0, 0, -1, 0],\n",
        "           [0, 0, 0, 0, 0, 0, 0, -1]])\n",
        "sigma_z_z_z= np.array([[1, 0, 0, 0, 0, 0, 0, 0],\n",
        "           [0, -1, 0, 0, 0, 0, 0, 0],\n",
        "           [0, 0, -1, 0, 0, 0, 0, 0],\n",
        "           [0, 0, 0, 1, 0, 0, 0, 0],\n",
        "           [0, 0, 0, 0, -1, 0, 0, 0],\n",
        "           [0, 0, 0, 0, 0, 1, 0, 0],\n",
        "           [0, 0, 0, 0, 0, 0, 1, 0],\n",
        "           [0, 0, 0, 0, 0, 0, 0, -1]])\n",
        "\n",
        "IIsigma_x= np.array([[0, 1, 0, 0, 0, 0, 0, 0],\n",
        "           [1, 0, 0, 0, 0, 0, 0, 0],\n",
        "           [0, 0, 0, 1, 0, 0, 0, 0],\n",
        "           [0, 0, 1, 0, 0, 0, 0, 0],\n",
        "           [0, 0, 0, 0, 0, 1, 0, 0],\n",
        "           [0, 0, 0, 0, 1, 0, 0, 0],\n",
        "           [0, 0, 0, 0, 0, 0, 0, 1],\n",
        "           [0, 0, 0, 0, 0, 0, 1, 0]])\n",
        "\n",
        "\n",
        "sigma_z_z_I= np.array([[1, 0, 0, 0, 0, 0, 0, 0],\n",
        "           [0, 1, 0, 0, 0, 0, 0, 0],\n",
        "           [0, 0, -1, 0, 0, 0, 0, 0],\n",
        "           [0, 0, 0, -1, 0, 0, 0, 0],\n",
        "           [0, 0, 0, 0, -1, 0, 0, 0],\n",
        "           [0, 0, 0, 0, 0, -1, 0, 0],\n",
        "           [0, 0, 0, 0, 0, 0, 1, 0],\n",
        "           [0, 0, 0, 0, 0, 0, 0, 1]])\n",
        "\n",
        "sigma_z_I_z= np.array([[1, 0, 0, 0, 0, 0, 0, 0],\n",
        "           [0, -1, 0, 0, 0, 0, 0, 0],\n",
        "           [0, 0, 1, 0, 0, 0, 0, 0],\n",
        "           [0, 0, 0, -1, 0, 0, 0, 0],\n",
        "           [0, 0, 0, 0, -1, 0, 0, 0],\n",
        "           [0, 0, 0, 0, 0, 1, 0, 0],\n",
        "           [0, 0, 0, 0, 0, 0, -1, 0],\n",
        "           [0, 0, 0, 0, 0, 0, 0, 1]])\n",
        "Isigma_x_I=np.array([[0, 0, 1, 0, 0, 0, 0, 0],\n",
        "           [0, 0, 0, 1, 0, 0, 0, 0],\n",
        "           [1, 0, 0, 0, 0, 0, 0, 0],\n",
        "           [0, 1, 0, 0, 0, 0, 0, 0],\n",
        "           [0, 0, 0, 0, 0, 0, 1, 0],\n",
        "           [0, 0, 0, 0, 0, 0, 0, 1],\n",
        "           [0, 0, 0, 0, 1, 0, 0, 0],\n",
        "           [0, 0, 0, 0, 0, 1, 0, 0]])\n",
        "sigma_x_I_I=np.array([[0, 0, 0, 0, 1, 0, 0, 0],\n",
        "           [0, 0, 0, 0, 0, 1, 0, 0],\n",
        "           [0, 0, 0, 0, 0, 0, 1, 0],\n",
        "           [0, 0, 0, 0, 0, 0, 0, 1],\n",
        "           [1, 0, 0, 0, 0, 0, 0, 0],\n",
        "           [0, 1, 0, 0, 0, 0, 0, 0],\n",
        "           [0, 0, 1, 0, 0, 0, 0, 0],\n",
        "           [0, 0, 0, 1, 0, 0, 0, 0]])\n",
        "IIsigma_y = np.array([[0,  -1.j,  0,  0,  0,  0,  0,  0],\n",
        "           [1.j,  0,  0,  0,  0,  0,  0,  0],\n",
        "           [0,  0,  0, -1.j,  0,  0,  0,  0],\n",
        "           [0,  0, 1.j,  0,  0,  0,  0,  0],\n",
        "           [0,  0,  0,  0,  0, -1.j,  0,  0],\n",
        "           [0,  0,  0,  0, 1.j,  0,  0,  0],\n",
        "           [0,  0,  0,  0,  0,  0,  0, -1.j],\n",
        "           [0,  0,  0,  0,  0,  0, 1.j,  0]])\n",
        "sigma_y_I_I = np.array([[0,  0,  0,  0,  -1.j,  0,  0,  0],\n",
        "           [0,  0,  0,  0,  0, -1.j,  0,  0],\n",
        "           [0,  0,  0,  0,  0,  0, -1.j,  0],\n",
        "           [0,  0,  0,  0,  0,  0,  0, -1.j],\n",
        "           [1.j,  0,  0,  0,  0,  0,  0,  0],\n",
        "           [0,  1.j,  0,  0,  0,  0,  0,  0],\n",
        "           [0,  0,  1.j,  0,  0,  0,  0,  0],\n",
        "           [0,  0,  0, 1.j,  0,  0,  0,  0]])\n",
        "Isigma_y_I = np.array([[0,  0, -1.j,  0,  0,  0,  0,  0],\n",
        "           [0,  0,  0, -1.j,  0,  0,  0,  0],\n",
        "           [1.j,  0,  0,  0,  0,  0,  0,  0],\n",
        "           [0,  1.j,  0,  0,  0,  0,  0,  0],\n",
        "           [0,  0,  0,  0,  0,  0, -1.j,  0],\n",
        "           [0,  0,  0,  0,  0,  0,  0, -1.j],\n",
        "           [0,  0,   0,  0, 1.j,  0,  0,  0],\n",
        "           [0,  0,  0,  0,  0, 1.j,  0,  0]])\n",
        "Isigma_z_z = np.array([[1, 0, 0, 0, 0, 0, 0, 0],\n",
        "           [0, -1, 0, 0, 0, 0, 0, 0],\n",
        "           [0, 0, -1, 0, 0, 0, 0, 0],\n",
        "           [0, 0, 0,  1, 0, 0, 0, 0],\n",
        "           [0, 0, 0, 0,  1, 0, 0, 0],\n",
        "           [0, 0, 0, 0, 0, -1, 0, 0],\n",
        "           [0, 0, 0, 0, 0, 0, -1, 0],\n",
        "           [0, 0, 0, 0, 0, 0, 0, 1]])\n"
      ]
    },
    {
      "cell_type": "code",
      "execution_count": null,
      "metadata": {
        "id": "bd72f448"
      },
      "outputs": [],
      "source": [
        "def guess_control1(t, args , ampl0=0.2):\n",
        "    return ampl0 * krotov.shapes.flattop(\n",
        "        t, t_start=0, t_stop=700, t_rise=0.3, func=\"blackman\"\n",
        "    )\n",
        "\n",
        "def guess_control2(t, args , ampl0=0.2):\n",
        "    return ampl0 * krotov.shapes.flattop(\n",
        "        t, t_start=0, t_stop=700, t_rise=0.3, func=\"blackman\"\n",
        "    )\n",
        "\n",
        "def guess_control3(t, args , ampl0=0.2):\n",
        "    return ampl0 * krotov.shapes.flattop(\n",
        "        t, t_start=0, t_stop=700, t_rise=0.3, func=\"blackman\"\n",
        "    )\n",
        "def guess_control4(t, args , ampl0=0.2):\n",
        "    return ampl0 * krotov.shapes.flattop(\n",
        "        t, t_start=0, t_stop=700, t_rise=0.3, func=\"blackman\"\n",
        "    )\n",
        "def guess_control5(t, args , ampl0=0.2):\n",
        "    return ampl0 * krotov.shapes.flattop(\n",
        "        t, t_start=0, t_stop=700, t_rise=0.3, func=\"blackman\"\n",
        "    )\n",
        "def guess_control6(t, args , ampl0=0.2):\n",
        "    return ampl0 * krotov.shapes.flattop(\n",
        "        t, t_start=0, t_stop=700, t_rise=0.3, func=\"blackman\"\n",
        "    )"
      ]
    },
    {
      "cell_type": "code",
      "execution_count": null,
      "metadata": {
        "id": "f5cef87d"
      },
      "outputs": [],
      "source": [
        "def hamiltonian(omega1=1 ,omega2=3, omega3=2, ampl0=0.2, J1=0.047, J2=0.097, J3= 0.028  ):\n",
        "    H0 = qutip.Qobj((-0.5) *( omega1 * sigma_zII +  omega2 * Isigma_zI + omega3 * IIsigma_z)+ J1* (Isigma_z_z) + J2*(sigma_z_I_z) + J3*(sigma_z_z_I))\n",
        "    H1 = qutip.Qobj(IIsigma_x)\n",
        "    H2 = qutip.Qobj(Isigma_x_I)\n",
        "    H3 = qutip.Qobj(sigma_x_I_I)\n",
        "    H4 = qutip.Qobj(IIsigma_y)\n",
        "    H5 = qutip.Qobj(Isigma_y_I)\n",
        "    H6 = qutip.Qobj(sigma_y_I_I)\n",
        "\n",
        "    return [H0,[H1,guess_control1],[H2,guess_control2],[H3,guess_control3],[H4,guess_control4],[H5,guess_control5],[H6,guess_control6]]\n",
        "\n",
        "\n",
        "H = hamiltonian()"
      ]
    },
    {
      "cell_type": "code",
      "execution_count": null,
      "metadata": {
        "id": "9557924d",
        "outputId": "6ddb5f11-ec1a-4255-8efc-54ed7a898b09"
      },
      "outputs": [
        {
          "data": {
            "text/plain": [
              "[Quantum object: dims = [[8], [8]], shape = (8, 8), type = oper, isherm = True\n",
              " Qobj data =\n",
              " [[-2.828  0.     0.     0.     0.     0.     0.     0.   ]\n",
              "  [ 0.    -1.116  0.     0.     0.     0.     0.     0.   ]\n",
              "  [ 0.     0.     0.022  0.     0.     0.     0.     0.   ]\n",
              "  [ 0.     0.     0.     1.922  0.     0.     0.     0.   ]\n",
              "  [ 0.     0.     0.     0.    -2.078  0.     0.     0.   ]\n",
              "  [ 0.     0.     0.     0.     0.     0.022  0.     0.   ]\n",
              "  [ 0.     0.     0.     0.     0.     0.     0.884  0.   ]\n",
              "  [ 0.     0.     0.     0.     0.     0.     0.     3.172]],\n",
              " [Quantum object: dims = [[8], [8]], shape = (8, 8), type = oper, isherm = True\n",
              "  Qobj data =\n",
              "  [[0. 1. 0. 0. 0. 0. 0. 0.]\n",
              "   [1. 0. 0. 0. 0. 0. 0. 0.]\n",
              "   [0. 0. 0. 1. 0. 0. 0. 0.]\n",
              "   [0. 0. 1. 0. 0. 0. 0. 0.]\n",
              "   [0. 0. 0. 0. 0. 1. 0. 0.]\n",
              "   [0. 0. 0. 0. 1. 0. 0. 0.]\n",
              "   [0. 0. 0. 0. 0. 0. 0. 1.]\n",
              "   [0. 0. 0. 0. 0. 0. 1. 0.]],\n",
              "  <function __main__.guess_control1(t, args, ampl0=0.2)>],\n",
              " [Quantum object: dims = [[8], [8]], shape = (8, 8), type = oper, isherm = True\n",
              "  Qobj data =\n",
              "  [[0. 0. 1. 0. 0. 0. 0. 0.]\n",
              "   [0. 0. 0. 1. 0. 0. 0. 0.]\n",
              "   [1. 0. 0. 0. 0. 0. 0. 0.]\n",
              "   [0. 1. 0. 0. 0. 0. 0. 0.]\n",
              "   [0. 0. 0. 0. 0. 0. 1. 0.]\n",
              "   [0. 0. 0. 0. 0. 0. 0. 1.]\n",
              "   [0. 0. 0. 0. 1. 0. 0. 0.]\n",
              "   [0. 0. 0. 0. 0. 1. 0. 0.]],\n",
              "  <function __main__.guess_control2(t, args, ampl0=0.2)>],\n",
              " [Quantum object: dims = [[8], [8]], shape = (8, 8), type = oper, isherm = True\n",
              "  Qobj data =\n",
              "  [[0. 0. 0. 0. 1. 0. 0. 0.]\n",
              "   [0. 0. 0. 0. 0. 1. 0. 0.]\n",
              "   [0. 0. 0. 0. 0. 0. 1. 0.]\n",
              "   [0. 0. 0. 0. 0. 0. 0. 1.]\n",
              "   [1. 0. 0. 0. 0. 0. 0. 0.]\n",
              "   [0. 1. 0. 0. 0. 0. 0. 0.]\n",
              "   [0. 0. 1. 0. 0. 0. 0. 0.]\n",
              "   [0. 0. 0. 1. 0. 0. 0. 0.]],\n",
              "  <function __main__.guess_control3(t, args, ampl0=0.2)>],\n",
              " [Quantum object: dims = [[8], [8]], shape = (8, 8), type = oper, isherm = True\n",
              "  Qobj data =\n",
              "  [[0.+0.j 0.-1.j 0.+0.j 0.+0.j 0.+0.j 0.+0.j 0.+0.j 0.+0.j]\n",
              "   [0.+1.j 0.+0.j 0.+0.j 0.+0.j 0.+0.j 0.+0.j 0.+0.j 0.+0.j]\n",
              "   [0.+0.j 0.+0.j 0.+0.j 0.-1.j 0.+0.j 0.+0.j 0.+0.j 0.+0.j]\n",
              "   [0.+0.j 0.+0.j 0.+1.j 0.+0.j 0.+0.j 0.+0.j 0.+0.j 0.+0.j]\n",
              "   [0.+0.j 0.+0.j 0.+0.j 0.+0.j 0.+0.j 0.-1.j 0.+0.j 0.+0.j]\n",
              "   [0.+0.j 0.+0.j 0.+0.j 0.+0.j 0.+1.j 0.+0.j 0.+0.j 0.+0.j]\n",
              "   [0.+0.j 0.+0.j 0.+0.j 0.+0.j 0.+0.j 0.+0.j 0.+0.j 0.-1.j]\n",
              "   [0.+0.j 0.+0.j 0.+0.j 0.+0.j 0.+0.j 0.+0.j 0.+1.j 0.+0.j]],\n",
              "  <function __main__.guess_control4(t, args, ampl0=0.2)>],\n",
              " [Quantum object: dims = [[8], [8]], shape = (8, 8), type = oper, isherm = True\n",
              "  Qobj data =\n",
              "  [[0.+0.j 0.+0.j 0.-1.j 0.+0.j 0.+0.j 0.+0.j 0.+0.j 0.+0.j]\n",
              "   [0.+0.j 0.+0.j 0.+0.j 0.-1.j 0.+0.j 0.+0.j 0.+0.j 0.+0.j]\n",
              "   [0.+1.j 0.+0.j 0.+0.j 0.+0.j 0.+0.j 0.+0.j 0.+0.j 0.+0.j]\n",
              "   [0.+0.j 0.+1.j 0.+0.j 0.+0.j 0.+0.j 0.+0.j 0.+0.j 0.+0.j]\n",
              "   [0.+0.j 0.+0.j 0.+0.j 0.+0.j 0.+0.j 0.+0.j 0.-1.j 0.+0.j]\n",
              "   [0.+0.j 0.+0.j 0.+0.j 0.+0.j 0.+0.j 0.+0.j 0.+0.j 0.-1.j]\n",
              "   [0.+0.j 0.+0.j 0.+0.j 0.+0.j 0.+1.j 0.+0.j 0.+0.j 0.+0.j]\n",
              "   [0.+0.j 0.+0.j 0.+0.j 0.+0.j 0.+0.j 0.+1.j 0.+0.j 0.+0.j]],\n",
              "  <function __main__.guess_control5(t, args, ampl0=0.2)>],\n",
              " [Quantum object: dims = [[8], [8]], shape = (8, 8), type = oper, isherm = True\n",
              "  Qobj data =\n",
              "  [[0.+0.j 0.+0.j 0.+0.j 0.+0.j 0.-1.j 0.+0.j 0.+0.j 0.+0.j]\n",
              "   [0.+0.j 0.+0.j 0.+0.j 0.+0.j 0.+0.j 0.-1.j 0.+0.j 0.+0.j]\n",
              "   [0.+0.j 0.+0.j 0.+0.j 0.+0.j 0.+0.j 0.+0.j 0.-1.j 0.+0.j]\n",
              "   [0.+0.j 0.+0.j 0.+0.j 0.+0.j 0.+0.j 0.+0.j 0.+0.j 0.-1.j]\n",
              "   [0.+1.j 0.+0.j 0.+0.j 0.+0.j 0.+0.j 0.+0.j 0.+0.j 0.+0.j]\n",
              "   [0.+0.j 0.+1.j 0.+0.j 0.+0.j 0.+0.j 0.+0.j 0.+0.j 0.+0.j]\n",
              "   [0.+0.j 0.+0.j 0.+1.j 0.+0.j 0.+0.j 0.+0.j 0.+0.j 0.+0.j]\n",
              "   [0.+0.j 0.+0.j 0.+0.j 0.+1.j 0.+0.j 0.+0.j 0.+0.j 0.+0.j]],\n",
              "  <function __main__.guess_control6(t, args, ampl0=0.2)>]]"
            ]
          },
          "execution_count": 7,
          "metadata": {},
          "output_type": "execute_result"
        }
      ],
      "source": [
        "H"
      ]
    },
    {
      "cell_type": "code",
      "execution_count": null,
      "metadata": {
        "id": "a0a08899"
      },
      "outputs": [],
      "source": [
        "tlist = np.linspace(0, 700, 7000)"
      ]
    },
    {
      "cell_type": "code",
      "execution_count": null,
      "metadata": {
        "id": "f7fa8044",
        "outputId": "7f41b8cb-053a-4628-e1a3-457ec29be72a"
      },
      "outputs": [
        {
          "name": "stdout",
          "output_type": "stream",
          "text": [
            "Energy of qubit transition is 1.000\n"
          ]
        }
      ],
      "source": [
        "def logical_basis(H):\n",
        "    H0 = qutip.Qobj((-0.5) *( 1 * IIsigma_z +  3 * Isigma_zI + 2 * sigma_zII))\n",
        "    eigenvals, eigenvecs = scipy.linalg.eig(H0.full())\n",
        "    ndx = np.argsort(eigenvals.real)\n",
        "    E = eigenvals[ndx].real\n",
        "    V = eigenvecs[:, ndx]\n",
        "    psi000 = qutip.Qobj(V[:, 0])\n",
        "    psi001 = qutip.Qobj(V[:, 1])\n",
        "    psi010 = qutip.Qobj(V[:, 2])\n",
        "    psi011 = qutip.Qobj(V[:, 3])\n",
        "    psi100 = qutip.Qobj(V[:, 4])\n",
        "    psi101 = qutip.Qobj(V[:, 5])\n",
        "    psi110 = qutip.Qobj(V[:, 6])\n",
        "    psi111 = qutip.Qobj(V[:, 7])\n",
        "    w01 = E[1] - E[0]  # Transition energy between states\n",
        "    print(\"Energy of qubit transition is %.3f\" % w01)\n",
        "    return psi000, psi001, psi010, psi011, psi100, psi101, psi110, psi111\n",
        "\n",
        "psi000, psi001, psi010, psi011, psi100, psi101, psi110, psi111 = logical_basis(H)"
      ]
    },
    {
      "cell_type": "code",
      "execution_count": null,
      "metadata": {
        "id": "cbf41ca4"
      },
      "outputs": [],
      "source": [
        "proj000 = qutip.ket2dm(psi000)\n",
        "proj001 = qutip.ket2dm(psi001)\n",
        "proj010 = qutip.ket2dm(psi010)\n",
        "proj011 = qutip.ket2dm(psi011)\n",
        "proj100 = qutip.ket2dm(psi100)\n",
        "proj101 = qutip.ket2dm(psi101)\n",
        "proj110 = qutip.ket2dm(psi110)\n",
        "proj111 = qutip.ket2dm(psi111)"
      ]
    },
    {
      "cell_type": "code",
      "source": [],
      "metadata": {
        "id": "TqmKnBuMceh3"
      },
      "execution_count": null,
      "outputs": []
    },
    {
      "cell_type": "code",
      "execution_count": null,
      "metadata": {
        "id": "a7784d24",
        "outputId": "3c568acb-8529-4457-ddb2-808bc4eb9330"
      },
      "outputs": [
        {
          "data": {
            "text/plain": [
              "[Quantum object: dims = [[8], [1]], shape = (8, 1), type = ket\n",
              " Qobj data =\n",
              " [[1.]\n",
              "  [0.]\n",
              "  [0.]\n",
              "  [0.]\n",
              "  [0.]\n",
              "  [0.]\n",
              "  [0.]\n",
              "  [0.]],\n",
              " Quantum object: dims = [[8], [1]], shape = (8, 1), type = ket\n",
              " Qobj data =\n",
              " [[0.]\n",
              "  [1.]\n",
              "  [0.]\n",
              "  [0.]\n",
              "  [0.]\n",
              "  [0.]\n",
              "  [0.]\n",
              "  [0.]],\n",
              " Quantum object: dims = [[8], [1]], shape = (8, 1), type = ket\n",
              " Qobj data =\n",
              " [[0.]\n",
              "  [0.]\n",
              "  [0.]\n",
              "  [0.]\n",
              "  [1.]\n",
              "  [0.]\n",
              "  [0.]\n",
              "  [0.]],\n",
              " Quantum object: dims = [[8], [1]], shape = (8, 1), type = ket\n",
              " Qobj data =\n",
              " [[0.]\n",
              "  [0.]\n",
              "  [1.]\n",
              "  [0.]\n",
              "  [0.]\n",
              "  [0.]\n",
              "  [0.]\n",
              "  [0.]],\n",
              " Quantum object: dims = [[8], [1]], shape = (8, 1), type = ket\n",
              " Qobj data =\n",
              " [[0.]\n",
              "  [0.]\n",
              "  [0.]\n",
              "  [0.]\n",
              "  [0.]\n",
              "  [1.]\n",
              "  [0.]\n",
              "  [0.]],\n",
              " Quantum object: dims = [[8], [1]], shape = (8, 1), type = ket\n",
              " Qobj data =\n",
              " [[0.]\n",
              "  [0.]\n",
              "  [0.]\n",
              "  [1.]\n",
              "  [0.]\n",
              "  [0.]\n",
              "  [0.]\n",
              "  [0.]],\n",
              " Quantum object: dims = [[8], [1]], shape = (8, 1), type = ket\n",
              " Qobj data =\n",
              " [[0.]\n",
              "  [0.]\n",
              "  [0.]\n",
              "  [0.]\n",
              "  [0.]\n",
              "  [0.]\n",
              "  [1.]\n",
              "  [0.]],\n",
              " Quantum object: dims = [[8], [1]], shape = (8, 1), type = ket\n",
              " Qobj data =\n",
              " [[0.]\n",
              "  [0.]\n",
              "  [0.]\n",
              "  [0.]\n",
              "  [0.]\n",
              "  [0.]\n",
              "  [0.]\n",
              "  [1.]]]"
            ]
          },
          "execution_count": 12,
          "metadata": {},
          "output_type": "execute_result"
        }
      ],
      "source": [
        "basis = [psi000, psi001, psi010, psi011, psi100, psi101, psi110, psi111]\n",
        "basis"
      ]
    },
    {
      "cell_type": "code",
      "execution_count": null,
      "metadata": {
        "id": "057e483e"
      },
      "outputs": [],
      "source": [
        "\n",
        "objectives=[0]*100\n",
        "for i in range(100):\n",
        "  objectives[i] = krotov.gate_objectives(\n",
        "      basis_states=[psi000, psi001, psi010, psi011, psi100, psi101, psi110, psi111], gate=RandU_3Q[i], H=H\n",
        "  )\n",
        "\n",
        "\n",
        "\n",
        "def S(t):\n",
        "    \"\"\"Scales the Krotov methods update of the pulse value at the time t\"\"\"\n",
        "    return krotov.shapes.flattop(\n",
        "        t, t_start=0, t_stop=700, t_rise=0.3, t_fall=0.3, func='blackman'\n",
        "   )\n",
        "\n",
        "\n",
        "pulse_options = {\n",
        "    H[1][1]: dict(lambda_a=1, update_shape=S),\n",
        "    H[2][1]: dict(lambda_a=1, update_shape=S),\n",
        "    H[3][1]: dict(lambda_a=1, update_shape=S),\n",
        "    H[4][1]: dict(lambda_a=1, update_shape=S),\n",
        "    H[5][1]: dict(lambda_a=1, update_shape=S),\n",
        "    H[6][1]: dict(lambda_a=1, update_shape=S)\n",
        "}"
      ]
    },
    {
      "cell_type": "code",
      "execution_count": null,
      "metadata": {
        "id": "e582fd8a",
        "outputId": "a6b7f3c1-5d44-4106-bbb9-0661bf453403"
      },
      "outputs": [
        {
          "name": "stdout",
          "output_type": "stream",
          "text": [
            "iter.      J_T   ∑∫gₐ(t)dt          J       ΔJ_T         ΔJ  secs\n",
            "0     9.59e-01    0.00e+00   9.59e-01        n/a        n/a   371\n",
            "1     3.66e-01    1.09e-01   4.75e-01  -5.93e-01  -4.84e-01   703\n",
            "2     3.19e-02    1.50e-01   1.82e-01  -3.34e-01  -1.84e-01   689\n",
            "3     5.39e-03    1.33e-02   1.87e-02  -2.65e-02  -1.33e-02   701\n",
            "4     1.49e-03    1.97e-03   3.46e-03  -3.90e-03  -1.93e-03   793\n",
            "5     7.27e-04    3.85e-04   1.11e-03  -7.62e-04  -3.77e-04   671\n",
            "iter.      J_T   ∑∫gₐ(t)dt          J       ΔJ_T         ΔJ  secs\n",
            "0     8.98e-01    0.00e+00   8.98e-01        n/a        n/a   412\n",
            "1     5.32e-02    2.08e-01   2.61e-01  -8.45e-01  -6.38e-01   780\n",
            "2     1.80e-02    1.76e-02   3.56e-02  -3.52e-02  -1.76e-02   606\n",
            "3     1.07e-02    3.70e-03   1.43e-02  -7.36e-03  -3.66e-03   745\n",
            "4     6.98e-03    1.85e-03   8.82e-03  -3.67e-03  -1.83e-03   817\n",
            "5     4.73e-03    1.13e-03   5.86e-03  -2.25e-03  -1.12e-03   657\n",
            "6     3.28e-03    7.27e-04   4.01e-03  -1.45e-03  -7.19e-04   721\n",
            "7     2.36e-03    4.64e-04   2.82e-03  -9.24e-04  -4.59e-04   609\n",
            "8     1.74e-03    3.08e-04   2.05e-03  -6.12e-04  -3.04e-04   640\n",
            "9     1.33e-03    2.07e-04   1.54e-03  -4.13e-04  -2.05e-04   677\n",
            "10    1.04e-03    1.46e-04   1.19e-03  -2.91e-04  -1.44e-04   606\n",
            "11    8.30e-04    1.06e-04   9.36e-04  -2.10e-04  -1.04e-04   802\n"
          ]
        }
      ],
      "source": [
        "results=[]\n",
        "for i in range(2):\n",
        "\n",
        "  opt_result = krotov.optimize_pulses(\n",
        "      objectives[i],\n",
        "      pulse_options=pulse_options,\n",
        "      tlist=tlist,\n",
        "      propagator=krotov.propagators.expm,\n",
        "      chi_constructor=krotov.functionals.chis_sm,\n",
        "      info_hook=krotov.info_hooks.print_table(J_T=krotov.functionals.J_T_sm),\n",
        "      check_convergence=krotov.convergence.Or(\n",
        "          krotov.convergence.value_below('1e-3', name='J_T'),\n",
        "          krotov.convergence.delta_below(1e-5),\n",
        "          krotov.convergence.check_monotonic_error,\n",
        "      ),\n",
        "      store_all_pulses=True,\n",
        "  )\n",
        "\n",
        "  results.append(opt_result)\n",
        "\n",
        "\n",
        "  #j_f=[]\n",
        "  #j_f.append(opt_result.info_vals)\n",
        "#print(j_f)\n"
      ]
    },
    {
      "cell_type": "code",
      "execution_count": null,
      "metadata": {
        "id": "9a58f18c",
        "outputId": "9b13624d-1f27-4d8e-8a3a-25006cb00530"
      },
      "outputs": [
        {
          "data": {
            "text/plain": [
              "Krotov Optimization Result\n",
              "--------------------------\n",
              "- Started at 2023-06-09 11:10:01\n",
              "- Number of objectives: 8\n",
              "- Number of iterations: 5\n",
              "- Reason for termination: Reached convergence: J_T < 1e-3\n",
              "- Ended at 2023-06-09 12:15:32 (1:05:31)"
            ]
          },
          "execution_count": 15,
          "metadata": {},
          "output_type": "execute_result"
        }
      ],
      "source": [
        "results[0]"
      ]
    },
    {
      "cell_type": "code",
      "execution_count": null,
      "metadata": {
        "id": "fea4d251",
        "outputId": "8f468804-59d4-4375-ca65-5ca4d70cca30"
      },
      "outputs": [
        {
          "data": {
            "text/plain": [
              "Krotov Optimization Result\n",
              "--------------------------\n",
              "- Started at 2023-06-09 12:15:32\n",
              "- Number of objectives: 8\n",
              "- Number of iterations: 11\n",
              "- Reason for termination: Reached convergence: J_T < 1e-3\n",
              "- Ended at 2023-06-09 14:30:10 (2:14:38)"
            ]
          },
          "execution_count": 16,
          "metadata": {},
          "output_type": "execute_result"
        }
      ],
      "source": [
        "results[1]"
      ]
    },
    {
      "cell_type": "code",
      "execution_count": null,
      "metadata": {
        "id": "3f81216f"
      },
      "outputs": [],
      "source": [
        "J_F_3Q_J2_6K1=[]\n",
        "for i in range(2):\n",
        "  J_F_3Q_J2_6K1.append(results[i].info_vals)"
      ]
    },
    {
      "cell_type": "code",
      "execution_count": null,
      "metadata": {
        "id": "34182044",
        "outputId": "55da1875-0c64-417d-8fb5-4255d696c11e"
      },
      "outputs": [
        {
          "name": "stdout",
          "output_type": "stream",
          "text": [
            "iter.      J_T   ∑∫gₐ(t)dt          J       ΔJ_T         ΔJ  secs\n",
            "0     9.65e-01    0.00e+00   9.65e-01        n/a        n/a   398\n",
            "1     5.70e-01    8.45e-02   6.54e-01  -3.95e-01  -3.11e-01   762\n",
            "2     2.22e-01    1.49e-01   3.72e-01  -3.47e-01  -1.98e-01   650\n",
            "3     1.07e-01    5.60e-02   1.63e-01  -1.15e-01  -5.94e-02   610\n",
            "4     5.91e-02    2.38e-02   8.29e-02  -4.80e-02  -2.42e-02   769\n",
            "5     3.24e-02    1.34e-02   4.57e-02  -2.67e-02  -1.34e-02   733\n",
            "6     1.84e-02    6.97e-03   2.54e-02  -1.39e-02  -6.95e-03   628\n",
            "7     1.11e-02    3.66e-03   1.48e-02  -7.29e-03  -3.63e-03   625\n",
            "8     7.08e-03    2.05e-03   9.12e-03  -4.07e-03  -2.03e-03   614\n",
            "9     4.73e-03    1.18e-03   5.91e-03  -2.35e-03  -1.17e-03   724\n",
            "10    3.30e-03    7.20e-04   4.02e-03  -1.43e-03  -7.09e-04   647\n",
            "11    2.40e-03    4.57e-04   2.85e-03  -9.05e-04  -4.49e-04   689\n",
            "12    1.78e-03    3.09e-04   2.09e-03  -6.13e-04  -3.04e-04   639\n",
            "14    1.03e-03    1.60e-04   1.19e-03  -3.16e-04  -1.57e-04   588\n",
            "15    7.97e-04    1.18e-04   9.15e-04  -2.34e-04  -1.16e-04   756\n",
            "iter.      J_T   ∑∫gₐ(t)dt          J       ΔJ_T         ΔJ  secs\n",
            "0     9.79e-01    0.00e+00   9.79e-01        n/a        n/a   275\n",
            "1     4.59e-01    7.96e-02   5.38e-01  -5.20e-01  -4.41e-01   598\n",
            "2     8.42e-02    1.62e-01   2.46e-01  -3.75e-01  -2.13e-01   631\n",
            "3     1.71e-02    3.31e-02   5.02e-02  -6.70e-02  -3.39e-02   628\n",
            "4     4.36e-03    6.44e-03   1.08e-02  -1.28e-02  -6.34e-03   679\n",
            "5     2.19e-03    1.09e-03   3.28e-03  -2.17e-03  -1.08e-03   824\n",
            "6     1.38e-03    4.08e-04   1.79e-03  -8.07e-04  -3.99e-04   679\n",
            "7     1.04e-03    1.75e-04   1.21e-03  -3.46e-04  -1.71e-04   655\n",
            "8     8.24e-04    1.08e-04   9.32e-04  -2.15e-04  -1.06e-04   646\n"
          ]
        }
      ],
      "source": [
        "results2=[]\n",
        "for i in range(2, 4):\n",
        "\n",
        "  opt_result = krotov.optimize_pulses(\n",
        "      objectives[i],\n",
        "      pulse_options=pulse_options,\n",
        "      tlist=tlist,\n",
        "      propagator=krotov.propagators.expm,\n",
        "      chi_constructor=krotov.functionals.chis_sm,\n",
        "      info_hook=krotov.info_hooks.print_table(J_T=krotov.functionals.J_T_sm),\n",
        "      check_convergence=krotov.convergence.Or(\n",
        "          krotov.convergence.value_below('1e-3', name='J_T'),\n",
        "          krotov.convergence.delta_below(1e-5),\n",
        "          krotov.convergence.check_monotonic_error,\n",
        "      ),\n",
        "      store_all_pulses=True,\n",
        "  )\n",
        "\n",
        "  results2.append(opt_result)\n",
        "\n",
        "\n",
        "  #j_f=[]\n",
        "  #j_f.append(opt_result.info_vals)\n",
        "#print(j_f)\n"
      ]
    },
    {
      "cell_type": "code",
      "execution_count": null,
      "metadata": {
        "id": "23890b77",
        "outputId": "f2ecb941-bdb2-47de-949c-485d9a3401d9"
      },
      "outputs": [
        {
          "data": {
            "text/plain": [
              "Krotov Optimization Result\n",
              "--------------------------\n",
              "- Started at 2023-06-09 14:32:28\n",
              "- Number of objectives: 8\n",
              "- Number of iterations: 15\n",
              "- Reason for termination: Reached convergence: J_T < 1e-3\n",
              "- Ended at 2023-06-09 17:27:19 (2:54:51)"
            ]
          },
          "execution_count": 22,
          "metadata": {},
          "output_type": "execute_result"
        }
      ],
      "source": [
        "results2[0]"
      ]
    },
    {
      "cell_type": "code",
      "execution_count": null,
      "metadata": {
        "id": "8c483b88",
        "outputId": "2f6e0387-d55d-4b2a-fc48-86c07b06b117"
      },
      "outputs": [
        {
          "data": {
            "text/plain": [
              "Krotov Optimization Result\n",
              "--------------------------\n",
              "- Started at 2023-06-09 14:32:28\n",
              "- Number of objectives: 8\n",
              "- Number of iterations: 15\n",
              "- Reason for termination: Reached convergence: J_T < 1e-3\n",
              "- Ended at 2023-06-09 17:27:19 (2:54:51)"
            ]
          },
          "execution_count": 23,
          "metadata": {},
          "output_type": "execute_result"
        }
      ],
      "source": [
        "results2[0]"
      ]
    },
    {
      "cell_type": "code",
      "execution_count": null,
      "metadata": {
        "id": "566061f4"
      },
      "outputs": [],
      "source": [
        "J_F_3Q_J2_6K2=[]\n",
        "for i in range(2):\n",
        "  J_F_3Q_J2_6K2.append(results2[i].info_vals)"
      ]
    },
    {
      "cell_type": "code",
      "execution_count": null,
      "metadata": {
        "id": "b64b53f8",
        "outputId": "9bed5efc-1900-4382-ec44-232de5902b0b"
      },
      "outputs": [
        {
          "name": "stdout",
          "output_type": "stream",
          "text": [
            "iter.      J_T   ∑∫gₐ(t)dt          J       ΔJ_T         ΔJ  secs\n",
            "0     9.98e-01    0.00e+00   9.98e-01        n/a        n/a   328\n",
            "1     6.17e-01    2.31e-02   6.40e-01  -3.82e-01  -3.59e-01   659\n",
            "2     1.41e-01    1.89e-01   3.30e-01  -4.76e-01  -2.87e-01   694\n",
            "3     2.96e-02    5.42e-02   8.38e-02  -1.11e-01  -5.69e-02   710\n",
            "4     9.98e-03    9.85e-03   1.98e-02  -1.97e-02  -9.81e-03   765\n",
            "5     3.84e-03    3.08e-03   6.92e-03  -6.13e-03  -3.05e-03   899\n",
            "6     1.53e-03    1.16e-03   2.69e-03  -2.31e-03  -1.15e-03   665\n",
            "7     7.06e-04    4.15e-04   1.12e-03  -8.27e-04  -4.12e-04   799\n",
            "iter.      J_T   ∑∫gₐ(t)dt          J       ΔJ_T         ΔJ  secs\n",
            "0     9.63e-01    0.00e+00   9.63e-01        n/a        n/a   413\n",
            "1     4.20e-01    1.08e-01   5.28e-01  -5.43e-01  -4.35e-01   696\n",
            "2     9.11e-02    1.46e-01   2.37e-01  -3.29e-01  -1.83e-01   644\n",
            "3     9.45e-03    4.01e-02   4.95e-02  -8.17e-02  -4.16e-02   609\n",
            "4     2.84e-03    3.32e-03   6.16e-03  -6.61e-03  -3.29e-03   887\n",
            "5     1.14e-03    8.58e-04   2.00e-03  -1.70e-03  -8.44e-04   668\n",
            "6     5.77e-04    2.83e-04   8.60e-04  -5.60e-04  -2.77e-04   616\n"
          ]
        }
      ],
      "source": [
        "results3=[]\n",
        "for i in range(4, 6):\n",
        "\n",
        "  opt_result = krotov.optimize_pulses(\n",
        "      objectives[i],\n",
        "      pulse_options=pulse_options,\n",
        "      tlist=tlist,\n",
        "      propagator=krotov.propagators.expm,\n",
        "      chi_constructor=krotov.functionals.chis_sm,\n",
        "      info_hook=krotov.info_hooks.print_table(J_T=krotov.functionals.J_T_sm),\n",
        "      check_convergence=krotov.convergence.Or(\n",
        "          krotov.convergence.value_below('1e-3', name='J_T'),\n",
        "          krotov.convergence.delta_below(1e-5),\n",
        "          krotov.convergence.check_monotonic_error,\n",
        "      ),\n",
        "      store_all_pulses=True,\n",
        "  )\n",
        "\n",
        "  results3.append(opt_result)\n",
        "\n",
        "\n",
        "  #j_f=[]\n",
        "  #j_f.append(opt_result.info_vals)\n",
        "#print(j_f)\n"
      ]
    },
    {
      "cell_type": "code",
      "execution_count": null,
      "metadata": {
        "id": "22ac8dc6",
        "outputId": "855cde04-0902-4700-b0d1-3886f1afa391"
      },
      "outputs": [
        {
          "data": {
            "text/plain": [
              "Krotov Optimization Result\n",
              "--------------------------\n",
              "- Started at 2023-06-09 19:11:18\n",
              "- Number of objectives: 8\n",
              "- Number of iterations: 7\n",
              "- Reason for termination: Reached convergence: J_T < 1e-3\n",
              "- Ended at 2023-06-09 20:43:22 (1:32:04)"
            ]
          },
          "execution_count": 29,
          "metadata": {},
          "output_type": "execute_result"
        }
      ],
      "source": [
        "results3[0]"
      ]
    },
    {
      "cell_type": "code",
      "execution_count": null,
      "metadata": {
        "id": "1efc5b2c",
        "outputId": "9449e892-e771-47e1-9804-4f35b145321f"
      },
      "outputs": [
        {
          "data": {
            "text/plain": [
              "Krotov Optimization Result\n",
              "--------------------------\n",
              "- Started at 2023-06-09 20:43:23\n",
              "- Number of objectives: 8\n",
              "- Number of iterations: 6\n",
              "- Reason for termination: Reached convergence: J_T < 1e-3\n",
              "- Ended at 2023-06-09 21:59:01 (1:15:38)"
            ]
          },
          "execution_count": 30,
          "metadata": {},
          "output_type": "execute_result"
        }
      ],
      "source": [
        "results3[1]"
      ]
    },
    {
      "cell_type": "code",
      "execution_count": null,
      "metadata": {
        "id": "8a2f603c"
      },
      "outputs": [],
      "source": [
        "J_F_3Q_J2_6K3=[]\n",
        "for i in range(2):\n",
        "  J_F_3Q_J2_6K3.append(results3[i].info_vals)"
      ]
    },
    {
      "cell_type": "code",
      "execution_count": null,
      "metadata": {
        "id": "79138db0",
        "outputId": "0c7c696e-8d4d-479f-bd96-681e87c745ff"
      },
      "outputs": [
        {
          "name": "stdout",
          "output_type": "stream",
          "text": [
            "iter.      J_T   ∑∫gₐ(t)dt          J       ΔJ_T         ΔJ  secs\n",
            "0     9.85e-01    0.00e+00   9.85e-01        n/a        n/a   291\n",
            "1     4.21e-01    7.62e-02   4.97e-01  -5.64e-01  -4.88e-01   684\n",
            "2     1.28e-01    1.30e-01   2.58e-01  -2.93e-01  -1.63e-01   613\n",
            "3     4.85e-02    3.91e-02   8.76e-02  -7.94e-02  -4.03e-02   671\n",
            "4     2.60e-02    1.12e-02   3.73e-02  -2.24e-02  -1.12e-02   719\n",
            "5     1.54e-02    5.33e-03   2.08e-02  -1.06e-02  -5.27e-03   840\n",
            "6     1.01e-02    2.70e-03   1.28e-02  -5.36e-03  -2.66e-03   775\n",
            "7     7.13e-03    1.49e-03   8.61e-03  -2.95e-03  -1.47e-03   800\n",
            "8     5.34e-03    9.01e-04   6.24e-03  -1.79e-03  -8.88e-04   788\n",
            "9     4.12e-03    6.16e-04   4.73e-03  -1.22e-03  -6.06e-04   797\n",
            "10    3.21e-03    4.55e-04   3.67e-03  -9.02e-04  -4.47e-04   820\n",
            "11    2.52e-03    3.49e-04   2.87e-03  -6.92e-04  -3.43e-04   809\n",
            "12    1.98e-03    2.73e-04   2.25e-03  -5.42e-04  -2.68e-04   697\n",
            "13    1.55e-03    2.15e-04   1.77e-03  -4.27e-04  -2.12e-04   777\n",
            "14    1.22e-03    1.69e-04   1.39e-03  -3.36e-04  -1.67e-04   694\n",
            "15    9.55e-04    1.32e-04   1.09e-03  -2.62e-04  -1.30e-04   623\n",
            "iter.      J_T   ∑∫gₐ(t)dt          J       ΔJ_T         ΔJ  secs\n",
            "0     9.83e-01    0.00e+00   9.83e-01        n/a        n/a   289\n",
            "1     6.13e-01    6.39e-02   6.77e-01  -3.69e-01  -3.06e-01   679\n",
            "2     1.07e-01    1.99e-01   3.06e-01  -5.06e-01  -3.07e-01   598\n",
            "3     1.35e-02    4.57e-02   5.92e-02  -9.33e-02  -4.76e-02   872\n",
            "4     2.69e-03    5.44e-03   8.13e-03  -1.08e-02  -5.38e-03   611\n",
            "5     1.15e-03    7.80e-04   1.93e-03  -1.54e-03  -7.63e-04   694\n",
            "6     6.46e-04    2.55e-04   9.01e-04  -5.03e-04  -2.48e-04   680\n"
          ]
        }
      ],
      "source": [
        "results4=[]\n",
        "for i in range(6, 8):\n",
        "\n",
        "  opt_result = krotov.optimize_pulses(\n",
        "      objectives[i],\n",
        "      pulse_options=pulse_options,\n",
        "      tlist=tlist,\n",
        "      propagator=krotov.propagators.expm,\n",
        "      chi_constructor=krotov.functionals.chis_sm,\n",
        "      info_hook=krotov.info_hooks.print_table(J_T=krotov.functionals.J_T_sm),\n",
        "      check_convergence=krotov.convergence.Or(\n",
        "          krotov.convergence.value_below('1e-3', name='J_T'),\n",
        "          krotov.convergence.delta_below(1e-5),\n",
        "          krotov.convergence.check_monotonic_error,\n",
        "      ),\n",
        "      store_all_pulses=True,\n",
        "  )\n",
        "\n",
        "  results4.append(opt_result)\n",
        "\n",
        "\n",
        "  #j_f=[]\n",
        "  #j_f.append(opt_result.info_vals)\n",
        "#print(j_f)\n"
      ]
    },
    {
      "cell_type": "code",
      "execution_count": null,
      "metadata": {
        "id": "b46d2fc1",
        "outputId": "ba01ece0-b4f7-444f-ed78-dfec36dfb643"
      },
      "outputs": [
        {
          "data": {
            "text/plain": [
              "Krotov Optimization Result\n",
              "--------------------------\n",
              "- Started at 2023-06-10 03:18:20\n",
              "- Number of objectives: 8\n",
              "- Number of iterations: 15\n",
              "- Reason for termination: Reached convergence: J_T < 1e-3\n",
              "- Ended at 2023-06-10 06:28:26 (3:10:06)"
            ]
          },
          "execution_count": 36,
          "metadata": {},
          "output_type": "execute_result"
        }
      ],
      "source": [
        "results4[0]"
      ]
    },
    {
      "cell_type": "code",
      "execution_count": null,
      "metadata": {
        "id": "52ceac8e",
        "outputId": "9d6dff44-60d0-449a-e19f-a03dbfa539d7"
      },
      "outputs": [
        {
          "data": {
            "text/plain": [
              "Krotov Optimization Result\n",
              "--------------------------\n",
              "- Started at 2023-06-10 06:28:26\n",
              "- Number of objectives: 8\n",
              "- Number of iterations: 6\n",
              "- Reason for termination: Reached convergence: J_T < 1e-3\n",
              "- Ended at 2023-06-10 07:42:14 (1:13:48)"
            ]
          },
          "execution_count": 37,
          "metadata": {},
          "output_type": "execute_result"
        }
      ],
      "source": [
        "results4[1]"
      ]
    },
    {
      "cell_type": "code",
      "execution_count": null,
      "metadata": {
        "id": "80f8dbbd"
      },
      "outputs": [],
      "source": [
        "J_F_3Q_J2_6K4=[]\n",
        "for i in range(2):\n",
        "  J_F_3Q_J2_6K4.append(results4[i].info_vals)"
      ]
    },
    {
      "cell_type": "code",
      "execution_count": null,
      "metadata": {
        "id": "5471e53b",
        "outputId": "62e8c5a1-debf-4f55-8a68-5fcb7f01e89a"
      },
      "outputs": [
        {
          "name": "stdout",
          "output_type": "stream",
          "text": [
            "iter.      J_T   ∑∫gₐ(t)dt          J       ΔJ_T         ΔJ  secs\n",
            "0     9.70e-01    0.00e+00   9.70e-01        n/a        n/a   353\n",
            "1     4.22e-01    9.54e-02   5.17e-01  -5.48e-01  -4.52e-01   624\n",
            "2     7.16e-02    1.54e-01   2.26e-01  -3.50e-01  -1.96e-01   656\n",
            "3     9.38e-03    3.07e-02   4.01e-02  -6.22e-02  -3.15e-02   732\n",
            "4     2.81e-03    3.31e-03   6.12e-03  -6.56e-03  -3.25e-03   599\n",
            "5     1.11e-03    8.56e-04   1.97e-03  -1.70e-03  -8.41e-04   705\n",
            "6     5.94e-04    2.63e-04   8.57e-04  -5.20e-04  -2.57e-04   755\n",
            "iter.      J_T   ∑∫gₐ(t)dt          J       ΔJ_T         ΔJ  secs\n",
            "0     9.55e-01    0.00e+00   9.55e-01        n/a        n/a   283\n",
            "1     3.73e-01    1.23e-01   4.95e-01  -5.83e-01  -4.60e-01   613\n",
            "2     1.13e-01    1.19e-01   2.33e-01  -2.59e-01  -1.40e-01   597\n",
            "3     2.66e-02    4.25e-02   6.91e-02  -8.68e-02  -4.43e-02   625\n",
            "4     8.35e-03    9.09e-03   1.74e-02  -1.82e-02  -9.11e-03   644\n",
            "5     3.36e-03    2.51e-03   5.87e-03  -4.99e-03  -2.49e-03   698\n",
            "6     1.62e-03    8.71e-04   2.49e-03  -1.74e-03  -8.64e-04   810\n",
            "7     9.91e-04    3.18e-04   1.31e-03  -6.32e-04  -3.14e-04   852\n"
          ]
        }
      ],
      "source": [
        "results5=[]\n",
        "for i in range(8, 10):\n",
        "\n",
        "  opt_result = krotov.optimize_pulses(\n",
        "      objectives[i],\n",
        "      pulse_options=pulse_options,\n",
        "      tlist=tlist,\n",
        "      propagator=krotov.propagators.expm,\n",
        "      chi_constructor=krotov.functionals.chis_sm,\n",
        "      info_hook=krotov.info_hooks.print_table(J_T=krotov.functionals.J_T_sm),\n",
        "      check_convergence=krotov.convergence.Or(\n",
        "          krotov.convergence.value_below('1e-3', name='J_T'),\n",
        "          krotov.convergence.delta_below(1e-5),\n",
        "          krotov.convergence.check_monotonic_error,\n",
        "      ),\n",
        "      store_all_pulses=True,\n",
        "  )\n",
        "\n",
        "  results5.append(opt_result)\n",
        "\n",
        "\n",
        "  #j_f=[]\n",
        "  #j_f.append(opt_result.info_vals)\n",
        "#print(j_f)\n"
      ]
    },
    {
      "cell_type": "code",
      "execution_count": null,
      "metadata": {
        "id": "6cecdc85",
        "outputId": "af200dd2-dc49-47a9-90e1-4e0f81bda4d6"
      },
      "outputs": [
        {
          "data": {
            "text/plain": [
              "Krotov Optimization Result\n",
              "--------------------------\n",
              "- Started at 2023-06-10 08:28:39\n",
              "- Number of objectives: 8\n",
              "- Number of iterations: 6\n",
              "- Reason for termination: Reached convergence: J_T < 1e-3\n",
              "- Ended at 2023-06-10 09:42:27 (1:13:48)"
            ]
          },
          "execution_count": 45,
          "metadata": {},
          "output_type": "execute_result"
        }
      ],
      "source": [
        "results5[0]"
      ]
    },
    {
      "cell_type": "code",
      "execution_count": null,
      "metadata": {
        "id": "11e2bfc6",
        "outputId": "05b8d169-d320-417d-ba32-d35cd7555ff3"
      },
      "outputs": [
        {
          "data": {
            "text/plain": [
              "Krotov Optimization Result\n",
              "--------------------------\n",
              "- Started at 2023-06-10 09:42:27\n",
              "- Number of objectives: 8\n",
              "- Number of iterations: 7\n",
              "- Reason for termination: Reached convergence: J_T < 1e-3\n",
              "- Ended at 2023-06-10 11:07:54 (1:25:27)"
            ]
          },
          "execution_count": 46,
          "metadata": {},
          "output_type": "execute_result"
        }
      ],
      "source": [
        "results5[1]"
      ]
    },
    {
      "cell_type": "code",
      "execution_count": null,
      "metadata": {
        "id": "b831491c"
      },
      "outputs": [],
      "source": [
        "J_F_3Q_J2_6K5=[]\n",
        "for i in range(2):\n",
        "  J_F_3Q_J2_6K5.append(results5[i].info_vals)"
      ]
    }
  ]
}
