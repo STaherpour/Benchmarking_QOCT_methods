{
  "nbformat": 4,
  "nbformat_minor": 0,
  "metadata": {
    "colab": {
      "provenance": []
    },
    "kernelspec": {
      "name": "python3",
      "display_name": "Python 3"
    },
    "language_info": {
      "name": "python"
    }
  },
  "cells": [
    {
      "cell_type": "code",
      "execution_count": null,
      "metadata": {
        "id": "TlvODX4gc4SF"
      },
      "outputs": [],
      "source": [
        "!pip install qutip"
      ]
    },
    {
      "cell_type": "code",
      "source": [
        "!pip install krotov"
      ],
      "metadata": {
        "id": "Yue3rnDec7hC"
      },
      "execution_count": null,
      "outputs": []
    },
    {
      "cell_type": "code",
      "source": [
        "import sys\n",
        "import os\n",
        "import qutip\n",
        "import numpy as np\n",
        "import scipy\n",
        "import matplotlib\n",
        "import matplotlib.pylab as plt\n",
        "import krotov\n",
        "from scipy.fftpack import fft\n",
        "from scipy.interpolate import interp1d\n"
      ],
      "metadata": {
        "id": "nY5MIoSsc9Oy"
      },
      "execution_count": 3,
      "outputs": []
    },
    {
      "cell_type": "code",
      "source": [
        "def guess_control1(t, args , ampl0=0.2):\n",
        "    return ampl0 * krotov.shapes.flattop(\n",
        "        t, t_start=0, t_stop=5, t_rise=0.3, func=\"blackman\"\n",
        "    )\n",
        "def guess_control2(t , args,ampl0=0.2):\n",
        "    return ampl0 * krotov.shapes.flattop(\n",
        "        t, t_start=0, t_stop=5, t_rise=0.3, func=\"blackman\"\n",
        "    )"
      ],
      "metadata": {
        "id": "m_Zt_9D7dCTC"
      },
      "execution_count": 4,
      "outputs": []
    },
    {
      "cell_type": "code",
      "source": [
        "def hamiltonian(omega=1 , ampl0=0.2 ):\n",
        "    H0 = -0.5 * omega * qutip.operators.sigmaz()\n",
        "    H1 = qutip.operators.sigmax()\n",
        "    H2 = qutip.operators.sigmay()\n",
        "\n",
        "    return [H0,[H1,guess_control1],[H2,guess_control2]]\n"
      ],
      "metadata": {
        "id": "6jeeIzvfdD3f"
      },
      "execution_count": 5,
      "outputs": []
    },
    {
      "cell_type": "code",
      "source": [
        "H = hamiltonian()\n",
        "H"
      ],
      "metadata": {
        "colab": {
          "base_uri": "https://localhost:8080/"
        },
        "id": "3LpvurP6dFZe",
        "outputId": "0d4688de-54fa-4f9e-9b1e-87416260bf42"
      },
      "execution_count": 6,
      "outputs": [
        {
          "output_type": "execute_result",
          "data": {
            "text/plain": [
              "[Quantum object: dims = [[2], [2]], shape = (2, 2), type = oper, isherm = True\n",
              " Qobj data =\n",
              " [[-0.5  0. ]\n",
              "  [ 0.   0.5]],\n",
              " [Quantum object: dims = [[2], [2]], shape = (2, 2), type = oper, isherm = True\n",
              "  Qobj data =\n",
              "  [[0. 1.]\n",
              "   [1. 0.]],\n",
              "  <function __main__.guess_control1(t, args, ampl0=0.2)>],\n",
              " [Quantum object: dims = [[2], [2]], shape = (2, 2), type = oper, isherm = True\n",
              "  Qobj data =\n",
              "  [[0.+0.j 0.-1.j]\n",
              "   [0.+1.j 0.+0.j]],\n",
              "  <function __main__.guess_control2(t, args, ampl0=0.2)>]]"
            ]
          },
          "metadata": {},
          "execution_count": 6
        }
      ]
    },
    {
      "cell_type": "code",
      "source": [
        "tlist = np.linspace(0, 5, 500)"
      ],
      "metadata": {
        "id": "t1TOHWIFdG7V"
      },
      "execution_count": 7,
      "outputs": []
    },
    {
      "cell_type": "code",
      "source": [
        "def logical_basis(H):\n",
        "    H0 = H[0]\n",
        "    eigenvals, eigenvecs = scipy.linalg.eig(H0.full())\n",
        "    ndx = np.argsort(eigenvals.real)\n",
        "    E = eigenvals[ndx].real\n",
        "    V = eigenvecs[:, ndx]\n",
        "    psi0 = qutip.Qobj(V[:, 0])\n",
        "    psi1 = qutip.Qobj(V[:, 1])\n",
        "    w01 = E[1] - E[0]  # Transition energy between states\n",
        "    print(\"Energy of qubit transition is %.3f\" % w01)\n",
        "    return psi0, psi1\n",
        "\n",
        "psi0, psi1 = logical_basis(H)"
      ],
      "metadata": {
        "colab": {
          "base_uri": "https://localhost:8080/"
        },
        "id": "e1oAnQKjdIjK",
        "outputId": "5148deb6-a365-4142-ccd7-49844eded989"
      },
      "execution_count": 8,
      "outputs": [
        {
          "output_type": "stream",
          "name": "stdout",
          "text": [
            "Energy of qubit transition is 1.000\n"
          ]
        }
      ]
    },
    {
      "cell_type": "code",
      "source": [
        "proj0 = qutip.ket2dm(psi0)\n",
        "proj1 = qutip.ket2dm(psi1)"
      ],
      "metadata": {
        "id": "HhOBaM64dPGz"
      },
      "execution_count": 9,
      "outputs": []
    },
    {
      "cell_type": "code",
      "source": [
        "objectives = krotov.gate_objectives(\n",
        "    basis_states=[psi0, psi1], gate=qutip.operators.sigmax(), H=H\n",
        ")\n",
        "\n",
        "objectives"
      ],
      "metadata": {
        "colab": {
          "base_uri": "https://localhost:8080/"
        },
        "id": "751FGNFHdScc",
        "outputId": "d4f1172a-3d1f-4362-82b7-7f6af4f5601a"
      },
      "execution_count": 10,
      "outputs": [
        {
          "output_type": "execute_result",
          "data": {
            "text/plain": [
              "[Objective[|Ψ₀(2)⟩ to |Ψ₁(2)⟩ via [H₀[2,2], [H₁[2,2], u₁(t)], [H₂[2,2], u₂(t)]]],\n",
              " Objective[|Ψ₁(2)⟩ to |Ψ₀(2)⟩ via [H₀[2,2], [H₁[2,2], u₁(t)], [H₂[2,2], u₂(t)]]]]"
            ]
          },
          "metadata": {},
          "execution_count": 10
        }
      ]
    },
    {
      "cell_type": "code",
      "source": [
        "def plot_population(result):\n",
        "    '''Representation of the expected values for the initial states'''\n",
        "    fig, ax = plt.subplots()\n",
        "    ax.plot(result.times, result.expect[0], label='0')\n",
        "    ax.plot(result.times, result.expect[1], label='1')\n",
        "    ax.legend()\n",
        "    ax.set_xlabel('time')\n",
        "    ax.set_ylabel('population')\n",
        "    plt.show(fig)"
      ],
      "metadata": {
        "id": "8kWRFUVAdTvv"
      },
      "execution_count": 11,
      "outputs": []
    },
    {
      "cell_type": "code",
      "source": [
        "def S(t):\n",
        "    \"\"\"Scales the Krotov methods update of the pulse value at the time t\"\"\"\n",
        "    return krotov.shapes.flattop(\n",
        "        t, t_start=0, t_stop=5, t_rise=0.3, t_fall=0.3, func='blackman'\n",
        "    )\n",
        "\n",
        "pulse_options = {H[1][1]: dict(lambda_a=1, update_shape=S)}"
      ],
      "metadata": {
        "id": "Uup-7nWQdV-S"
      },
      "execution_count": 12,
      "outputs": []
    },
    {
      "cell_type": "code",
      "source": [
        "pulse_options = {\n",
        "    H[1][1]: dict(lambda_a=1, update_shape=S),\n",
        "    H[2][1]: dict(lambda_a=1, update_shape=S)\n",
        "}"
      ],
      "metadata": {
        "id": "FR2Aj8BAdZ2E"
      },
      "execution_count": 13,
      "outputs": []
    },
    {
      "cell_type": "code",
      "source": [
        "opt_result = krotov.optimize_pulses(\n",
        "    objectives,\n",
        "    pulse_options=pulse_options,\n",
        "    tlist=tlist,\n",
        "    propagator=krotov.propagators.expm,\n",
        "    chi_constructor=krotov.functionals.chis_ss,\n",
        "    info_hook=krotov.info_hooks.print_table(J_T=krotov.functionals.J_T_ss),\n",
        "    check_convergence=krotov.convergence.Or(\n",
        "        krotov.convergence.value_below('1e-3', name='J_T'),\n",
        "        krotov.convergence.check_monotonic_error,\n",
        "    ),\n",
        "    store_all_pulses=True,\n",
        ")"
      ],
      "metadata": {
        "colab": {
          "base_uri": "https://localhost:8080/"
        },
        "id": "c9BSkBWa3mv6",
        "outputId": "834186a7-e7de-4506-a995-17a63a123d1d"
      },
      "execution_count": null,
      "outputs": [
        {
          "output_type": "stream",
          "name": "stdout",
          "text": [
            "iter.      J_T   ∑∫gₐ(t)dt          J       ΔJ_T         ΔJ  secs\n",
            "0     9.51e-01    0.00e+00   9.51e-01        n/a        n/a     3\n",
            "1     4.41e-01    1.13e-01   5.54e-01  -5.09e-01  -3.96e-01     7\n",
            "2     5.87e-03    1.76e-01   1.82e-01  -4.35e-01  -2.60e-01     7\n",
            "3     1.98e-05    2.71e-03   2.73e-03  -5.85e-03  -3.14e-03     7\n"
          ]
        }
      ]
    },
    {
      "cell_type": "code",
      "source": [],
      "metadata": {
        "id": "dYQbKjXKdbYY"
      },
      "execution_count": null,
      "outputs": []
    },
    {
      "cell_type": "code",
      "source": [
        "opt_result"
      ],
      "metadata": {
        "colab": {
          "base_uri": "https://localhost:8080/"
        },
        "id": "P9unXQpF4VL4",
        "outputId": "a3324c3e-2ad4-4eb7-b359-16057db07da3"
      },
      "execution_count": null,
      "outputs": [
        {
          "output_type": "execute_result",
          "data": {
            "text/plain": [
              "Krotov Optimization Result\n",
              "--------------------------\n",
              "- Started at 2023-01-22 08:47:33\n",
              "- Number of objectives: 2\n",
              "- Number of iterations: 3\n",
              "- Reason for termination: Reached convergence: J_T < 1e-3\n",
              "- Ended at 2023-01-22 08:47:58 (0:00:25)"
            ]
          },
          "metadata": {},
          "execution_count": 19
        }
      ]
    },
    {
      "cell_type": "code",
      "source": [
        "def plot_pulse(pulse, tlist, xlimit=None):\n",
        "    fig, ax = plt.subplots()\n",
        "    if callable(pulse):\n",
        "        pulse = np.array([pulse(t, None) for t in tlist])\n",
        "    ax.plot(tlist, pulse)\n",
        "    ax.set_xlabel('time (ns)')\n",
        "    ax.set_ylabel('pulse amplitude')\n",
        "    if xlimit is not None:\n",
        "        ax.set_xlim(xlimit)\n",
        "    plt.show(fig)"
      ],
      "metadata": {
        "id": "eOvx08rn4evn"
      },
      "execution_count": null,
      "outputs": []
    },
    {
      "cell_type": "code",
      "source": [
        "plot_pulse(opt_result.optimized_controls[0], tlist)\n",
        "\n",
        "plot_pulse(opt_result.optimized_controls[1], tlist)"
      ],
      "metadata": {
        "colab": {
          "base_uri": "https://localhost:8080/",
          "height": 541
        },
        "id": "-OpvIwn54hhA",
        "outputId": "2b752ba2-1d80-48cf-e932-8f26b791d169"
      },
      "execution_count": null,
      "outputs": [
        {
          "output_type": "display_data",
          "data": {
            "text/plain": [
              "<Figure size 432x288 with 1 Axes>"
            ],
            "image/png": "[encoded data removed]"
          },
          "metadata": {
            "needs_background": "light"
          }
        },
        {
          "output_type": "display_data",
          "data": {
            "text/plain": [
              "<Figure size 432x288 with 1 Axes>"
            ],
            "image/png": "[encoded data removed]"
          },
          "metadata": {
            "needs_background": "light"
          }
        }
      ]
    },
    {
      "cell_type": "code",
      "source": [
        "opt_dynamics1 = opt_result.optimized_objectives[0].mesolve(\n",
        "    tlist, e_ops=[proj0, proj1])\n",
        "\n",
        "opt_dynamics2 = opt_result.optimized_objectives[1].mesolve(\n",
        "    tlist, e_ops=[proj0, proj1])"
      ],
      "metadata": {
        "id": "ajHkToEx4jor"
      },
      "execution_count": null,
      "outputs": []
    },
    {
      "cell_type": "code",
      "source": [
        "plot_population(opt_dynamics1)\n",
        "plot_population(opt_dynamics2)"
      ],
      "metadata": {
        "colab": {
          "base_uri": "https://localhost:8080/",
          "height": 541
        },
        "id": "_3rtK5Ej4mbc",
        "outputId": "b1909cc8-4f2a-4da5-f5bb-c3a315b6c53b"
      },
      "execution_count": null,
      "outputs": [
        {
          "output_type": "display_data",
          "data": {
            "text/plain": [
              "<Figure size 432x288 with 1 Axes>"
            ],
            "image/png": "[encoded data removed]"
          },
          "metadata": {
            "needs_background": "light"
          }
        },
        {
          "output_type": "display_data",
          "data": {
            "text/plain": [
              "<Figure size 432x288 with 1 Axes>"
            ],
            "image/png": "[encoded data removed]"
          },
          "metadata": {
            "needs_background": "light"
          }
        }
      ]
    }
  ]
}
