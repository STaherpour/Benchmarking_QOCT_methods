{
  "nbformat": 4,
  "nbformat_minor": 0,
  "metadata": {
    "colab": {
      "provenance": []
    },
    "kernelspec": {
      "name": "python3",
      "display_name": "Python 3"
    },
    "language_info": {
      "name": "python"
    }
  },
  "cells": [
    {
      "cell_type": "code",
      "metadata": {
        "id": "GIeFXS0F0zww",
        "colab": {
          "base_uri": "https://localhost:8080/"
        },
        "outputId": "2c42dd54-3eaa-4620-812e-7da24a998645"
      },
      "source": [
        "%%shell\n",
        "set -e\n",
        "\n",
        "#---------------------------------------------------#\n",
        "JULIA_VERSION=\"1.8.2\" # any version ≥ 0.7.0\n",
        "JULIA_PACKAGES=\"IJulia BenchmarkTools\"\n",
        "JULIA_PACKAGES_IF_GPU=\"CUDA\" # or CuArrays for older Julia versions\n",
        "JULIA_NUM_THREADS=2\n",
        "#---------------------------------------------------#\n",
        "\n",
        "if [ -z `which julia` ]; then\n",
        "  # Install Julia\n",
        "  JULIA_VER=`cut -d '.' -f -2 <<< \"$JULIA_VERSION\"`\n",
        "  echo \"Installing Julia $JULIA_VERSION on the current Colab Runtime...\"\n",
        "  BASE_URL=\"https://julialang-s3.julialang.org/bin/linux/x64\"\n",
        "  URL=\"$BASE_URL/$JULIA_VER/julia-$JULIA_VERSION-linux-x86_64.tar.gz\"\n",
        "  wget -nv $URL -O /tmp/julia.tar.gz # -nv means \"not verbose\"\n",
        "  tar -x -f /tmp/julia.tar.gz -C /usr/local --strip-components 1\n",
        "  rm /tmp/julia.tar.gz\n",
        "\n",
        "  # Install Packages\n",
        "  nvidia-smi -L &> /dev/null && export GPU=1 || export GPU=0\n",
        "  if [ $GPU -eq 1 ]; then\n",
        "    JULIA_PACKAGES=\"$JULIA_PACKAGES $JULIA_PACKAGES_IF_GPU\"\n",
        "  fi\n",
        "  for PKG in `echo $JULIA_PACKAGES`; do\n",
        "    echo \"Installing Julia package $PKG...\"\n",
        "    julia -e 'using Pkg; pkg\"add '$PKG'; precompile;\"' &> /dev/null\n",
        "  done\n",
        "\n",
        "  # Install kernel and rename it to \"julia\"\n",
        "  echo \"Installing IJulia kernel...\"\n",
        "  julia -e 'using IJulia; IJulia.installkernel(\"julia\", env=Dict(\n",
        "      \"JULIA_NUM_THREADS\"=>\"'\"$JULIA_NUM_THREADS\"'\"))'\n",
        "  KERNEL_DIR=`julia -e \"using IJulia; print(IJulia.kerneldir())\"`\n",
        "  KERNEL_NAME=`ls -d \"$KERNEL_DIR\"/julia*`\n",
        "  mv -f $KERNEL_NAME \"$KERNEL_DIR\"/julia\n",
        "\n",
        "  echo ''\n",
        "  echo \"Successfully installed `julia -v`!\"\n",
        "  echo \"Please reload this page (press Ctrl+R, ⌘+R, or the F5 key) then\"\n",
        "  echo \"jump to the 'Checking the Installation' section.\"\n",
        "fi"
      ],
      "execution_count": null,
      "outputs": [
        {
          "output_type": "stream",
          "name": "stdout",
          "text": [
            "Installing Julia 1.8.2 on the current Colab Runtime...\n",
            "2023-06-08 16:31:51 URL:https://storage.googleapis.com/julialang2/bin/linux/x64/1.8/julia-1.8.2-linux-x86_64.tar.gz [135859273/135859273] -> \"/tmp/julia.tar.gz\" [1]\n",
            "Installing Julia package IJulia...\n"
          ]
        }
      ]
    },
    {
      "cell_type": "code",
      "metadata": {
        "id": "EEzvvzCl1i0F",
        "colab": {
          "base_uri": "https://localhost:8080/"
        },
        "outputId": "e5290a4f-6783-4b0e-dd46-c60ac729cdd4"
      },
      "source": [
        "versioninfo()"
      ],
      "execution_count": null,
      "outputs": [
        {
          "output_type": "stream",
          "name": "stdout",
          "text": [
            "Julia Version 1.8.2\n",
            "Commit 36034abf260 (2022-09-29 15:21 UTC)\n",
            "Platform Info:\n",
            "  OS: Linux (x86_64-linux-gnu)\n",
            "  CPU: 2 × Intel(R) Xeon(R) CPU @ 2.20GHz\n",
            "  WORD_SIZE: 64\n",
            "  LIBM: libopenlibm\n",
            "  LLVM: libLLVM-13.0.1 (ORCJIT, broadwell)\n",
            "  Threads: 2 on 2 virtual cores\n",
            "Environment:\n",
            "  LD_LIBRARY_PATH = /usr/local/nvidia/lib:/usr/local/nvidia/lib64\n",
            "  JULIA_NUM_THREADS = 2\n"
          ]
        }
      ]
    },
    {
      "cell_type": "markdown",
      "metadata": {
        "id": "2UMidUQB03vJ"
      },
      "source": [
        "\n",
        "\n",
        "<img src=\"https://raw.githubusercontent.com/JuliaLang/julia-logo-graphics/master/images/julia-logo-mask.png\" height=\"100\" />"
      ]
    },
    {
      "cell_type": "code",
      "source": [
        "using Pkg"
      ],
      "metadata": {
        "id": "1-qCq4gZ3q91"
      },
      "execution_count": null,
      "outputs": []
    },
    {
      "cell_type": "code",
      "source": [
        "Pkg.add(url=\"https://github.com/JuliaQuantumControl/GRAPELinesearchAnalysis.jl.git\")"
      ],
      "metadata": {
        "id": "9HOQ2Sys34Xz"
      },
      "execution_count": null,
      "outputs": []
    },
    {
      "cell_type": "code",
      "source": [
        "Pkg.add(\"QuantumControl\")"
      ],
      "metadata": {
        "id": "EMbLVZsG37Nd"
      },
      "execution_count": null,
      "outputs": []
    },
    {
      "cell_type": "code",
      "source": [
        "using GRAPELinesearchAnalysis"
      ],
      "metadata": {
        "id": "AC3Cbbwr4esI"
      },
      "execution_count": null,
      "outputs": []
    },
    {
      "cell_type": "code",
      "source": [
        "using QuantumControl"
      ],
      "metadata": {
        "id": "Eei_aMYL4hNL"
      },
      "execution_count": null,
      "outputs": []
    },
    {
      "cell_type": "code",
      "source": [
        "Pkg.add(\"QuantumControlBase\")"
      ],
      "metadata": {
        "id": "3goM7fRJ4jMZ"
      },
      "execution_count": null,
      "outputs": []
    },
    {
      "cell_type": "code",
      "source": [
        "ϵ1(t) = 0.2 * QuantumControl.Shapes.flattop(t, T=700, t_rise=0.3, func=:blackman);\n",
        "ϵ2(t) = 0.2 * QuantumControl.Shapes.flattop(t, T=700, t_rise=0.3, func=:blackman);\n",
        "ϵ3(t) = 0.2 * QuantumControl.Shapes.flattop(t, T=700, t_rise=0.3, func=:blackman);\n",
        "ϵ4(t) = 0.2 * QuantumControl.Shapes.flattop(t, T=700, t_rise=0.3, func=:blackman);\n",
        "ϵ5(t) = 0.2 * QuantumControl.Shapes.flattop(t, T=700, t_rise=0.3, func=:blackman);\n",
        "ϵ6(t) = 0.2 * QuantumControl.Shapes.flattop(t, T=700, t_rise=0.3, func=:blackman);"
      ],
      "metadata": {
        "id": "lJrwGX9Y4mPj"
      },
      "execution_count": null,
      "outputs": []
    },
    {
      "cell_type": "code",
      "source": [
        "Iσ̂_z = ComplexF64[\n",
        "        1  0  0  0\n",
        "        0 -1  0  0\n",
        "        0  0  1  0\n",
        "        0  0  0  -1\n",
        "    ]\n",
        "    Iσ̂_x = ComplexF64[\n",
        "        0  1  0  0\n",
        "        1  0  0  0\n",
        "        0  0  0  1\n",
        "        0  0  1  0\n",
        "    ]\n",
        "    σ̂_zI = ComplexF64[\n",
        "        1  0  0  0\n",
        "        0  1  0  0\n",
        "        0  0 -1  0\n",
        "        0  0  0  -1\n",
        "    ]\n",
        "    σ̂_x_x = ComplexF64[\n",
        "        0  0  0  1\n",
        "        0  0  1  0\n",
        "        0  1  0  0\n",
        "        1  0  0  0\n",
        "    ]\n",
        "    σ̂_z_z = ComplexF64[\n",
        "        1  0  0  0\n",
        "        0 -1  0  0\n",
        "        0  0 -1  0\n",
        "        0  0  0  1\n",
        "    ]\n",
        "    σ̂_y_y = ComplexF64[\n",
        "        0  0  0 -1\n",
        "        0  0  1  0\n",
        "        0  1  0  0\n",
        "       -1  0  0  0\n",
        "    ]\n",
        "    σ̂_z_z_z = ComplexF64[\n",
        "        1  0  0  0  0  0  0  0\n",
        "        0 -1  0  0  0  0  0  0\n",
        "        0  0 -1  0  0  0  0  0\n",
        "        0  0  0  1  0  0  0  0\n",
        "        0  0  0  0 -1  0  0  0\n",
        "        0  0  0  0  0  1  0  0\n",
        "        0  0  0  0  0  0  1  0\n",
        "        0  0  0  0  0  0  0 -1\n",
        "    ]\n",
        "    I_σ̂_z_σ̂_z = ComplexF64[\n",
        "        1  0  0  0  0  0  0  0\n",
        "        0 -1  0  0  0  0  0  0\n",
        "        0  0 -1  0  0  0  0  0\n",
        "        0  0  0  1  0  0  0  0\n",
        "        0  0  0  0  1  0  0  0\n",
        "        0  0  0  0  0 -1  0  0\n",
        "        0  0  0  0  0  0 -1  0\n",
        "        0  0  0  0  0  0  0  1\n",
        "    ]\n",
        "    σ̂_z_I_σ̂_z = ComplexF64[\n",
        "        1  0  0  0  0  0  0  0\n",
        "        0 -1  0  0  0  0  0  0\n",
        "        0  0  1  0  0  0  0  0\n",
        "        0  0  0 -1  0  0  0  0\n",
        "        0  0  0  0 -1  0  0  0\n",
        "        0  0  0  0  0  1  0  0\n",
        "        0  0  0  0  0  0 -1  0\n",
        "        0  0  0  0  0  0  0  1\n",
        "    ]\n",
        "     σ̂_z_I_I = ComplexF64[\n",
        "        1  0  0  0  0  0  0  0\n",
        "        0  1  0  0  0  0  0  0\n",
        "        0  0  1  0  0  0  0  0\n",
        "        0  0  0  1  0  0  0  0\n",
        "        0  0  0  0 -1  0  0  0\n",
        "        0  0  0  0  0 -1  0  0\n",
        "        0  0  0  0  0  0 -1  0\n",
        "        0  0  0  0  0  0  0 -1\n",
        "    ]\n",
        "    I_I_σ̂_z = ComplexF64[\n",
        "        1  0  0  0  0  0  0  0\n",
        "        0 -1  0  0  0  0  0  0\n",
        "        0  0  1  0  0  0  0  0\n",
        "        0  0  0 -1  0  0  0  0\n",
        "        0  0  0  0  1  0  0  0\n",
        "        0  0  0  0  0 -1  0  0\n",
        "        0  0  0  0  0  0  1  0\n",
        "        0  0  0  0  0  0  0 -1\n",
        "    ]\n",
        "    I_σ̂_z_I = ComplexF64[\n",
        "        1  0  0  0  0  0  0  0\n",
        "        0  1  0  0  0  0  0  0\n",
        "        0  0 -1  0  0  0  0  0\n",
        "        0  0  0 -1  0  0  0  0\n",
        "        0  0  0  0  1  0  0  0\n",
        "        0  0  0  0  0  1  0  0\n",
        "        0  0  0  0  0  0 -1  0\n",
        "        0  0  0  0  0  0  0 -1\n",
        "    ]\n",
        "    I_I_σ̂_x = ComplexF64[\n",
        "        0  1  0  0  0  0  0  0\n",
        "        1  0  0  0  0  0  0  0\n",
        "        0  0  0  1  0  0  0  0\n",
        "        0  0  1  0  0  0  0  0\n",
        "        0  0  0  0  0  1  0  0\n",
        "        0  0  0  0  1  0  0  0\n",
        "        0  0  0  0  0  0  0  1\n",
        "        0  0  0  0  0  0  1  0\n",
        "    ]\n",
        "    I_σ̂_xI = ComplexF64[\n",
        "        0  0  1  0  0  0  0  0\n",
        "        0  0  0  1  0  0  0  0\n",
        "        1  0  0  0  0  0  0  0\n",
        "        0  1  0  0  0  0  0  0\n",
        "        0  0  0  0  0  0  1  0\n",
        "        0  0  0  0  0  0  0  1\n",
        "        0  0  0  0  1  0  0  0\n",
        "        0  0  0  0  0  1  0  0\n",
        "    ]\n",
        "    σ̂_xI_I = ComplexF64[\n",
        "        0  0  0  0  1  0  0  0\n",
        "        0  0  0  0  0  1  0  0\n",
        "        0  0  0  0  0  0  1  0\n",
        "        0  0  0  0  0  0  0  1\n",
        "        1  0  0  0  0  0  0  0\n",
        "        0  1  0  0  0  0  0  0\n",
        "        0  0  1  0  0  0  0  0\n",
        "        0  0  0  1  0  0  0  0\n",
        "    ]\n",
        "\n",
        "    σ̂_x_σ̂_x_I = ComplexF64[\n",
        "        0  0  0  0  0  0  1  0\n",
        "        0  0  0  0  0  0  0  1\n",
        "        0  0  0  0  1  0  0  0\n",
        "        0  0  0  0  0  1  0  0\n",
        "        0  0  1  0  0  0  0  0\n",
        "        0  0  0  1  0  0  0  0\n",
        "        1  0  0  0  0  0  0  0\n",
        "        0  1  0  0  0  0  0  0\n",
        "    ]\n",
        "    σ̂_y_σ̂_y_I = ComplexF64[\n",
        "        0  0  0  0  0  0 -1  0\n",
        "        0  0  0  0  0  0  0 -1\n",
        "        0  0  0  0  1  0  0  0\n",
        "        0  0  0  0  0  1  0  0\n",
        "        0  0  1  0  0  0  0  0\n",
        "        0  0  0  1  0  0  0  0\n",
        "       -1  0  0  0  0  0  0  0\n",
        "        0 -1  0  0  0  0  0  0\n",
        "    ]\n",
        "    σ̂_z_σ̂_z_I = ComplexF64[\n",
        "        1  0  0  0  0  0  0  0\n",
        "        0  1  0  0  0  0  0  0\n",
        "        0  0 -1  0  0  0  0  0\n",
        "        0  0  0 -1  0  0  0  0\n",
        "        0  0  0  0 -1  0  0  0\n",
        "        0  0  0  0  0 -1  0  0\n",
        "        0  0  0  0  0  0  1  0\n",
        "        0  0  0  0  0  0  0  1\n",
        "    ]\n",
        "    σ̂_xI_σ̂_x = ComplexF64[\n",
        "        0  0  0  0  0  1  0  0\n",
        "        0  0  0  0  1  0  0  0\n",
        "        0  0  0  0  0  0  0  1\n",
        "        0  0  0  0  0  0  1  0\n",
        "        0  1  0  0  0  0  0  0\n",
        "        1  0  0  0  0  0  0  0\n",
        "        0  0  0  1  0  0  0  0\n",
        "        0  0  1  0  0  0  0  0\n",
        "    ]\n",
        "    σ̂_yI_σ̂_y = ComplexF64[\n",
        "        0  0  0  0  0 -1  0  0\n",
        "        0  0  0  0  1  0  0  0\n",
        "        0  0  0  0  0  0  0 -1\n",
        "        0  0  0  0  0  0  1  0\n",
        "        0  1  0  0  0  0  0  0\n",
        "       -1  0  0  0  0  0  0  0\n",
        "        0  0  0  1  0  0  0  0\n",
        "        0  0 -1  0  0  0  0  0\n",
        "    ]\n",
        "    σ̂_zI_σ̂_z = ComplexF64[\n",
        "        1  0  0  0  0  0  0  0\n",
        "        0 -1  0  0  0  0  0  0\n",
        "        0  0  1  0  0  0  0  0\n",
        "        0  0  0 -1  0  0  0  0\n",
        "        0  0  0  0 -1  0  0  0\n",
        "        0  0  0  0  0  1  0  0\n",
        "        0  0  0  0  0  0 -1  0\n",
        "        0  0  0  0  0  0  0  1\n",
        "    ]\n",
        "\n",
        "    I_I_σ̂_y = ComplexF64[\n",
        "        0  -1im  0  0  0  0  0  0\n",
        "        1im  0  0  0  0  0  0  0\n",
        "        0  0  0  -1im  0  0  0  0\n",
        "        0  0  1im  0  0  0  0  0\n",
        "        0  0  0  0  0  -1im  0  0\n",
        "        0  0  0  0  1im  0  0  0\n",
        "        0  0  0  0  0  0  0  -1im\n",
        "        0  0  0  0  0  0  1im  0\n",
        "    ]\n",
        "    I_σ̂_y_I = ComplexF64[\n",
        "        0  0  -1im  0  0  0  0  0\n",
        "        0  0  0  -1im  0  0  0  0\n",
        "        1im  0  0  0  0  0  0  0\n",
        "        0  1im  0  0  0  0  0  0\n",
        "        0  0  0  0  0  0  -1im  0\n",
        "        0  0  0  0  0  0  0  -1im\n",
        "        0  0  0  0  1im  0  0  0\n",
        "        0  0  0  0  0  1im  0  0\n",
        "    ]\n",
        "\n",
        "    σ̂_z_z_x= ComplexF64[\n",
        "        0  1  0  0  0  0  0  0\n",
        "        1  0  0  0  0  0  0  0\n",
        "        0  0  0 -1  0  0  0  0\n",
        "        0  0 -1  0  0  0  0  0\n",
        "        0  0  0  0  0 -1  0  0\n",
        "        0  0  0  0 -1  0  0  0\n",
        "        0  0  0  0  0  0  0  1\n",
        "        0  0  0  0  0  0  1  0\n",
        "           ]\n",
        "    σ̂_y_I_I= ComplexF64[\n",
        "        0  0  0  0  -1im  0  0  0\n",
        "        0  0  0  0  0  -1im  0  0\n",
        "        0  0  0  0  0  0  -1im  0\n",
        "        0  0  0  0  0  0  0  -1im\n",
        "        1im  0  0  0  0  0  0  0\n",
        "        0  1im  0  0  0  0  0  0\n",
        "        0  0  1im  0  0  0  0  0\n",
        "        0  0  0  1im  0  0  0  0\n",
        "           ]"
      ],
      "metadata": {
        "colab": {
          "base_uri": "https://localhost:8080/"
        },
        "id": "M1Sr39tW4ol0",
        "outputId": "982de988-b606-470c-e5a5-d52e617c7a67"
      },
      "execution_count": null,
      "outputs": [
        {
          "output_type": "execute_result",
          "data": {
            "text/plain": [
              "8×8 Matrix{ComplexF64}:\n",
              " 0.0+0.0im  0.0+0.0im  0.0+0.0im  …  0.0+0.0im  0.0+0.0im  0.0+0.0im\n",
              " 0.0+0.0im  0.0+0.0im  0.0+0.0im     0.0-1.0im  0.0+0.0im  0.0+0.0im\n",
              " 0.0+0.0im  0.0+0.0im  0.0+0.0im     0.0+0.0im  0.0-1.0im  0.0+0.0im\n",
              " 0.0+0.0im  0.0+0.0im  0.0+0.0im     0.0+0.0im  0.0+0.0im  0.0-1.0im\n",
              " 0.0+1.0im  0.0+0.0im  0.0+0.0im     0.0+0.0im  0.0+0.0im  0.0+0.0im\n",
              " 0.0+0.0im  0.0+1.0im  0.0+0.0im  …  0.0+0.0im  0.0+0.0im  0.0+0.0im\n",
              " 0.0+0.0im  0.0+0.0im  0.0+1.0im     0.0+0.0im  0.0+0.0im  0.0+0.0im\n",
              " 0.0+0.0im  0.0+0.0im  0.0+0.0im     0.0+0.0im  0.0+0.0im  0.0+0.0im"
            ]
          },
          "metadata": {},
          "execution_count": 9
        }
      ]
    },
    {
      "cell_type": "code",
      "source": [
        "J1 = 0.047\n",
        "J2 = 0.097\n",
        "J3 = 0.028"
      ],
      "metadata": {
        "colab": {
          "base_uri": "https://localhost:8080/"
        },
        "id": "i08flYwa4qx5",
        "outputId": "a1e6a1d1-49c3-485e-92b8-726b72aa7daa"
      },
      "execution_count": null,
      "outputs": [
        {
          "output_type": "execute_result",
          "data": {
            "text/plain": [
              "0.028"
            ]
          },
          "metadata": {},
          "execution_count": 10
        }
      ]
    },
    {
      "cell_type": "code",
      "source": [
        "Ω1 = 1\n",
        "Ω2 = 3\n",
        "Ω3 = 2"
      ],
      "metadata": {
        "colab": {
          "base_uri": "https://localhost:8080/"
        },
        "id": "_6tWjeAi5s0e",
        "outputId": "0c5f268e-6649-49ba-8d3b-e402cbc62dd5"
      },
      "execution_count": null,
      "outputs": [
        {
          "output_type": "execute_result",
          "data": {
            "text/plain": [
              "2"
            ]
          },
          "metadata": {},
          "execution_count": 11
        }
      ]
    },
    {
      "cell_type": "code",
      "source": [
        "\"\"\"Two-level-system Hamiltonian.\"\"\"\n",
        "function hamiltonian(Ω1=Ω1, ϵ1=ϵ1,ϵ2=ϵ2,ϵ3=ϵ3,ϵ4=ϵ4,ϵ5=ϵ5, Ω2=Ω2, Ω3=Ω3, J1=J1, J2=J2, J3=J3)\n",
        "    Iσ̂_z = ComplexF64[\n",
        "        1  0  0  0\n",
        "        0 -1  0  0\n",
        "        0  0  1  0\n",
        "        0  0  0  -1\n",
        "    ]\n",
        "    Iσ̂_x = ComplexF64[\n",
        "        0  1  0  0\n",
        "        1  0  0  0\n",
        "        0  0  0  1\n",
        "        0  0  1  0\n",
        "    ]\n",
        "    σ̂_zI = ComplexF64[\n",
        "        1  0  0  0\n",
        "        0  1  0  0\n",
        "        0  0 -1  0\n",
        "        0  0  0  -1\n",
        "    ]\n",
        "    σ̂_x_x = ComplexF64[\n",
        "        0  0  0  1\n",
        "        0  0  1  0\n",
        "        0  1  0  0\n",
        "        1  0  0  0\n",
        "    ]\n",
        "    σ̂_z_z = ComplexF64[\n",
        "        1  0  0  0\n",
        "        0 -1  0  0\n",
        "        0  0 -1  0\n",
        "        0  0  0  1\n",
        "    ]\n",
        "    σ̂_y_y = ComplexF64[\n",
        "        0  0  0 -1\n",
        "        0  0  1  0\n",
        "        0  1  0  0\n",
        "       -1  0  0  0\n",
        "    ]\n",
        "    σ̂_z_z_z = ComplexF64[\n",
        "        1  0  0  0  0  0  0  0\n",
        "        0 -1  0  0  0  0  0  0\n",
        "        0  0 -1  0  0  0  0  0\n",
        "        0  0  0  1  0  0  0  0\n",
        "        0  0  0  0 -1  0  0  0\n",
        "        0  0  0  0  0  1  0  0\n",
        "        0  0  0  0  0  0  1  0\n",
        "        0  0  0  0  0  0  0 -1\n",
        "    ]\n",
        "    I_σ̂_z_σ̂_z = ComplexF64[\n",
        "        1  0  0  0  0  0  0  0\n",
        "        0 -1  0  0  0  0  0  0\n",
        "        0  0 -1  0  0  0  0  0\n",
        "        0  0  0  1  0  0  0  0\n",
        "        0  0  0  0  1  0  0  0\n",
        "        0  0  0  0  0 -1  0  0\n",
        "        0  0  0  0  0  0 -1  0\n",
        "        0  0  0  0  0  0  0  1\n",
        "    ]\n",
        "    σ̂_z_I_σ̂_z = ComplexF64[\n",
        "        1  0  0  0  0  0  0  0\n",
        "        0 -1  0  0  0  0  0  0\n",
        "        0  0  1  0  0  0  0  0\n",
        "        0  0  0 -1  0  0  0  0\n",
        "        0  0  0  0 -1  0  0  0\n",
        "        0  0  0  0  0  1  0  0\n",
        "        0  0  0  0  0  0 -1  0\n",
        "        0  0  0  0  0  0  0  1\n",
        "    ]\n",
        "     σ̂_z_I_I = ComplexF64[\n",
        "        1  0  0  0  0  0  0  0\n",
        "        0  1  0  0  0  0  0  0\n",
        "        0  0  1  0  0  0  0  0\n",
        "        0  0  0  1  0  0  0  0\n",
        "        0  0  0  0 -1  0  0  0\n",
        "        0  0  0  0  0 -1  0  0\n",
        "        0  0  0  0  0  0 -1  0\n",
        "        0  0  0  0  0  0  0 -1\n",
        "    ]\n",
        "    I_I_σ̂_z = ComplexF64[\n",
        "        1  0  0  0  0  0  0  0\n",
        "        0 -1  0  0  0  0  0  0\n",
        "        0  0  1  0  0  0  0  0\n",
        "        0  0  0 -1  0  0  0  0\n",
        "        0  0  0  0  1  0  0  0\n",
        "        0  0  0  0  0 -1  0  0\n",
        "        0  0  0  0  0  0  1  0\n",
        "        0  0  0  0  0  0  0 -1\n",
        "    ]\n",
        "    I_σ̂_z_I = ComplexF64[\n",
        "        1  0  0  0  0  0  0  0\n",
        "        0  1  0  0  0  0  0  0\n",
        "        0  0 -1  0  0  0  0  0\n",
        "        0  0  0 -1  0  0  0  0\n",
        "        0  0  0  0  1  0  0  0\n",
        "        0  0  0  0  0  1  0  0\n",
        "        0  0  0  0  0  0 -1  0\n",
        "        0  0  0  0  0  0  0 -1\n",
        "    ]\n",
        "    I_I_σ̂_x = ComplexF64[\n",
        "        0  1  0  0  0  0  0  0\n",
        "        1  0  0  0  0  0  0  0\n",
        "        0  0  0  1  0  0  0  0\n",
        "        0  0  1  0  0  0  0  0\n",
        "        0  0  0  0  0  1  0  0\n",
        "        0  0  0  0  1  0  0  0\n",
        "        0  0  0  0  0  0  0  1\n",
        "        0  0  0  0  0  0  1  0\n",
        "    ]\n",
        "    I_σ̂_xI = ComplexF64[\n",
        "        0  0  1  0  0  0  0  0\n",
        "        0  0  0  1  0  0  0  0\n",
        "        1  0  0  0  0  0  0  0\n",
        "        0  1  0  0  0  0  0  0\n",
        "        0  0  0  0  0  0  1  0\n",
        "        0  0  0  0  0  0  0  1\n",
        "        0  0  0  0  1  0  0  0\n",
        "        0  0  0  0  0  1  0  0\n",
        "    ]\n",
        "    σ̂_xI_I = ComplexF64[\n",
        "        0  0  0  0  1  0  0  0\n",
        "        0  0  0  0  0  1  0  0\n",
        "        0  0  0  0  0  0  1  0\n",
        "        0  0  0  0  0  0  0  1\n",
        "        1  0  0  0  0  0  0  0\n",
        "        0  1  0  0  0  0  0  0\n",
        "        0  0  1  0  0  0  0  0\n",
        "        0  0  0  1  0  0  0  0\n",
        "    ]\n",
        "\n",
        "    σ̂_x_σ̂_x_I = ComplexF64[\n",
        "        0  0  0  0  0  0  1  0\n",
        "        0  0  0  0  0  0  0  1\n",
        "        0  0  0  0  1  0  0  0\n",
        "        0  0  0  0  0  1  0  0\n",
        "        0  0  1  0  0  0  0  0\n",
        "        0  0  0  1  0  0  0  0\n",
        "        1  0  0  0  0  0  0  0\n",
        "        0  1  0  0  0  0  0  0\n",
        "    ]\n",
        "    σ̂_y_σ̂_y_I = ComplexF64[\n",
        "        0  0  0  0  0  0 -1  0\n",
        "        0  0  0  0  0  0  0 -1\n",
        "        0  0  0  0  1  0  0  0\n",
        "        0  0  0  0  0  1  0  0\n",
        "        0  0  1  0  0  0  0  0\n",
        "        0  0  0  1  0  0  0  0\n",
        "       -1  0  0  0  0  0  0  0\n",
        "        0 -1  0  0  0  0  0  0\n",
        "    ]\n",
        "    σ̂_z_σ̂_z_I = ComplexF64[\n",
        "        1  0  0  0  0  0  0  0\n",
        "        0  1  0  0  0  0  0  0\n",
        "        0  0 -1  0  0  0  0  0\n",
        "        0  0  0 -1  0  0  0  0\n",
        "        0  0  0  0 -1  0  0  0\n",
        "        0  0  0  0  0 -1  0  0\n",
        "        0  0  0  0  0  0  1  0\n",
        "        0  0  0  0  0  0  0  1\n",
        "    ]\n",
        "    σ̂_xI_σ̂_x = ComplexF64[\n",
        "        0  0  0  0  0  1  0  0\n",
        "        0  0  0  0  1  0  0  0\n",
        "        0  0  0  0  0  0  0  1\n",
        "        0  0  0  0  0  0  1  0\n",
        "        0  1  0  0  0  0  0  0\n",
        "        1  0  0  0  0  0  0  0\n",
        "        0  0  0  1  0  0  0  0\n",
        "        0  0  1  0  0  0  0  0\n",
        "    ]\n",
        "    σ̂_yI_σ̂_y = ComplexF64[\n",
        "        0  0  0  0  0 -1  0  0\n",
        "        0  0  0  0  1  0  0  0\n",
        "        0  0  0  0  0  0  0 -1\n",
        "        0  0  0  0  0  0  1  0\n",
        "        0  1  0  0  0  0  0  0\n",
        "       -1  0  0  0  0  0  0  0\n",
        "        0  0  0  1  0  0  0  0\n",
        "        0  0 -1  0  0  0  0  0\n",
        "    ]\n",
        "    σ̂_zI_σ̂_z = ComplexF64[\n",
        "        1  0  0  0  0  0  0  0\n",
        "        0 -1  0  0  0  0  0  0\n",
        "        0  0  1  0  0  0  0  0\n",
        "        0  0  0 -1  0  0  0  0\n",
        "        0  0  0  0 -1  0  0  0\n",
        "        0  0  0  0  0  1  0  0\n",
        "        0  0  0  0  0  0 -1  0\n",
        "        0  0  0  0  0  0  0  1\n",
        "    ]\n",
        "\n",
        "    I_I_σ̂_y = ComplexF64[\n",
        "        0  -1im  0  0  0  0  0  0\n",
        "        1im  0  0  0  0  0  0  0\n",
        "        0  0  0  -1im  0  0  0  0\n",
        "        0  0  1im  0  0  0  0  0\n",
        "        0  0  0  0  0  -1im  0  0\n",
        "        0  0  0  0  1im  0  0  0\n",
        "        0  0  0  0  0  0  0  -1im\n",
        "        0  0  0  0  0  0  1im  0\n",
        "    ]\n",
        "    I_σ̂_y_I = ComplexF64[\n",
        "        0  0  -1im  0  0  0  0  0\n",
        "        0  0  0  -1im  0  0  0  0\n",
        "        1im  0  0  0  0  0  0  0\n",
        "        0  1im  0  0  0  0  0  0\n",
        "        0  0  0  0  0  0  -1im  0\n",
        "        0  0  0  0  0  0  0  -1im\n",
        "        0  0  0  0  1im  0  0  0\n",
        "        0  0  0  0  0  1im  0  0\n",
        "    ]\n",
        "\n",
        "    σ̂_z_z_x= ComplexF64[\n",
        "        0  1  0  0  0  0  0  0\n",
        "        1  0  0  0  0  0  0  0\n",
        "        0  0  0 -1  0  0  0  0\n",
        "        0  0 -1  0  0  0  0  0\n",
        "        0  0  0  0  0 -1  0  0\n",
        "        0  0  0  0 -1  0  0  0\n",
        "        0  0  0  0  0  0  0  1\n",
        "        0  0  0  0  0  0  1  0\n",
        "           ]\n",
        "    σ̂_y_I_I= ComplexF64[\n",
        "        0  0  0  0  -1im  0  0  0\n",
        "        0  0  0  0  0  -1im  0  0\n",
        "        0  0  0  0  0  0  -1im  0\n",
        "        0  0  0  0  0  0  0  -1im\n",
        "        1im  0  0  0  0  0  0  0\n",
        "        0  1im  0  0  0  0  0  0\n",
        "        0  0  1im  0  0  0  0  0\n",
        "        0  0  0  1im  0  0  0  0\n",
        "           ]\n",
        "    Ĥ₀ = -0.5 * (Ω1 * σ̂_z_I_I + Ω2 *I_σ̂_z_I + Ω3 * I_I_σ̂_z)  + J1 * (I_σ̂_z_σ̂_z) +J2 *(σ̂_z_I_σ̂_z) + J3 * ( σ̂_z_σ̂_z_I)\n",
        "    Ĥ₁ = I_I_σ̂_x\n",
        "    Ĥ2 = I_σ̂_xI\n",
        "    Ĥ3 = σ̂_xI_I\n",
        "    Ĥ4 = I_I_σ̂_y\n",
        "    Ĥ5 = I_σ̂_y_I\n",
        "    Ĥ6 = σ̂_y_I_I\n",
        "    return (Ĥ₀, (Ĥ₁, ϵ1), (Ĥ2, ϵ2), (Ĥ3, ϵ3), (Ĥ4, ϵ4), (Ĥ5, ϵ5), (Ĥ6, ϵ6))\n",
        "end;\n"
      ],
      "metadata": {
        "id": "YIlCpp-o5vXE"
      },
      "execution_count": null,
      "outputs": []
    },
    {
      "cell_type": "code",
      "source": [
        "H = hamiltonian();\n",
        "H"
      ],
      "metadata": {
        "colab": {
          "base_uri": "https://localhost:8080/"
        },
        "id": "19I0xjko5xNl",
        "outputId": "98939d18-8b7a-4c92-8ded-867fb4bf87d2"
      },
      "execution_count": null,
      "outputs": [
        {
          "output_type": "execute_result",
          "data": {
            "text/plain": [
              "(ComplexF64[-2.828 + 0.0im 0.0 + 0.0im … 0.0 + 0.0im 0.0 + 0.0im; 0.0 + 0.0im -1.1159999999999999 + 0.0im … 0.0 + 0.0im 0.0 + 0.0im; … ; 0.0 + 0.0im 0.0 + 0.0im … 0.884 + 0.0im 0.0 + 0.0im; 0.0 + 0.0im 0.0 + 0.0im … 0.0 + 0.0im 3.172 + 0.0im], (ComplexF64[0.0 + 0.0im 1.0 + 0.0im … 0.0 + 0.0im 0.0 + 0.0im; 1.0 + 0.0im 0.0 + 0.0im … 0.0 + 0.0im 0.0 + 0.0im; … ; 0.0 + 0.0im 0.0 + 0.0im … 0.0 + 0.0im 1.0 + 0.0im; 0.0 + 0.0im 0.0 + 0.0im … 1.0 + 0.0im 0.0 + 0.0im], ϵ1), (ComplexF64[0.0 + 0.0im 0.0 + 0.0im … 0.0 + 0.0im 0.0 + 0.0im; 0.0 + 0.0im 0.0 + 0.0im … 0.0 + 0.0im 0.0 + 0.0im; … ; 0.0 + 0.0im 0.0 + 0.0im … 0.0 + 0.0im 0.0 + 0.0im; 0.0 + 0.0im 0.0 + 0.0im … 0.0 + 0.0im 0.0 + 0.0im], ϵ2), (ComplexF64[0.0 + 0.0im 0.0 + 0.0im … 0.0 + 0.0im 0.0 + 0.0im; 0.0 + 0.0im 0.0 + 0.0im … 0.0 + 0.0im 0.0 + 0.0im; … ; 0.0 + 0.0im 0.0 + 0.0im … 0.0 + 0.0im 0.0 + 0.0im; 0.0 + 0.0im 0.0 + 0.0im … 0.0 + 0.0im 0.0 + 0.0im], ϵ3), (ComplexF64[0.0 + 0.0im 0.0 - 1.0im … 0.0 + 0.0im 0.0 + 0.0im; 0.0 + 1.0im 0.0 + 0.0im … 0.0 + 0.0im 0.0 + 0.0im; … ; 0.0 + 0.0im 0.0 + 0.0im … 0.0 + 0.0im 0.0 - 1.0im; 0.0 + 0.0im 0.0 + 0.0im … 0.0 + 1.0im 0.0 + 0.0im], ϵ4), (ComplexF64[0.0 + 0.0im 0.0 + 0.0im … 0.0 + 0.0im 0.0 + 0.0im; 0.0 + 0.0im 0.0 + 0.0im … 0.0 + 0.0im 0.0 + 0.0im; … ; 0.0 + 0.0im 0.0 + 0.0im … 0.0 + 0.0im 0.0 + 0.0im; 0.0 + 0.0im 0.0 + 0.0im … 0.0 + 0.0im 0.0 + 0.0im], ϵ5), (ComplexF64[0.0 + 0.0im 0.0 + 0.0im … 0.0 + 0.0im 0.0 + 0.0im; 0.0 + 0.0im 0.0 + 0.0im … 0.0 + 0.0im 0.0 + 0.0im; … ; 0.0 + 0.0im 0.0 + 0.0im … 0.0 + 0.0im 0.0 + 0.0im; 0.0 + 0.0im 0.0 + 0.0im … 0.0 + 0.0im 0.0 + 0.0im], ϵ6))"
            ]
          },
          "metadata": {},
          "execution_count": 13
        }
      ]
    },
    {
      "cell_type": "code",
      "source": [
        "tlist = collect(range(0, 700, length=7000));"
      ],
      "metadata": {
        "id": "HCXV-gvi5yzn"
      },
      "execution_count": null,
      "outputs": []
    },
    {
      "cell_type": "code",
      "source": [
        "Pkg.add(\"Plots\")\n",
        "using Plots\n",
        "Plots.default(\n",
        "    linewidth               = 3,\n",
        "    size                    = (700, 450),\n",
        "    legend                  = :right,\n",
        "    foreground_color_legend = nothing,\n",
        "    background_color_legend = RGBA(1, 1, 1, 0.8)\n",
        ")"
      ],
      "metadata": {
        "colab": {
          "base_uri": "https://localhost:8080/"
        },
        "id": "HXviVU1l50bP",
        "outputId": "f5a041d6-db56-4f37-95bf-130f30167db7"
      },
      "execution_count": null,
      "outputs": [
        {
          "output_type": "stream",
          "name": "stderr",
          "text": [
            "\u001b[32m\u001b[1m   Resolving\u001b[22m\u001b[39m package versions...\n",
            "\u001b[32m\u001b[1m    Updating\u001b[22m\u001b[39m `~/.julia/environments/v1.8/Project.toml`\n",
            " \u001b[90m [91a5bcdd] \u001b[39m\u001b[92m+ Plots v1.38.15\u001b[39m\n",
            "\u001b[32m\u001b[1m  No Changes\u001b[22m\u001b[39m to `~/.julia/environments/v1.8/Manifest.toml`\n"
          ]
        }
      ]
    },
    {
      "cell_type": "code",
      "source": [
        "function ket(label)\n",
        "    result = Dict(\"000\" => Vector{ComplexF64}([1, 0, 0, 0, 0, 0, 0, 0]), \"001\" => Vector{ComplexF64}([0, 1, 0, 0, 0, 0, 0, 0]), \"010\" => Vector{ComplexF64}([0, 0, 1, 0, 0, 0, 0, 0]), \"011\" => Vector{ComplexF64}([0, 0, 0, 1, 0, 0, 0, 0])\n",
        "    , \"100\" => Vector{ComplexF64}([0, 0, 0, 0, 1, 0, 0, 0]), \"101\" => Vector{ComplexF64}([0, 0, 0, 0, 0, 1, 0, 0]), \"110\" => Vector{ComplexF64}([0, 0, 0, 0, 0, 0, 1, 0]), \"111\" => Vector{ComplexF64}([0, 0, 0, 0, 0, 0, 0, 1]))\n",
        "    return result[string(label)]\n",
        "end;"
      ],
      "metadata": {
        "id": "49_-TKAV52Qm"
      },
      "execution_count": null,
      "outputs": []
    },
    {
      "cell_type": "code",
      "source": [
        "basis = [ket(\"000\"),ket(\"001\"),ket(\"010\"),ket(\"011\"),ket(\"100\"),ket(\"101\"),ket(\"110\"),ket(\"111\")];"
      ],
      "metadata": {
        "id": "JLXBKY1p54AQ"
      },
      "execution_count": null,
      "outputs": []
    },
    {
      "cell_type": "code",
      "source": [],
      "metadata": {
        "id": "erlRun-zhpbw"
      },
      "execution_count": null,
      "outputs": []
    },
    {
      "cell_type": "code",
      "source": [
        "using LinearAlgebra"
      ],
      "metadata": {
        "id": "Jd-x2kmo6MqW"
      },
      "execution_count": null,
      "outputs": []
    },
    {
      "cell_type": "code",
      "source": [
        "basis_tgt=Array[]\n",
        "for i in 1:100\n",
        "   b= transpose(RandU_3Q[i]) * basis\n",
        "   push!(basis_tgt, b)\n",
        "\n",
        "end"
      ],
      "metadata": {
        "id": "a2rVa7HK6PK0"
      },
      "execution_count": null,
      "outputs": []
    },
    {
      "cell_type": "code",
      "source": [
        "objectives=Array[]\n",
        "for i in 1:100\n",
        "   obj = [Objective(initial_state = Ψ, target_state = Ψtgt, generator = H) for\n",
        "    (Ψ, Ψtgt) ∈ zip(basis, basis_tgt[i])];\n",
        "    push!(objectives, obj)\n",
        "end"
      ],
      "metadata": {
        "id": "hEMD8D1p6bXx"
      },
      "execution_count": null,
      "outputs": []
    },
    {
      "cell_type": "code",
      "source": [
        "problem=[]\n",
        "for i in 1:100\n",
        "\n",
        "    prob = ControlProblem(\n",
        "    objectives=objectives[i],\n",
        "    tlist=tlist,\n",
        "    pulse_options=Dict(),\n",
        "    iter_stop=800,\n",
        "    J_T=QuantumControl.Functionals.J_T_sm,\n",
        "    check_convergence=res -> begin\n",
        "        ((res.J_T < 1e-3) && (res.converged = true) && (res.message = \"J_T < 10⁻³\"))\n",
        "    end,\n",
        "    );\n",
        "    push!(problem, prob)\n",
        "end"
      ],
      "metadata": {
        "id": "ZQIuL_U76dLN"
      },
      "execution_count": null,
      "outputs": []
    },
    {
      "cell_type": "code",
      "source": [
        "Pkg.add(\"QuantumPropagators\")\n",
        "using QuantumPropagators"
      ],
      "metadata": {
        "colab": {
          "base_uri": "https://localhost:8080/"
        },
        "id": "LFQiGNpD6e_-",
        "outputId": "931377f0-3be8-4556-a547-bb641695e282"
      },
      "execution_count": null,
      "outputs": [
        {
          "output_type": "stream",
          "name": "stderr",
          "text": [
            "\u001b[32m\u001b[1m   Resolving\u001b[22m\u001b[39m package versions...\n",
            "\u001b[32m\u001b[1m    Updating\u001b[22m\u001b[39m `~/.julia/environments/v1.8/Project.toml`\n",
            " \u001b[90m [7bf12567] \u001b[39m\u001b[92m+ QuantumPropagators v0.6.0\u001b[39m\n",
            "\u001b[32m\u001b[1m  No Changes\u001b[22m\u001b[39m to `~/.julia/environments/v1.8/Manifest.toml`\n"
          ]
        }
      ]
    },
    {
      "cell_type": "code",
      "source": [
        "function store_pulses(wrk, iteration, _...)\n",
        "    L = length(wrk.controls)\n",
        "    ϵ_opt = reshape(wrk.pulsevals, L, :)\n",
        "    opt_pulses = [QuantumControl.Controls.discretize_on_midpoints(ϵ_opt[l, :], tlist) for l=1:L]\n",
        "    return Tuple(opt_pulses)\n",
        "end"
      ],
      "metadata": {
        "colab": {
          "base_uri": "https://localhost:8080/"
        },
        "id": "OAKlzNlT62Xj",
        "outputId": "78c4d13d-9219-4f58-8828-6b0493fcb916"
      },
      "execution_count": null,
      "outputs": [
        {
          "output_type": "execute_result",
          "data": {
            "text/plain": [
              "store_pulses (generic function with 1 method)"
            ]
          },
          "metadata": {},
          "execution_count": 25
        }
      ]
    },
    {
      "cell_type": "code",
      "source": [
        "Pkg.add(\"GRAPE\")\n",
        "using GRAPE"
      ],
      "metadata": {
        "colab": {
          "base_uri": "https://localhost:8080/"
        },
        "id": "AIEZiAhB64ie",
        "outputId": "b9ba2d89-ea39-44e7-e319-582217cf4155"
      },
      "execution_count": null,
      "outputs": [
        {
          "output_type": "stream",
          "name": "stderr",
          "text": [
            "\u001b[32m\u001b[1m   Resolving\u001b[22m\u001b[39m package versions...\n",
            "\u001b[32m\u001b[1m    Updating\u001b[22m\u001b[39m `~/.julia/environments/v1.8/Project.toml`\n",
            " \u001b[90m [6b52fcaf] \u001b[39m\u001b[92m+ GRAPE v0.5.4\u001b[39m\n",
            "\u001b[32m\u001b[1m  No Changes\u001b[22m\u001b[39m to `~/.julia/environments/v1.8/Manifest.toml`\n"
          ]
        }
      ]
    },
    {
      "cell_type": "code",
      "source": [
        "wrk=[]\n",
        "for i in 1:100\n",
        "  wrkk=GRAPE.GrapeWrk(problem[i]; )\n",
        "  push!(wrk, wrkk)\n",
        "end\n"
      ],
      "metadata": {
        "id": "jvA_Xou-66Mc"
      },
      "execution_count": null,
      "outputs": []
    },
    {
      "cell_type": "code",
      "source": [
        "using QuantumControlBase"
      ],
      "metadata": {
        "id": "wXrjTA7B6-Ar"
      },
      "execution_count": null,
      "outputs": []
    },
    {
      "cell_type": "code",
      "source": [
        "results1=[]\n",
        "\n",
        "for i in 1:5\n",
        "  opt_result_LBFGSB = optimize(\n",
        "\n",
        "      problem[i],\n",
        "      method = :grape,\n",
        "      force = true,\n",
        "      info_hook = QuantumControlBase.chain_infohooks(\n",
        "\n",
        "          QuantumControl.GRAPE.print_table,\n",
        "          store_pulses\n",
        "      )\n",
        "  );\n",
        "  push!(results1, opt_result_LBFGSB)\n",
        "end\n"
      ],
      "metadata": {
        "colab": {
          "base_uri": "https://localhost:8080/"
        },
        "id": "Nm5-L-8E6_cD",
        "outputId": "4e86354b-766a-4b95-bbaf-c66d7285d0d2"
      },
      "execution_count": null,
      "outputs": [
        {
          "output_type": "stream",
          "name": "stdout",
          "text": [
            " iter.        J_T     |∇J_T|       ΔJ_T   FG(F)    secs\n",
            "     0   9.59e-01   4.11e-01        n/a    1(0)    16.4\n",
            "     1   8.31e-01   1.17e+00  -1.28e-01    3(0)    23.2\n",
            "     2   8.02e-01   1.56e+00  -2.87e-02    2(0)    14.7\n",
            "     3   6.32e-01   1.96e+00  -1.70e-01    1(0)     7.6\n",
            "     4   5.17e-01   2.16e+00  -1.16e-01    2(0)    14.7\n",
            "     5   3.85e-01   1.91e+00  -1.32e-01    1(0)     7.6\n",
            "     6   2.68e-01   1.28e+00  -1.17e-01    1(0)     8.0\n",
            "     7   2.23e-01   1.48e+00  -4.46e-02    1(0)     7.0\n",
            "     8   1.90e-01   1.35e+00  -3.39e-02    1(0)     7.8\n",
            "     9   1.48e-01   6.84e-01  -4.16e-02    1(0)     7.0\n",
            "    10   1.27e-01   5.23e-01  -2.10e-02    1(0)     7.5\n",
            "    11   9.13e-02   9.48e-01  -3.56e-02    1(0)     7.9\n",
            "    12   5.93e-02   7.15e-01  -3.21e-02    1(0)     7.1\n",
            "    13   3.60e-02   6.74e-01  -2.33e-02    1(0)     7.6\n",
            "    14   2.56e-02   4.20e-01  -1.04e-02    1(0)     7.8\n",
            "    15   1.92e-02   3.28e-01  -6.44e-03    1(0)     7.4\n",
            "    16   1.51e-02   2.49e-01  -4.01e-03    1(0)     7.6\n",
            "    17   1.19e-02   2.04e-01  -3.26e-03    1(0)     7.9\n",
            "    18   7.17e-03   2.08e-01  -4.72e-03    1(0)     7.0\n",
            "    19   5.51e-03   2.34e-01  -1.66e-03    2(0)    14.8\n",
            "    20   3.64e-03   1.40e-01  -1.87e-03    1(0)     8.4\n",
            "    21   2.17e-03   9.68e-02  -1.47e-03    1(0)     7.7\n",
            "    22   1.75e-03   1.39e-01  -4.18e-04    1(0)     7.0\n",
            "    23   1.36e-03   6.30e-02  -3.95e-04    1(0)     7.6\n",
            "    24   1.09e-03   4.48e-02  -2.65e-04    1(0)     8.1\n",
            "    25   9.33e-04   3.95e-02  -1.59e-04    1(0)     7.1\n",
            " iter.        J_T     |∇J_T|       ΔJ_T   FG(F)    secs\n",
            "     0   8.98e-01   1.24e+00        n/a    1(0)     7.7\n",
            "     1   7.88e-01   1.46e+00  -1.10e-01    2(0)    15.0\n",
            "     2   6.77e-01   6.71e-01  -1.10e-01    1(0)     7.6\n",
            "     3   4.65e-01   1.97e+00  -2.13e-01    2(0)    14.8\n",
            "     4   4.35e-01   2.02e+00  -2.94e-02    2(0)    15.0\n",
            "     5   3.00e-01   2.07e+00  -1.35e-01    1(0)     7.7\n",
            "     6   1.35e-01   1.76e+00  -1.65e-01    1(0)     7.8\n",
            "     7   7.38e-02   8.94e-01  -6.14e-02    2(0)    14.6\n",
            "     8   6.07e-02   7.80e-01  -1.31e-02    1(0)     7.9\n",
            "     9   4.96e-02   3.47e-01  -1.11e-02    1(0)     7.0\n",
            "    10   4.45e-02   2.91e-01  -5.10e-03    1(0)     7.7\n",
            "    11   3.26e-02   4.77e-01  -1.19e-02    1(0)     7.1\n",
            "    12   2.39e-02   4.48e-01  -8.70e-03    1(0)     7.5\n",
            "    13   1.43e-02   3.78e-01  -9.67e-03    2(0)    15.2\n",
            "    14   1.22e-02   4.99e-01  -2.03e-03    1(0)     7.6\n",
            "    15   6.36e-03   1.76e-01  -5.88e-03    1(0)     7.9\n",
            "    16   4.94e-03   1.25e-01  -1.42e-03    1(0)     7.0\n",
            "    17   2.75e-03   1.19e-01  -2.19e-03    1(0)     7.7\n",
            "    18   1.82e-03   1.82e-01  -9.33e-04    1(0)     7.8\n",
            "    19   1.28e-03   1.18e-01  -5.42e-04    1(0)     7.1\n",
            "    20   9.78e-04   4.22e-02  -2.99e-04    1(0)     7.7\n",
            " iter.        J_T     |∇J_T|       ΔJ_T   FG(F)    secs\n",
            "     0   9.65e-01   5.45e-01        n/a    1(0)     7.3\n",
            "     1   9.32e-01   7.42e-01  -3.24e-02    1(0)     7.4\n",
            "     2   8.20e-01   1.13e+00  -1.12e-01    3(0)    22.8\n",
            "     3   7.67e-01   1.37e+00  -5.35e-02    2(0)    15.3\n",
            "     4   7.16e-01   1.33e+00  -5.05e-02    2(0)    15.4\n",
            "     5   6.06e-01   1.54e+00  -1.10e-01    1(0)     6.9\n",
            "     6   4.57e-01   1.82e+00  -1.49e-01    1(0)     7.8\n",
            "     7   3.47e-01   2.02e+00  -1.10e-01    3(0)    22.7\n",
            "     8   2.77e-01   2.07e+00  -6.99e-02    1(0)     7.0\n",
            "     9   1.84e-01   1.52e+00  -9.31e-02    1(0)     7.7\n",
            "    10   9.44e-02   9.89e-01  -8.99e-02    2(0)    15.0\n",
            "    11   7.00e-02   1.16e+00  -2.44e-02    1(0)     7.6\n",
            "    12   3.81e-02   6.08e-01  -3.19e-02    1(0)     7.9\n",
            "    13   1.61e-02   3.78e-01  -2.20e-02    1(0)     7.1\n",
            "    14   9.57e-03   3.87e-01  -6.54e-03    1(0)     7.6\n",
            "    15   6.20e-03   2.00e-01  -3.37e-03    1(0)     7.2\n",
            "    16   5.19e-03   1.11e-01  -1.01e-03    1(0)     7.6\n",
            "    17   4.29e-03   9.35e-02  -9.01e-04    1(0)     7.9\n",
            "    18   3.13e-03   1.06e-01  -1.16e-03    1(0)     6.9\n",
            "    19   2.40e-03   1.59e-01  -7.24e-04    1(0)     7.8\n",
            "    20   1.76e-03   6.51e-02  -6.41e-04    1(0)     7.8\n",
            "    21   1.56e-03   4.78e-02  -1.99e-04    1(0)     6.9\n",
            "    22   1.29e-03   5.85e-02  -2.71e-04    1(0)     7.7\n",
            "    23   9.66e-04   6.36e-02  -3.24e-04    1(0)     8.0\n",
            " iter.        J_T     |∇J_T|       ΔJ_T   FG(F)    secs\n",
            "     0   9.79e-01   5.22e-01        n/a    1(0)     7.3\n",
            "     1   9.16e-01   9.85e-01  -6.25e-02    1(0)     7.7\n",
            "     2   8.84e-01   1.23e+00  -3.18e-02    1(0)     7.3\n",
            "     3   8.74e-01   1.24e+00  -1.00e-02    5(0)    37.9\n",
            "     4   8.70e-01   1.59e+00  -4.13e-03    2(0)    15.6\n",
            "     5   4.01e-01   2.30e+00  -4.70e-01    1(0)     7.8\n",
            "     6   3.30e-01   2.16e+00  -7.08e-02    4(0)    29.7\n",
            "     7   2.62e-01   2.18e+00  -6.80e-02    1(0)     7.7\n",
            "     8   9.93e-02   1.58e+00  -1.63e-01    1(0)     7.1\n",
            "     9   3.49e-02   9.18e-01  -6.44e-02    1(0)     7.5\n",
            "    10   1.29e-02   5.62e-01  -2.20e-02    1(0)     8.1\n",
            "    11   4.89e-03   3.25e-01  -7.99e-03    1(0)     7.0\n",
            "    12   1.59e-03   2.11e-01  -3.30e-03    1(0)     7.7\n",
            "    13   5.10e-04   1.38e-01  -1.08e-03    1(0)     7.9\n",
            " iter.        J_T     |∇J_T|       ΔJ_T   FG(F)    secs\n",
            "     0   9.98e-01   1.71e-01        n/a    1(0)     7.1\n",
            "     1   8.90e-01   8.79e-01  -1.09e-01    1(0)     7.7\n",
            "     2   7.98e-01   1.77e+00  -9.18e-02    1(0)     7.9\n",
            "     3   5.55e-01   1.88e+00  -2.43e-01    1(0)     7.0\n",
            "     4   5.48e-01   1.73e+00  -7.70e-03    2(0)    15.0\n",
            "     5   4.50e-01   2.21e+00  -9.72e-02    1(0)     7.5\n",
            "     6   2.69e-01   1.05e+00  -1.81e-01    1(0)     7.9\n",
            "     7   1.92e-01   1.20e+00  -7.72e-02    1(0)     7.1\n",
            "     8   1.35e-01   1.72e+00  -5.71e-02    1(0)     7.6\n",
            "     9   6.37e-02   8.57e-01  -7.10e-02    1(0)     7.8\n",
            "    10   3.79e-02   6.14e-01  -2.58e-02    1(0)     7.0\n",
            "    11   2.11e-02   5.00e-01  -1.67e-02    1(0)     7.8\n",
            "    12   6.11e-03   3.19e-01  -1.50e-02    1(0)     7.9\n",
            "    13   4.07e-03   3.51e-01  -2.04e-03    1(0)     7.0\n",
            "    14   1.83e-03   9.67e-02  -2.24e-03    1(0)     7.7\n",
            "    15   1.37e-03   7.06e-02  -4.62e-04    1(0)     7.2\n",
            "    16   8.27e-04   6.97e-02  -5.46e-04    1(0)     7.5\n"
          ]
        }
      ]
    },
    {
      "cell_type": "code",
      "source": [
        "J_F_t_3Q_J2_6G1=[]\n",
        "for i in 1:5\n",
        "  J_F=results1[i].J_T\n",
        "  push!(J_F_t_3Q_J2_6G1, J_F)\n",
        "end"
      ],
      "metadata": {
        "id": "YEIICtaK9sss"
      },
      "execution_count": null,
      "outputs": []
    },
    {
      "cell_type": "code",
      "source": [
        "results2=[]\n",
        "\n",
        "for i in 6:10\n",
        "  opt_result_LBFGSB = optimize(\n",
        "\n",
        "      problem[i],\n",
        "      method = :grape,\n",
        "      force = true,\n",
        "      info_hook = QuantumControlBase.chain_infohooks(\n",
        "\n",
        "          QuantumControl.GRAPE.print_table,\n",
        "          store_pulses\n",
        "      )\n",
        "  );\n",
        "  push!(results2, opt_result_LBFGSB)\n",
        "end\n"
      ],
      "metadata": {
        "colab": {
          "base_uri": "https://localhost:8080/"
        },
        "id": "HZDCl5Sz9xOK",
        "outputId": "69a2b030-63e3-4f76-a53f-65f258eea621"
      },
      "execution_count": null,
      "outputs": [
        {
          "output_type": "stream",
          "name": "stdout",
          "text": [
            " iter.        J_T     |∇J_T|       ΔJ_T   FG(F)    secs\n",
            "     0   9.63e-01   4.03e-01        n/a    1(0)     7.8\n",
            "     1   8.65e-01   1.20e+00  -9.80e-02    1(0)     7.1\n",
            "     2   7.48e-01   1.21e+00  -1.16e-01    1(0)     7.8\n",
            "     3   6.65e-01   1.84e+00  -8.34e-02    2(0)    15.4\n",
            "     4   5.81e-01   2.09e+00  -8.39e-02    1(0)     7.7\n",
            "     5   3.92e-01   2.03e+00  -1.89e-01    2(0)    14.8\n",
            "     6   2.72e-01   2.10e+00  -1.19e-01    1(0)     7.7\n",
            "     7   1.83e-01   1.62e+00  -8.94e-02    2(0)    14.8\n",
            "     8   1.35e-01   1.45e+00  -4.77e-02    1(0)     7.7\n",
            "     9   8.38e-02   7.17e-01  -5.15e-02    1(0)     7.2\n",
            "    10   5.09e-02   6.58e-01  -3.29e-02    1(0)     7.5\n",
            "    11   2.54e-02   5.91e-01  -2.55e-02    1(0)     7.9\n",
            "    12   1.02e-02   4.27e-01  -1.52e-02    1(0)     7.0\n",
            "    13   3.99e-03   2.44e-01  -6.21e-03    1(0)     7.7\n",
            "    14   2.09e-03   1.42e-01  -1.89e-03    1(0)     7.9\n",
            "    15   6.13e-04   7.54e-02  -1.48e-03    1(0)     7.1\n",
            " iter.        J_T     |∇J_T|       ΔJ_T   FG(F)    secs\n",
            "     0   9.85e-01   4.84e-01        n/a    1(0)     7.7\n",
            "     1   7.83e-01   1.40e+00  -2.02e-01    3(0)    22.6\n",
            "     2   6.80e-01   1.21e+00  -1.03e-01    1(0)     7.2\n",
            "     3   6.06e-01   1.11e+00  -7.46e-02    2(0)    15.3\n",
            "     4   5.48e-01   1.63e+00  -5.82e-02    2(0)    14.7\n",
            "     5   4.32e-01   2.03e+00  -1.16e-01    1(0)     7.9\n",
            "     6   3.55e-01   2.07e+00  -7.74e-02    2(0)    14.6\n",
            "     7   2.76e-01   1.98e+00  -7.88e-02    1(0)     7.6\n",
            "     8   1.64e-01   1.62e+00  -1.11e-01    1(0)     7.1\n",
            "     9   8.14e-02   8.53e-01  -8.30e-02    1(0)     7.8\n",
            "    10   6.19e-02   9.53e-01  -1.95e-02    1(0)     6.9\n",
            "    11   3.98e-02   3.89e-01  -2.21e-02    1(0)     7.7\n",
            "    12   3.07e-02   2.79e-01  -9.13e-03    1(0)     8.4\n",
            "    13   1.93e-02   3.60e-01  -1.13e-02    1(0)     7.1\n",
            "    14   1.54e-02   4.99e-01  -3.94e-03    1(0)     7.6\n",
            "    15   8.45e-03   1.97e-01  -6.93e-03    1(0)     7.9\n",
            "    16   6.16e-03   1.16e-01  -2.29e-03    1(0)     7.0\n",
            "    17   5.26e-03   1.08e-01  -8.97e-04    1(0)     7.6\n",
            "    18   3.99e-03   1.10e-01  -1.27e-03    1(0)     7.9\n",
            "    19   3.41e-03   1.82e-01  -5.82e-04    1(0)     7.1\n",
            "    20   2.65e-03   7.77e-02  -7.60e-04    1(0)     7.7\n",
            "    21   2.24e-03   6.81e-02  -4.09e-04    1(0)     7.3\n",
            "    22   1.62e-03   8.54e-02  -6.18e-04    1(0)     7.4\n",
            "    23   1.09e-03   1.32e-01  -5.31e-04    1(0)     7.9\n",
            "    24   6.33e-04   7.16e-02  -4.56e-04    1(0)     7.1\n",
            " iter.        J_T     |∇J_T|       ΔJ_T   FG(F)    secs\n",
            "     0   9.83e-01   4.70e-01        n/a    1(0)     7.6\n",
            "     1   7.42e-01   1.23e+00  -2.40e-01    3(0)    22.5\n",
            "     2   6.63e-01   1.01e+00  -7.93e-02    1(0)     7.8\n",
            "     3   6.13e-01   1.24e+00  -4.96e-02    2(0)    14.9\n",
            "     4   5.49e-01   1.63e+00  -6.40e-02    2(0)    14.6\n",
            "     5   5.07e-01   1.89e+00  -4.29e-02    1(0)     7.8\n",
            "     6   3.72e-01   1.28e+00  -1.34e-01    1(0)     7.1\n",
            "     7   2.58e-01   1.51e+00  -1.14e-01    1(0)     7.6\n",
            "     8   1.89e-01   8.43e-01  -6.88e-02    1(0)     7.8\n",
            "     9   1.38e-01   1.06e+00  -5.08e-02    1(0)     7.0\n",
            "    10   9.14e-02   1.17e+00  -4.69e-02    1(0)     7.7\n",
            "    11   4.82e-02   7.14e-01  -4.32e-02    1(0)     7.6\n",
            "    12   3.21e-02   4.98e-01  -1.61e-02    1(0)     7.3\n",
            "    13   2.68e-02   4.91e-01  -5.27e-03    1(0)     7.7\n",
            "    14   1.97e-02   3.00e-01  -7.14e-03    1(0)     7.1\n",
            "    15   1.37e-02   2.62e-01  -6.00e-03    1(0)     7.7\n",
            "    16   9.48e-03   2.56e-01  -4.20e-03    1(0)     7.9\n",
            "    17   7.26e-03   3.74e-01  -2.22e-03    1(0)     7.6\n",
            "    18   4.50e-03   1.26e-01  -2.76e-03    1(0)     7.6\n",
            "    19   4.03e-03   7.21e-02  -4.64e-04    1(0)     7.8\n",
            "    20   3.62e-03   7.29e-02  -4.13e-04    1(0)     7.0\n",
            "    21   2.80e-03   8.92e-02  -8.26e-04    1(0)     7.6\n",
            "    22   2.05e-03   1.52e-01  -7.46e-04    1(0)     7.8\n",
            "    23   1.17e-03   8.67e-02  -8.82e-04    1(0)     7.0\n",
            "    24   6.52e-04   4.84e-02  -5.16e-04    1(0)     7.7\n",
            " iter.        J_T     |∇J_T|       ΔJ_T   FG(F)    secs\n",
            "     0   9.70e-01   5.45e-01        n/a    1(0)     7.0\n",
            "     1   8.99e-01   1.23e+00  -7.08e-02    1(0)     7.6\n",
            "     2   6.74e-01   1.37e+00  -2.25e-01    3(0)    22.6\n",
            "     3   6.37e-01   1.38e+00  -3.74e-02    2(0)    14.9\n",
            "     4   5.66e-01   1.23e+00  -7.12e-02    1(0)     7.6\n",
            "     5   5.25e-01   1.62e+00  -4.06e-02    1(0)     7.6\n",
            "     6   4.50e-01   5.89e-01  -7.47e-02    1(0)     7.3\n",
            "     7   3.09e-01   2.33e+00  -1.42e-01    2(0)    14.8\n",
            "     8   2.88e-01   2.64e+00  -2.05e-02    3(0)    22.5\n",
            "     9   2.27e-01   2.48e+00  -6.13e-02    1(0)     7.6\n",
            "    10   1.39e-01   1.68e+00  -8.74e-02    1(0)     7.8\n",
            "    11   5.38e-02   8.71e-01  -8.54e-02    1(0)     7.0\n",
            "    12   3.31e-02   5.17e-01  -2.07e-02    1(0)     7.7\n",
            "    13   2.01e-02   3.61e-01  -1.31e-02    1(0)     6.8\n",
            "    14   1.13e-02   3.06e-01  -8.73e-03    1(0)     7.4\n",
            "    15   7.34e-03   5.11e-01  -4.00e-03    1(0)     7.9\n",
            "    16   2.23e-03   1.81e-01  -5.11e-03    1(0)     7.0\n",
            "    17   1.46e-03   6.13e-02  -7.65e-04    1(0)     7.7\n",
            "    18   1.28e-03   5.05e-02  -1.86e-04    1(0)     7.8\n",
            "    19   8.12e-04   6.44e-02  -4.64e-04    1(0)     8.0\n",
            " iter.        J_T     |∇J_T|       ΔJ_T   FG(F)    secs\n",
            "     0   9.55e-01   5.44e-01        n/a    1(0)     7.6\n",
            "     1   7.83e-01   9.60e-01  -1.73e-01    2(0)    14.7\n",
            "     2   7.71e-01   1.02e+00  -1.16e-02    2(0)    15.2\n",
            "     3   7.08e-01   9.28e-01  -6.35e-02    1(0)     7.3\n",
            "     4   6.29e-01   1.34e+00  -7.87e-02    2(0)    14.8\n",
            "     5   5.62e-01   1.46e+00  -6.73e-02    1(0)     7.7\n",
            "     6   4.86e-01   1.09e+00  -7.61e-02    1(0)     7.8\n",
            "     7   4.30e-01   1.04e+00  -5.53e-02    1(0)     7.0\n",
            "     8   3.33e-01   2.15e+00  -9.75e-02    1(0)     7.5\n",
            "     9   2.80e-01   2.25e+00  -5.28e-02    2(0)    14.8\n",
            "    10   1.55e-01   1.47e+00  -1.25e-01    1(0)     7.9\n",
            "    11   9.82e-02   1.17e+00  -5.69e-02    1(0)     7.4\n",
            "    12   7.17e-02   4.88e-01  -2.65e-02    1(0)     7.7\n",
            "    13   6.34e-02   4.46e-01  -8.36e-03    1(0)     8.1\n",
            "    14   5.37e-02   3.38e-01  -9.64e-03    1(0)     7.2\n",
            "    15   4.33e-02   3.18e-01  -1.04e-02    1(0)     7.9\n",
            "    16   3.42e-02   3.83e-01  -9.16e-03    1(0)     8.0\n",
            "    17   2.40e-02   4.05e-01  -1.02e-02    1(0)     6.8\n",
            "    18   1.84e-02   4.97e-01  -5.52e-03    1(0)     7.6\n",
            "    19   1.19e-02   2.18e-01  -6.59e-03    1(0)     7.9\n",
            "    20   8.86e-03   1.99e-01  -2.99e-03    1(0)     7.0\n",
            "    21   5.56e-03   2.08e-01  -3.30e-03    1(0)     7.7\n",
            "    22   4.25e-03   3.00e-01  -1.30e-03    1(0)     7.5\n",
            "    23   2.36e-03   8.81e-02  -1.89e-03    1(0)     7.4\n",
            "    24   1.98e-03   5.71e-02  -3.80e-04    1(0)     7.8\n",
            "    25   1.72e-03   5.64e-02  -2.64e-04    1(0)     7.2\n",
            "    26   1.36e-03   9.37e-02  -3.54e-04    1(0)     7.8\n",
            "    27   1.01e-03   5.82e-02  -3.50e-04    1(0)     7.9\n",
            "    28   7.31e-04   5.20e-02  -2.82e-04    1(0)     7.8\n"
          ]
        }
      ]
    },
    {
      "cell_type": "code",
      "source": [
        "J_F_t_3Q_J2_6G2=[]\n",
        "for i in 1:5\n",
        "  J_F=results2[i].J_T\n",
        "  push!(J_F_t_3Q_J2_6G2, J_F)\n",
        "end"
      ],
      "metadata": {
        "id": "9Qnb96bL9z3P"
      },
      "execution_count": null,
      "outputs": []
    }
  ]
}