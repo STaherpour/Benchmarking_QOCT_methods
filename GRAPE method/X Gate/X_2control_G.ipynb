{
  "nbformat": 4,
  "nbformat_minor": 0,
  "metadata": {
    "colab": {
      "provenance": []
    },
    "kernelspec": {
      "name": "python3",
      "display_name": "Python 3"
    },
    "language_info": {
      "name": "python"
    }
  },
  "cells": [
    {
      "cell_type": "code",
      "metadata": {
        "id": "GIeFXS0F0zww",
        "colab": {
          "base_uri": "https://localhost:8080/"
        },
        "outputId": "d01bbebf-abb0-4047-fbe0-09540b4c5c22"
      },
      "source": [
        "%%shell\n",
        "set -e\n",
        "\n",
        "#---------------------------------------------------#\n",
        "JULIA_VERSION=\"1.8.2\" # any version ≥ 0.7.0\n",
        "JULIA_PACKAGES=\"IJulia BenchmarkTools\"\n",
        "JULIA_PACKAGES_IF_GPU=\"CUDA\" # or CuArrays for older Julia versions\n",
        "JULIA_NUM_THREADS=2\n",
        "#---------------------------------------------------#\n",
        "\n",
        "if [ -z `which julia` ]; then\n",
        "  # Install Julia\n",
        "  JULIA_VER=`cut -d '.' -f -2 <<< \"$JULIA_VERSION\"`\n",
        "  echo \"Installing Julia $JULIA_VERSION on the current Colab Runtime...\"\n",
        "  BASE_URL=\"https://julialang-s3.julialang.org/bin/linux/x64\"\n",
        "  URL=\"$BASE_URL/$JULIA_VER/julia-$JULIA_VERSION-linux-x86_64.tar.gz\"\n",
        "  wget -nv $URL -O /tmp/julia.tar.gz # -nv means \"not verbose\"\n",
        "  tar -x -f /tmp/julia.tar.gz -C /usr/local --strip-components 1\n",
        "  rm /tmp/julia.tar.gz\n",
        "\n",
        "  # Install Packages\n",
        "  nvidia-smi -L &> /dev/null && export GPU=1 || export GPU=0\n",
        "  if [ $GPU -eq 1 ]; then\n",
        "    JULIA_PACKAGES=\"$JULIA_PACKAGES $JULIA_PACKAGES_IF_GPU\"\n",
        "  fi\n",
        "  for PKG in `echo $JULIA_PACKAGES`; do\n",
        "    echo \"Installing Julia package $PKG...\"\n",
        "    julia -e 'using Pkg; pkg\"add '$PKG'; precompile;\"' &> /dev/null\n",
        "  done\n",
        "\n",
        "  # Install kernel and rename it to \"julia\"\n",
        "  echo \"Installing IJulia kernel...\"\n",
        "  julia -e 'using IJulia; IJulia.installkernel(\"julia\", env=Dict(\n",
        "      \"JULIA_NUM_THREADS\"=>\"'\"$JULIA_NUM_THREADS\"'\"))'\n",
        "  KERNEL_DIR=`julia -e \"using IJulia; print(IJulia.kerneldir())\"`\n",
        "  KERNEL_NAME=`ls -d \"$KERNEL_DIR\"/julia*`\n",
        "  mv -f $KERNEL_NAME \"$KERNEL_DIR\"/julia\n",
        "\n",
        "  echo ''\n",
        "  echo \"Successfully installed `julia -v`!\"\n",
        "  echo \"Please reload this page (press Ctrl+R, ⌘+R, or the F5 key) then\"\n",
        "  echo \"jump to the 'Checking the Installation' section.\"\n",
        "fi"
      ],
      "execution_count": null,
      "outputs": [
        {
          "output_type": "stream",
          "name": "stdout",
          "text": [
            "Installing Julia 1.8.2 on the current Colab Runtime...\n",
            "2023-01-11 11:42:08 URL:https://storage.googleapis.com/julialang2/bin/linux/x64/1.8/julia-1.8.2-linux-x86_64.tar.gz [135859273/135859273] -> \"/tmp/julia.tar.gz\" [1]\n",
            "Installing Julia package IJulia...\n",
            "Installing Julia package BenchmarkTools...\n",
            "Installing IJulia kernel...\n",
            "\u001b[36m\u001b[1m[ \u001b[22m\u001b[39m\u001b[36m\u001b[1mInfo: \u001b[22m\u001b[39mInstalling julia kernelspec in /root/.local/share/jupyter/kernels/julia-1.8\n",
            "\n",
            "Successfully installed julia version 1.8.2!\n",
            "Please reload this page (press Ctrl+R, ⌘+R, or the F5 key) then\n",
            "jump to the 'Checking the Installation' section.\n"
          ]
        },
        {
          "output_type": "execute_result",
          "data": {
            "text/plain": []
          },
          "metadata": {},
          "execution_count": 1
        }
      ]
    },
    {
      "cell_type": "code",
      "metadata": {
        "id": "EEzvvzCl1i0F",
        "colab": {
          "base_uri": "https://localhost:8080/"
        },
        "outputId": "95415dd4-04d3-4c78-868b-99c050f7774e"
      },
      "source": [
        "versioninfo()"
      ],
      "execution_count": null,
      "outputs": [
        {
          "output_type": "stream",
          "name": "stdout",
          "text": [
            "Julia Version 1.8.2\n",
            "Commit 36034abf260 (2022-09-29 15:21 UTC)\n",
            "Platform Info:\n",
            "  OS: Linux (x86_64-linux-gnu)\n",
            "  CPU: 2 × Intel(R) Xeon(R) CPU @ 2.20GHz\n",
            "  WORD_SIZE: 64\n",
            "  LIBM: libopenlibm\n",
            "  LLVM: libLLVM-13.0.1 (ORCJIT, broadwell)\n",
            "  Threads: 2 on 2 virtual cores\n",
            "Environment:\n",
            "  LD_LIBRARY_PATH = /usr/local/nvidia/lib:/usr/local/nvidia/lib64\n",
            "  LD_PRELOAD = /usr/lib/x86_64-linux-gnu/libtcmalloc.so.4\n",
            "  JULIA_NUM_THREADS = 2\n"
          ]
        }
      ]
    },
    {
      "cell_type": "markdown",
      "metadata": {
        "id": "2UMidUQB03vJ"
      },
      "source": [
        "\n",
        "\n",
        "<img src=\"https://raw.githubusercontent.com/JuliaLang/julia-logo-graphics/master/images/julia-logo-mask.png\" height=\"100\" />"
      ]
    },
    {
      "cell_type": "code",
      "execution_count": null,
      "metadata": {
        "id": "CwNllC2VNPsU"
      },
      "outputs": [],
      "source": [
        "using Pkg"
      ]
    },
    {
      "cell_type": "code",
      "execution_count": null,
      "metadata": {
        "id": "XTZpYmf9NdGN"
      },
      "outputs": [],
      "source": [
        "Pkg.add(url=\"https://github.com/JuliaQuantumControl/GRAPELinesearchAnalysis.jl.git\")"
      ]
    },
    {
      "cell_type": "code",
      "execution_count": null,
      "metadata": {
        "id": "gLu2bZCPNeyZ"
      },
      "outputs": [],
      "source": [
        "Pkg.add(\"QuantumControl\")"
      ]
    },
    {
      "cell_type": "code",
      "execution_count": null,
      "metadata": {
        "id": "HmPf3LdzRhTW"
      },
      "outputs": [],
      "source": [
        "using GRAPELinesearchAnalysis"
      ]
    },
    {
      "cell_type": "code",
      "execution_count": null,
      "metadata": {
        "id": "vIMyAouORjTi"
      },
      "outputs": [],
      "source": [
        "using QuantumControl"
      ]
    },
    {
      "cell_type": "code",
      "execution_count": null,
      "metadata": {
        "colab": {
          "base_uri": "https://localhost:8080/"
        },
        "id": "FYL7TSESRlOt",
        "outputId": "37760e1d-eec9-497f-a6d8-3e183d68db82"
      },
      "outputs": [
        {
          "output_type": "stream",
          "name": "stderr",
          "text": [
            "\u001b[32m\u001b[1m   Resolving\u001b[22m\u001b[39m package versions...\n",
            "\u001b[32m\u001b[1m    Updating\u001b[22m\u001b[39m `~/.julia/environments/v1.8/Project.toml`\n",
            " \u001b[90m [f10a33bc] \u001b[39m\u001b[92m+ QuantumControlBase v0.7.0\u001b[39m\n",
            "\u001b[32m\u001b[1m  No Changes\u001b[22m\u001b[39m to `~/.julia/environments/v1.8/Manifest.toml`\n"
          ]
        }
      ],
      "source": [
        "Pkg.add(\"QuantumControlBase\")"
      ]
    },
    {
      "cell_type": "code",
      "execution_count": null,
      "metadata": {
        "id": "rsskNZeHRnNI"
      },
      "outputs": [],
      "source": [
        "using QuantumControlBase"
      ]
    },
    {
      "cell_type": "code",
      "execution_count": null,
      "metadata": {
        "id": "hEw9A_8uRslx"
      },
      "outputs": [],
      "source": [
        "ϵ1(t) = 0.2 * QuantumControl.Shapes.flattop(t, T=5, t_rise=0.3, func=:blackman);\n",
        "ϵ2(t) = 0.2 * QuantumControl.Shapes.flattop(t, T=5, t_rise=0.3, func=:blackman);"
      ]
    },
    {
      "cell_type": "code",
      "execution_count": null,
      "metadata": {
        "id": "4IeA_ZB4R5A0"
      },
      "outputs": [],
      "source": [
        "\"\"\"Two-level-system Hamiltonian.\"\"\"\n",
        "function hamiltonian(Ω=1.0, ϵ1=ϵ1,ϵ2=ϵ2 )\n",
        "    σ̂_z = ComplexF64[\n",
        "        1  0\n",
        "        0 -1\n",
        "    ]\n",
        "    σ̂_x = ComplexF64[\n",
        "        0  1\n",
        "        1  0\n",
        "    ]\n",
        "    σ̂_y = ComplexF64[\n",
        "        0  0-1im\n",
        "        0+1im  0\n",
        "    ]\n",
        "    Ĥ₀ = -0.5 * Ω * σ̂_z\n",
        "    Ĥ₁ = σ̂_x\n",
        "    Ĥ2 = σ̂_y\n",
        "    return (Ĥ₀, (Ĥ₁, ϵ1), (Ĥ2, ϵ2))\n",
        "end;"
      ]
    },
    {
      "cell_type": "code",
      "execution_count": null,
      "metadata": {
        "id": "vt85QDncR5yN"
      },
      "outputs": [],
      "source": [
        "H = hamiltonian();"
      ]
    },
    {
      "cell_type": "code",
      "execution_count": null,
      "metadata": {
        "id": "1TqEIFzVR70A"
      },
      "outputs": [],
      "source": [
        "tlist = collect(range(0, 5, length=500));"
      ]
    },
    {
      "cell_type": "code",
      "execution_count": null,
      "metadata": {
        "colab": {
          "base_uri": "https://localhost:8080/"
        },
        "id": "B9U-Ui-ZSBJn",
        "outputId": "7838c493-df0c-4b11-c360-3dc9255ec90d"
      },
      "outputs": [
        {
          "output_type": "stream",
          "name": "stderr",
          "text": [
            "\u001b[32m\u001b[1m   Resolving\u001b[22m\u001b[39m package versions...\n",
            "\u001b[32m\u001b[1m    Updating\u001b[22m\u001b[39m `~/.julia/environments/v1.8/Project.toml`\n",
            " \u001b[90m [91a5bcdd] \u001b[39m\u001b[92m+ Plots v1.38.1\u001b[39m\n",
            "\u001b[32m\u001b[1m  No Changes\u001b[22m\u001b[39m to `~/.julia/environments/v1.8/Manifest.toml`\n"
          ]
        }
      ],
      "source": [
        "Pkg.add(\"Plots\")\n",
        "using Plots\n",
        "Plots.default(\n",
        "    linewidth               = 3,\n",
        "    size                    = (550, 300),\n",
        "    legend                  = :right,\n",
        "    foreground_color_legend = nothing,\n",
        "    background_color_legend = RGBA(1, 1, 1, 0.8)\n",
        ")"
      ]
    },
    {
      "cell_type": "code",
      "execution_count": null,
      "metadata": {
        "id": "JO8llTt1b2b2"
      },
      "outputs": [],
      "source": [
        "using LinearAlgebra"
      ]
    },
    {
      "cell_type": "code",
      "execution_count": null,
      "metadata": {
        "id": "OpIbNnxcSE9J"
      },
      "outputs": [],
      "source": [
        "function ket_(label)\n",
        "    result = Dict(\"0\" => Vector{ComplexF64}([1, 0]), \"1\" => Vector{ComplexF64}([0, 1]))\n",
        "    return result[string(label)]\n",
        "end;"
      ]
    },
    {
      "cell_type": "code",
      "execution_count": null,
      "metadata": {
        "id": "fm9kGKNJBRWM",
        "colab": {
          "base_uri": "https://localhost:8080/"
        },
        "outputId": "2d25d3d3-8618-4c6b-d840-d6a878f28af0"
      },
      "outputs": [
        {
          "output_type": "execute_result",
          "data": {
            "text/plain": [
              "2×2 Matrix{Int64}:\n",
              " 1   0\n",
              " 0  -1"
            ]
          },
          "metadata": {},
          "execution_count": 21
        }
      ],
      "source": [
        "# Pauli matrices\n",
        "\n",
        "sigma_x = [[0, 1] [1, 0]]\n",
        "sigma_y = [[0, 0-1im] [1im, 0]]\n",
        "sigma_z = [[1, 0] [0, -1]]\n"
      ]
    },
    {
      "cell_type": "code",
      "source": [
        "basis = [ket_(\"0\"),ket_(\"1\")];"
      ],
      "metadata": {
        "id": "QikRD-Rv6mSU"
      },
      "execution_count": null,
      "outputs": []
    },
    {
      "cell_type": "code",
      "source": [
        "XGate = [[0, 1] [1, 0]];"
      ],
      "metadata": {
        "id": "EGSWRG7p7Bq3"
      },
      "execution_count": null,
      "outputs": []
    },
    {
      "cell_type": "code",
      "source": [
        "basis_tgt = transpose(sigma_x) * basis;"
      ],
      "metadata": {
        "id": "4RHbKyvp7Zls"
      },
      "execution_count": null,
      "outputs": []
    },
    {
      "cell_type": "code",
      "execution_count": null,
      "metadata": {
        "id": "XSr8oyoGVh2k",
        "colab": {
          "base_uri": "https://localhost:8080/"
        },
        "outputId": "a1c1978f-ca9e-4d28-ab47-275a31775bdc"
      },
      "outputs": [
        {
          "output_type": "execute_result",
          "data": {
            "text/plain": [
              "2-element Vector{Objective{Vector{ComplexF64}, Tuple{Matrix{ComplexF64}, Tuple{Matrix{ComplexF64}, typeof(ϵ1)}, Tuple{Matrix{ComplexF64}, typeof(ϵ2)}}}}:\n",
              " Objective{Vector{ComplexF64}, Tuple{Matrix{ComplexF64}, Tuple{Matrix{ComplexF64}, typeof(ϵ1)}, Tuple{Matrix{ComplexF64}, typeof(ϵ2)}}}(…)\n",
              " Objective{Vector{ComplexF64}, Tuple{Matrix{ComplexF64}, Tuple{Matrix{ComplexF64}, typeof(ϵ1)}, Tuple{Matrix{ComplexF64}, typeof(ϵ2)}}}(…)"
            ]
          },
          "metadata": {},
          "execution_count": 80
        }
      ],
      "source": [
        "objectives = [Objective(initial_state = Ψ, target_state = Ψtgt, generator = H) for\n",
        "    (Ψ, Ψtgt) ∈ zip(basis, basis_tgt)];\n",
        "\n",
        "objectives\n"
      ]
    },
    {
      "cell_type": "code",
      "source": [
        "problem = ControlProblem(\n",
        "    objectives=objectives,\n",
        "    tlist=tlist,\n",
        "    pulse_options=Dict(),\n",
        "    iter_stop=500,\n",
        "    J_T=QuantumControl.Functionals.J_T_sm,\n",
        "    check_convergence=res -> begin\n",
        "        ((res.J_T < 1e-3) && (res.converged = true) && (res.message = \"J_T < 10⁻³\"))\n",
        "    end,\n",
        ");"
      ],
      "metadata": {
        "id": "jgVZBwxe_fsC"
      },
      "execution_count": null,
      "outputs": []
    },
    {
      "cell_type": "code",
      "source": [
        "guess_states = propagate_objectives(objectives, tlist; use_threads=true);"
      ],
      "metadata": {
        "id": "d0wgj5dr_9Pt"
      },
      "execution_count": null,
      "outputs": []
    },
    {
      "cell_type": "code",
      "source": [
        "U_guess = [basis[i] ⋅ guess_states[j] for i = 1:2, j = 1:2];"
      ],
      "metadata": {
        "id": "FJK5Pu4sADcO"
      },
      "execution_count": null,
      "outputs": []
    },
    {
      "cell_type": "code",
      "source": [
        "function plot_population(pop0::Vector, pop1::Vector, tlist)\n",
        "    fig = plot(tlist, pop0, label=\"0\", xlabel=\"time\", ylabel=\"population\")\n",
        "    plot!(fig, tlist, pop1; label=\"1\")\n",
        "end;"
      ],
      "metadata": {
        "id": "i3MD68-A_mVU"
      },
      "execution_count": null,
      "outputs": []
    },
    {
      "cell_type": "code",
      "source": [
        "Pkg.add(\"QuantumPropagators\")\n",
        "using QuantumPropagators"
      ],
      "metadata": {
        "colab": {
          "base_uri": "https://localhost:8080/"
        },
        "id": "oeelCVcaAzRO",
        "outputId": "4902fdc0-f2de-457b-f2ee-5deefc1cd119"
      },
      "execution_count": null,
      "outputs": [
        {
          "output_type": "stream",
          "name": "stderr",
          "text": [
            "\u001b[32m\u001b[1m   Resolving\u001b[22m\u001b[39m package versions...\n",
            "\u001b[32m\u001b[1m    Updating\u001b[22m\u001b[39m `~/.julia/environments/v1.8/Project.toml`\n",
            " \u001b[90m [7bf12567] \u001b[39m\u001b[92m+ QuantumPropagators v0.3.0\u001b[39m\n",
            "\u001b[32m\u001b[1m  No Changes\u001b[22m\u001b[39m to `~/.julia/environments/v1.8/Manifest.toml`\n"
          ]
        }
      ]
    },
    {
      "cell_type": "code",
      "source": [
        "function store_pulses(wrk, iteration, _...)\n",
        "    L = length(wrk.controls)\n",
        "    ϵ_opt = reshape(wrk.pulsevals, L, :)\n",
        "    opt_pulses = [QuantumControl.Controls.discretize_on_midpoints(ϵ_opt[l, :], tlist) for l=1:L]\n",
        "    return Tuple(opt_pulses)\n",
        "end"
      ],
      "metadata": {
        "colab": {
          "base_uri": "https://localhost:8080/"
        },
        "id": "tfT_QnO1A5VD",
        "outputId": "4d2eebf4-0bfb-4020-a6cb-bf8c0cd7df9e"
      },
      "execution_count": null,
      "outputs": [
        {
          "output_type": "execute_result",
          "data": {
            "text/plain": [
              "store_pulses (generic function with 1 method)"
            ]
          },
          "metadata": {},
          "execution_count": 35
        }
      ]
    },
    {
      "cell_type": "code",
      "source": [
        "Pkg.add(\"GRAPE\")\n",
        "using GRAPE"
      ],
      "metadata": {
        "colab": {
          "base_uri": "https://localhost:8080/"
        },
        "id": "QJzmRHCRA7oU",
        "outputId": "e0ca627d-8a0e-48f3-fc0d-dccce43b48cf"
      },
      "execution_count": null,
      "outputs": [
        {
          "output_type": "stream",
          "name": "stderr",
          "text": [
            "\u001b[32m\u001b[1m   Resolving\u001b[22m\u001b[39m package versions...\n",
            "\u001b[32m\u001b[1m    Updating\u001b[22m\u001b[39m `~/.julia/environments/v1.8/Project.toml`\n",
            " \u001b[90m [6b52fcaf] \u001b[39m\u001b[92m+ GRAPE v0.5.0\u001b[39m\n",
            "\u001b[32m\u001b[1m  No Changes\u001b[22m\u001b[39m to `~/.julia/environments/v1.8/Manifest.toml`\n"
          ]
        }
      ]
    },
    {
      "cell_type": "code",
      "source": [
        "wrk=GRAPE.GrapeWrk(problem; )"
      ],
      "metadata": {
        "colab": {
          "base_uri": "https://localhost:8080/"
        },
        "id": "Sxl-bnqjAjid",
        "outputId": "bb0f0017-9060-4b54-e65b-3c8f932294b9"
      },
      "execution_count": null,
      "outputs": [
        {
          "output_type": "execute_result",
          "data": {
            "text/plain": [
              "GrapeWrk{}(Objective{Vector{ComplexF64}, Tuple{Matrix{ComplexF64}, Tuple{Matrix{ComplexF64}, typeof(ϵ1)}, Tuple{Matrix{ComplexF64}, typeof(ϵ2)}}}[Objective{Vector{ComplexF64}, Tuple{Matrix{ComplexF64}, Tuple{Matrix{ComplexF64}, typeof(ϵ1)}, Tuple{Matrix{ComplexF64}, typeof(ϵ2)}}}(…), Objective{Vector{ComplexF64}, Tuple{Matrix{ComplexF64}, Tuple{Matrix{ComplexF64}, typeof(ϵ1)}, Tuple{Matrix{ComplexF64}, typeof(ϵ2)}}}(…)], Objective{Vector{ComplexF64}, Tuple{Matrix{ComplexF64}, Tuple{Matrix{ComplexF64}, typeof(ϵ1)}, Tuple{Matrix{ComplexF64}, typeof(ϵ2)}}}[Objective{Vector{ComplexF64}, Tuple{Matrix{ComplexF64}, Tuple{Matrix{ComplexF64}, typeof(ϵ1)}, Tuple{Matrix{ComplexF64}, typeof(ϵ2)}}}(…), Objective{Vector{ComplexF64}, Tuple{Matrix{ComplexF64}, Tuple{Matrix{ComplexF64}, typeof(ϵ1)}, Tuple{Matrix{ComplexF64}, typeof(ϵ2)}}}(…)], Dict{Symbol, Any}(:piecewise => true, :check_convergence => var\"#41#42\"(), :J_T => QuantumControlBase.Functionals.J_T_sm, :iter_stop => 500, :pulse_options => Dict{Any, Any}()), (ϵ1, ϵ2), [-2.7755575615628915e-18, -2.7755575615628915e-18, 0.0004498836583447907, 0.0004498836583447907, 0.001269014020426157, 0.001269014020426157, 0.0025428819003394235, 0.0025428819003394235, 0.004322359651711154, 0.004322359651711154  …  0.0043223596517110874, 0.0043223596517110874, 0.002542881900339493, 0.002542881900339493, 0.001269014020426182, 0.001269014020426182, 0.00044988365834480184, 0.00044988365834480184, -2.7755575615628915e-18, -2.7755575615628915e-18], [-2.7755575615628915e-18, -2.7755575615628915e-18, 0.0004498836583447907, 0.0004498836583447907, 0.001269014020426157, 0.001269014020426157, 0.0025428819003394235, 0.0025428819003394235, 0.004322359651711154, 0.004322359651711154  …  0.0043223596517110874, 0.0043223596517110874, 0.002542881900339493, 0.002542881900339493, 0.001269014020426182, 0.001269014020426182, 0.00044988365834480184, 0.00044988365834480184, -2.7755575615628915e-18, -2.7755575615628915e-18], [0.0, 0.0, 0.0, 0.0, 0.0, 0.0, 0.0, 0.0, 0.0, 0.0  …  0.0, 0.0, 0.0, 0.0, 0.0, 0.0, 0.0, 0.0, 0.0, 0.0], [0.0, 0.0, 0.0, 0.0, 0.0, 0.0, 0.0, 0.0, 0.0, 0.0  …  0.0, 0.0, 0.0, 0.0, 0.0, 0.0, 0.0, 0.0, 0.0, 0.0], [0.0, 0.0, 0.0, 0.0, 0.0, 0.0, 0.0, 0.0, 0.0, 0.0  …  0.0, 0.0, 0.0, 0.0, 0.0, 0.0, 0.0, 0.0, 0.0, 0.0], [0.0, 0.0], [0.0, 0.0, 0.0, 0.0, 0.0, 0.0, 0.0, 0.0, 0.0, 0.0  …  0.0, 0.0, 0.0, 0.0, 0.0, 0.0, 0.0, 0.0, 0.0, 0.0], [Inf, Inf, Inf, Inf, Inf, Inf, Inf, Inf, Inf, Inf  …  Inf, Inf, Inf, Inf, Inf, Inf, Inf, Inf, Inf, Inf], [-Inf, -Inf, -Inf, -Inf, -Inf, -Inf, -Inf, -Inf, -Inf, -Inf  …  -Inf, -Inf, -Inf, -Inf, -Inf, -Inf, -Inf, -Inf, -Inf, -Inf], 0.0, [0, 0], Dict{Any, Any}(), GrapeResult<in progress>, Vector{ComplexF64}[[0.0 + 0.0im, 0.0 + 0.0im], [0.0 + 0.0im, 0.0 + 0.0im]], Matrix{ComplexF64}[[0.0 + 0.0im 0.0 + 0.0im … 0.0 + 0.0im 0.0 + 0.0im; 0.0 + 0.0im 0.0 + 0.0im … 0.0 + 0.0im 0.0 + 0.0im], [0.0 + 0.0im 0.0 + 0.0im … 0.0 + 0.0im 0.0 + 0.0im; 0.0 + 0.0im 0.0 + 0.0im … 0.0 + 0.0im 0.0 + 0.0im]], QuantumControlBase.GradGenerator{Tuple{Matrix{ComplexF64}, Tuple{Matrix{ComplexF64}, typeof(ϵ1)}, Tuple{Matrix{ComplexF64}, typeof(ϵ2)}}, Matrix{ComplexF64}, Function}[QuantumControlBase.GradGenerator{Tuple{Matrix{ComplexF64}, Tuple{Matrix{ComplexF64}, typeof(ϵ1)}, Tuple{Matrix{ComplexF64}, typeof(ϵ2)}}, Matrix{ComplexF64}, Function}((ComplexF64[-0.5 + 0.0im -0.0 + 0.0im; -0.0 + 0.0im 0.5 + 0.0im], (ComplexF64[0.0 - 0.0im 1.0 - 0.0im; 1.0 - 0.0im 0.0 - 0.0im], ϵ1), (ComplexF64[0.0 - 0.0im 0.0 - 1.0im; 0.0 + 1.0im 0.0 - 0.0im], ϵ2)), Matrix{ComplexF64}[[0.0 - 0.0im 1.0 - 0.0im; 1.0 - 0.0im 0.0 - 0.0im], [0.0 - 0.0im 0.0 - 1.0im; 0.0 + 1.0im 0.0 - 0.0im]], Function[ϵ1, ϵ2]), QuantumControlBase.GradGenerator{Tuple{Matrix{ComplexF64}, Tuple{Matrix{ComplexF64}, typeof(ϵ1)}, Tuple{Matrix{ComplexF64}, typeof(ϵ2)}}, Matrix{ComplexF64}, Function}((ComplexF64[-0.5 + 0.0im -0.0 + 0.0im; -0.0 + 0.0im 0.5 + 0.0im], (ComplexF64[0.0 - 0.0im 1.0 - 0.0im; 1.0 - 0.0im 0.0 - 0.0im], ϵ1), (ComplexF64[0.0 - 0.0im 0.0 - 1.0im; 0.0 + 1.0im 0.0 - 0.0im], ϵ2)), Matrix{ComplexF64}[[0.0 - 0.0im 1.0 - 0.0im; 1.0 - 0.0im 0.0 - 0.0im], [0.0 - 0.0im 0.0 - 1.0im; 0.0 + 1.0im 0.0 - 0.0im]], Function[ϵ1, ϵ2])], Matrix{ComplexF64}[[NaN + 1.203030876e-315im NaN + 1.20297965e-315im … NaN + 2.1219957905e-314im NaN + 2.1219957905e-314im; NaN + 1.497417005e-315im NaN + 1.846136338145e-312im … NaN + 1.8336871e-316im NaN + 0.0im], [NaN + 1.52999672e-315im NaN + 1.202979493e-315im … NaN + 3.557e-321im NaN + 8.05e-322im; NaN + 1.530179644e-315im NaN + 6.9049560266337e-310im … NaN + 1.83652027e-316im NaN + 3.62e-321im]], QuantumPropagators.ExpPropagator{Tuple{Matrix{ComplexF64}, Tuple{Matrix{ComplexF64}, typeof(ϵ1)}, Tuple{Matrix{ComplexF64}, typeof(ϵ2)}}, Matrix{ComplexF64}, Vector{ComplexF64}, QuantumPropagators.ExpProp.ExpPropWrk{Vector{ComplexF64}}}[QuantumPropagators.ExpPropagator{Tuple{Matrix{ComplexF64}, Tuple{Matrix{ComplexF64}, typeof(ϵ1)}, Tuple{Matrix{ComplexF64}, typeof(ϵ2)}}, Matrix{ComplexF64}, Vector{ComplexF64}, QuantumPropagators.ExpProp.ExpPropWrk{Vector{ComplexF64}}}((ComplexF64[-0.5 - 0.0im -0.0 - 0.0im; -0.0 - 0.0im 0.5 - 0.0im], (ComplexF64[0.0 + 0.0im 1.0 + 0.0im; 1.0 + 0.0im 0.0 + 0.0im], ϵ1), (ComplexF64[0.0 + 0.0im 0.0 - 1.0im; 0.0 + 1.0im 0.0 + 0.0im], ϵ2)), ComplexF64[1.0 + 0.0im, 0.0 + 0.0im], 0.0, 1, [0.0, 0.01002004008016032, 0.02004008016032064, 0.03006012024048096, 0.04008016032064128, 0.050100200400801605, 0.06012024048096192, 0.07014028056112225, 0.08016032064128256, 0.09018036072144289  …  4.909819639278557, 4.919839679358717, 4.929859719438878, 4.939879759519038, 4.949899799599199, 4.959919839679359, 4.969939879759519, 4.979959919839679, 4.98997995991984, 5.0], IdDict{Function, SubArray{Float64, 1, Vector{Float64}, Tuple{StepRange{Int64, Int64}}, true}}(ϵ1 => [-2.7755575615628915e-18, 0.0004498836583447907, 0.001269014020426157, 0.0025428819003394235, 0.004322359651711154, 0.006669889670207852, 0.009655198659934522, 0.013350337952244546, 0.017824288406719662, 0.02313739119759512  …  0.023137391197595336, 0.017824288406719763, 0.0133503379522446, 0.00965519865993452, 0.006669889670207792, 0.0043223596517110874, 0.002542881900339493, 0.001269014020426182, 0.00044988365834480184, -2.7755575615628915e-18], ϵ2 => [-2.7755575615628915e-18, 0.0004498836583447907, 0.001269014020426157, 0.0025428819003394235, 0.004322359651711154, 0.006669889670207852, 0.009655198659934522, 0.013350337952244546, 0.017824288406719662, 0.02313739119759512  …  0.023137391197595336, 0.017824288406719763, 0.0133503379522446, 0.00965519865993452, 0.006669889670207792, 0.0043223596517110874, 0.002542881900339493, 0.001269014020426182, 0.00044988365834480184, -2.7755575615628915e-18]), (ϵ1, ϵ2), ComplexF64[-0.5 + 0.0im 0.2 - 0.2im; 0.2 + 0.2im 0.5 + 0.0im], QuantumPropagators.ExpProp.ExpPropWrk{Vector{ComplexF64}}(ComplexF64[0.0 + 0.0im, 0.0 + 0.0im]), false, true, Vector{ComplexF64}, Any, QuantumPropagators.var\"#37#39\"()), QuantumPropagators.ExpPropagator{Tuple{Matrix{ComplexF64}, Tuple{Matrix{ComplexF64}, typeof(ϵ1)}, Tuple{Matrix{ComplexF64}, typeof(ϵ2)}}, Matrix{ComplexF64}, Vector{ComplexF64}, QuantumPropagators.ExpProp.ExpPropWrk{Vector{ComplexF64}}}((ComplexF64[-0.5 - 0.0im -0.0 - 0.0im; -0.0 - 0.0im 0.5 - 0.0im], (ComplexF64[0.0 + 0.0im 1.0 + 0.0im; 1.0 + 0.0im 0.0 + 0.0im], ϵ1), (ComplexF64[0.0 + 0.0im 0.0 - 1.0im; 0.0 + 1.0im 0.0 + 0.0im], ϵ2)), ComplexF64[0.0 + 0.0im, 1.0 + 0.0im], 0.0, 1, [0.0, 0.01002004008016032, 0.02004008016032064, 0.03006012024048096, 0.04008016032064128, 0.050100200400801605, 0.06012024048096192, 0.07014028056112225, 0.08016032064128256, 0.09018036072144289  …  4.909819639278557, 4.919839679358717, 4.929859719438878, 4.939879759519038, 4.949899799599199, 4.959919839679359, 4.969939879759519, 4.979959919839679, 4.98997995991984, 5.0], IdDict{Function, SubArray{Float64, 1, Vector{Float64}, Tuple{StepRange{Int64, Int64}}, true}}(ϵ1 => [-2.7755575615628915e-18, 0.0004498836583447907, 0.001269014020426157, 0.0025428819003394235, 0.004322359651711154, 0.006669889670207852, 0.009655198659934522, 0.013350337952244546, 0.017824288406719662, 0.02313739119759512  …  0.023137391197595336, 0.017824288406719763, 0.0133503379522446, 0.00965519865993452, 0.006669889670207792, 0.0043223596517110874, 0.002542881900339493, 0.001269014020426182, 0.00044988365834480184, -2.7755575615628915e-18], ϵ2 => [-2.7755575615628915e-18, 0.0004498836583447907, 0.001269014020426157, 0.0025428819003394235, 0.004322359651711154, 0.006669889670207852, 0.009655198659934522, 0.013350337952244546, 0.017824288406719662, 0.02313739119759512  …  0.023137391197595336, 0.017824288406719763, 0.0133503379522446, 0.00965519865993452, 0.006669889670207792, 0.0043223596517110874, 0.002542881900339493, 0.001269014020426182, 0.00044988365834480184, -2.7755575615628915e-18]), (ϵ1, ϵ2), ComplexF64[-0.5 + 0.0im 0.2 - 0.2im; 0.2 + 0.2im 0.5 + 0.0im], QuantumPropagators.ExpProp.ExpPropWrk{Vector{ComplexF64}}(ComplexF64[0.0 + 0.0im, 0.0 + 0.0im]), false, true, Vector{ComplexF64}, Any, QuantumPropagators.var\"#37#39\"())], QuantumPropagators.ExpPropagator{QuantumControlBase.GradGenerator{Tuple{Matrix{ComplexF64}, Tuple{Matrix{ComplexF64}, typeof(ϵ1)}, Tuple{Matrix{ComplexF64}, typeof(ϵ2)}}, Matrix{ComplexF64}, Function}, QuantumControlBase.GradgenOperator{2, Matrix{ComplexF64}, Matrix{ComplexF64}}, QuantumControlBase.GradVector{2, Vector{ComplexF64}}, QuantumPropagators.ExpProp.ExpPropWrk{Vector{ComplexF64}}}[QuantumPropagators.ExpPropagator{QuantumControlBase.GradGenerator{Tuple{Matrix{ComplexF64}, Tuple{Matrix{ComplexF64}, typeof(ϵ1)}, Tuple{Matrix{ComplexF64}, typeof(ϵ2)}}, Matrix{ComplexF64}, Function}, QuantumControlBase.GradgenOperator{2, Matrix{ComplexF64}, Matrix{ComplexF64}}, QuantumControlBase.GradVector{2, Vector{ComplexF64}}, QuantumPropagators.ExpProp.ExpPropWrk{Vector{ComplexF64}}}(QuantumControlBase.GradGenerator{Tuple{Matrix{ComplexF64}, Tuple{Matrix{ComplexF64}, typeof(ϵ1)}, Tuple{Matrix{ComplexF64}, typeof(ϵ2)}}, Matrix{ComplexF64}, Function}((ComplexF64[-0.5 + 0.0im -0.0 + 0.0im; -0.0 + 0.0im 0.5 + 0.0im], (ComplexF64[0.0 - 0.0im 1.0 - 0.0im; 1.0 - 0.0im 0.0 - 0.0im], ϵ1), (ComplexF64[0.0 - 0.0im 0.0 - 1.0im; 0.0 + 1.0im 0.0 - 0.0im], ϵ2)), Matrix{ComplexF64}[[0.0 - 0.0im 1.0 - 0.0im; 1.0 - 0.0im 0.0 - 0.0im], [0.0 - 0.0im 0.0 - 1.0im; 0.0 + 1.0im 0.0 - 0.0im]], Function[ϵ1, ϵ2]), QuantumControlBase.GradVector{2, Vector{ComplexF64}}(ComplexF64[0.0 + 0.0im, 0.0 + 0.0im], Vector{ComplexF64}[[0.0 + 0.0im, 0.0 + 0.0im], [0.0 + 0.0im, 0.0 + 0.0im]]), 5.0, 499, [0.0, 0.01002004008016032, 0.02004008016032064, 0.03006012024048096, 0.04008016032064128, 0.050100200400801605, 0.06012024048096192, 0.07014028056112225, 0.08016032064128256, 0.09018036072144289  …  4.909819639278557, 4.919839679358717, 4.929859719438878, 4.939879759519038, 4.949899799599199, 4.959919839679359, 4.969939879759519, 4.979959919839679, 4.98997995991984, 5.0], IdDict{Function, SubArray{Float64, 1, Vector{Float64}, Tuple{StepRange{Int64, Int64}}, true}}(ϵ1 => [-2.7755575615628915e-18, 0.0004498836583447907, 0.001269014020426157, 0.0025428819003394235, 0.004322359651711154, 0.006669889670207852, 0.009655198659934522, 0.013350337952244546, 0.017824288406719662, 0.02313739119759512  …  0.023137391197595336, 0.017824288406719763, 0.0133503379522446, 0.00965519865993452, 0.006669889670207792, 0.0043223596517110874, 0.002542881900339493, 0.001269014020426182, 0.00044988365834480184, -2.7755575615628915e-18], ϵ2 => [-2.7755575615628915e-18, 0.0004498836583447907, 0.001269014020426157, 0.0025428819003394235, 0.004322359651711154, 0.006669889670207852, 0.009655198659934522, 0.013350337952244546, 0.017824288406719662, 0.02313739119759512  …  0.023137391197595336, 0.017824288406719763, 0.0133503379522446, 0.00965519865993452, 0.006669889670207792, 0.0043223596517110874, 0.002542881900339493, 0.001269014020426182, 0.00044988365834480184, -2.7755575615628915e-18]), (ϵ1, ϵ2), QuantumControlBase.GradgenOperator{2, Matrix{ComplexF64}, Matrix{ComplexF64}}(ComplexF64[-0.5 + 0.0im 0.2 - 0.2im; 0.2 + 0.2im 0.5 + 0.0im], Matrix{ComplexF64}[[0.0 - 0.0im 1.0 - 0.0im; 1.0 - 0.0im 0.0 - 0.0im], [0.0 - 0.0im 0.0 - 1.0im; 0.0 + 1.0im 0.0 - 0.0im]]), QuantumPropagators.ExpProp.ExpPropWrk{Vector{ComplexF64}}(ComplexF64[0.0 + 6.90494036186187e-310im, 6.9049406783145e-310 + 0.0im, 6.90494036186187e-310 + 6.9049403604453e-310im, 0.0 + 6.90494036186187e-310im, 6.9049403604453e-310 + 0.0im, 6.9049403604453e-310 + 6.9049403604453e-310im]), true, true, Vector{ComplexF64}, Matrix{ComplexF64}, QuantumPropagators.var\"#37#39\"()), QuantumPropagators.ExpPropagator{QuantumControlBase.GradGenerator{Tuple{Matrix{ComplexF64}, Tuple{Matrix{ComplexF64}, typeof(ϵ1)}, Tuple{Matrix{ComplexF64}, typeof(ϵ2)}}, Matrix{ComplexF64}, Function}, QuantumControlBase.GradgenOperator{2, Matrix{ComplexF64}, Matrix{ComplexF64}}, QuantumControlBase.GradVector{2, Vector{ComplexF64}}, QuantumPropagators.ExpProp.ExpPropWrk{Vector{ComplexF64}}}(QuantumControlBase.GradGenerator{Tuple{Matrix{ComplexF64}, Tuple{Matrix{ComplexF64}, typeof(ϵ1)}, Tuple{Matrix{ComplexF64}, typeof(ϵ2)}}, Matrix{ComplexF64}, Function}((ComplexF64[-0.5 + 0.0im -0.0 + 0.0im; -0.0 + 0.0im 0.5 + 0.0im], (ComplexF64[0.0 - 0.0im 1.0 - 0.0im; 1.0 - 0.0im 0.0 - 0.0im], ϵ1), (ComplexF64[0.0 - 0.0im 0.0 - 1.0im; 0.0 + 1.0im 0.0 - 0.0im], ϵ2)), Matrix{ComplexF64}[[0.0 - 0.0im 1.0 - 0.0im; 1.0 - 0.0im 0.0 - 0.0im], [0.0 - 0.0im 0.0 - 1.0im; 0.0 + 1.0im 0.0 - 0.0im]], Function[ϵ1, ϵ2]), QuantumControlBase.GradVector{2, Vector{ComplexF64}}(ComplexF64[0.0 + 0.0im, 0.0 + 0.0im], Vector{ComplexF64}[[0.0 + 0.0im, 0.0 + 0.0im], [0.0 + 0.0im, 0.0 + 0.0im]]), 5.0, 499, [0.0, 0.01002004008016032, 0.02004008016032064, 0.03006012024048096, 0.04008016032064128, 0.050100200400801605, 0.06012024048096192, 0.07014028056112225, 0.08016032064128256, 0.09018036072144289  …  4.909819639278557, 4.919839679358717, 4.929859719438878, 4.939879759519038, 4.949899799599199, 4.959919839679359, 4.969939879759519, 4.979959919839679, 4.98997995991984, 5.0], IdDict{Function, SubArray{Float64, 1, Vector{Float64}, Tuple{StepRange{Int64, Int64}}, true}}(ϵ1 => [-2.7755575615628915e-18, 0.0004498836583447907, 0.001269014020426157, 0.0025428819003394235, 0.004322359651711154, 0.006669889670207852, 0.009655198659934522, 0.013350337952244546, 0.017824288406719662, 0.02313739119759512  …  0.023137391197595336, 0.017824288406719763, 0.0133503379522446, 0.00965519865993452, 0.006669889670207792, 0.0043223596517110874, 0.002542881900339493, 0.001269014020426182, 0.00044988365834480184, -2.7755575615628915e-18], ϵ2 => [-2.7755575615628915e-18, 0.0004498836583447907, 0.001269014020426157, 0.0025428819003394235, 0.004322359651711154, 0.006669889670207852, 0.009655198659934522, 0.013350337952244546, 0.017824288406719662, 0.02313739119759512  …  0.023137391197595336, 0.017824288406719763, 0.0133503379522446, 0.00965519865993452, 0.006669889670207792, 0.0043223596517110874, 0.002542881900339493, 0.001269014020426182, 0.00044988365834480184, -2.7755575615628915e-18]), (ϵ1, ϵ2), QuantumControlBase.GradgenOperator{2, Matrix{ComplexF64}, Matrix{ComplexF64}}(ComplexF64[-0.5 + 0.0im 0.2 - 0.2im; 0.2 + 0.2im 0.5 + 0.0im], Matrix{ComplexF64}[[0.0 - 0.0im 1.0 - 0.0im; 1.0 - 0.0im 0.0 - 0.0im], [0.0 - 0.0im 0.0 - 1.0im; 0.0 + 1.0im 0.0 - 0.0im]]), QuantumPropagators.ExpProp.ExpPropWrk{Vector{ComplexF64}}(ComplexF64[0.0 + 6.90494036186187e-310im, 6.9049406783145e-310 + 0.0im, 6.90494036186187e-310 + 6.9049403604453e-310im, 0.0 + 6.90494036186187e-310im, 6.9049403604453e-310 + 0.0im, 6.9049403604453e-310 + 6.9049403604453e-310im]), true, true, Vector{ComplexF64}, Matrix{ComplexF64}, QuantumPropagators.var\"#37#39\"())], false)"
            ]
          },
          "metadata": {},
          "execution_count": 84
        }
      ]
    },
    {
      "cell_type": "code",
      "source": [
        "opt_result_LBFGSB = optimize(\n",
        "\n",
        "    problem,\n",
        "    method = :grape,\n",
        "    force = true,\n",
        "    info_hook = chain_infohooks(\n",
        "\n",
        "        QuantumControl.GRAPE.print_table,\n",
        "        store_pulses\n",
        "    )\n",
        ");"
      ],
      "metadata": {
        "colab": {
          "base_uri": "https://localhost:8080/"
        },
        "id": "4Nxah2iIA_nz",
        "outputId": "3e3ca0c4-0165-41aa-cbfc-ad0d5c31216a"
      },
      "execution_count": null,
      "outputs": [
        {
          "output_type": "stream",
          "name": "stdout",
          "text": [
            " iter.        J_T     |∇J_T|       ΔJ_T   FG(F)    secs\n",
            "     0   9.75e-01   6.21e-02        n/a    1(0)     0.5\n",
            "     1   9.71e-01   6.68e-02  -4.00e-03    1(0)     0.1\n",
            "     2   1.04e-01   1.12e-01  -8.68e-01    6(0)     0.3\n",
            "     3   8.58e-02   1.09e-01  -1.79e-02    2(0)     0.1\n",
            "     4   9.70e-03   3.67e-02  -7.61e-02    1(0)     0.0\n",
            "     5   2.03e-04   3.84e-03  -9.50e-03    1(0)     0.1\n"
          ]
        }
      ]
    },
    {
      "cell_type": "code",
      "source": [
        "opt_result_LBFGSB"
      ],
      "metadata": {
        "id": "EJJ6BLc3CbFL",
        "outputId": "b9ca1a45-29b0-4457-a6aa-da8bc3a5c314",
        "colab": {
          "base_uri": "https://localhost:8080/"
        }
      },
      "execution_count": null,
      "outputs": [
        {
          "output_type": "execute_result",
          "data": {
            "text/plain": [
              "GRAPE Optimization Result\n",
              "-------------------------\n",
              "- Started at 2023-01-11T12:11:39.327\n",
              "- Number of objectives: 2\n",
              "- Number of iterations: 5\n",
              "- Number of pure func evals: 0\n",
              "- Number of func/grad evals: 12\n",
              "- Value of functional: 2.02679e-04\n",
              "- Reason for termination: J_T < 10⁻³\n",
              "- Ended at 2023-01-11T12:11:40.507 (1 second, 180 milliseconds)\n"
            ]
          },
          "metadata": {},
          "execution_count": 86
        }
      ]
    },
    {
      "cell_type": "code",
      "execution_count": null,
      "metadata": {
        "id": "NdngEcmPI4vi"
      },
      "outputs": [],
      "source": [
        "function plot_pulse1(pulse::Vector, tlist)\n",
        "    plot(tlist, pulse, xlabel=\"time\", ylabel=\"amplitude\" , legend=false)\n",
        "\n",
        "    ylabel!(\"Sigma X pulse amplitude\")\n",
        "end\n",
        "\n",
        "plot_control(ϵ::T, tlist) where {T<:Function} = plot_control([ϵ(t) for t in tlist], tlist);"
      ]
    },
    {
      "cell_type": "code",
      "execution_count": null,
      "metadata": {
        "colab": {
          "base_uri": "https://localhost:8080/",
          "height": 322
        },
        "id": "ODwgpSBMIpVS",
        "outputId": "d72260a2-2352-46c2-cfbc-a65e3c069841"
      },
      "outputs": [
        {
          "output_type": "execute_result",
          "data": {
            "image/svg+xml": "<?xml version=\"1.0\" encoding=\"utf-8\"?>\n<svg xmlns=\"http://www.w3.org/2000/svg\" xmlns:xlink=\"http://www.w3.org/1999/xlink\" width=\"550\" height=\"300\" viewBox=\"0 0 2200 1200\">\n<defs>\n  <clipPath id=\"clip630\">\n    <rect x=\"0\" y=\"0\" width=\"2200\" height=\"1200\"/>\n  </clipPath>\n</defs>\n<path clip-path=\"url(#clip630)\" d=\"\nM0 1200 L2200 1200 L2200 0 L0 0  Z\n  \" fill=\"#ffffff\" fill-rule=\"evenodd\" fill-opacity=\"1\"/>\n<defs>\n  <clipPath id=\"clip631\">\n    <rect x=\"440\" y=\"0\" width=\"1541\" height=\"1200\"/>\n  </clipPath>\n</defs>\n<path clip-path=\"url(#clip630)\" d=\"\nM244.967 1042.1 L2152.76 1042.1 L2152.76 47.2441 L244.967 47.2441  Z\n  \" fill=\"#ffffff\" fill-rule=\"evenodd\" fill-opacity=\"1\"/>\n<defs>\n  <clipPath id=\"clip632\">\n    <rect x=\"244\" y=\"47\" width=\"1909\" height=\"996\"/>\n  </clipPath>\n</defs>\n<polyline clip-path=\"url(#clip632)\" style=\"stroke:#000000; stroke-linecap:round; stroke-linejoin:round; stroke-width:2; stroke-opacity:0.1; fill:none\" points=\"\n  298.961,1042.1 298.961,47.2441 \n  \"/>\n<polyline clip-path=\"url(#clip632)\" style=\"stroke:#000000; stroke-linecap:round; stroke-linejoin:round; stroke-width:2; stroke-opacity:0.1; fill:none\" points=\"\n  658.921,1042.1 658.921,47.2441 \n  \"/>\n<polyline clip-path=\"url(#clip632)\" style=\"stroke:#000000; stroke-linecap:round; stroke-linejoin:round; stroke-width:2; stroke-opacity:0.1; fill:none\" points=\"\n  1018.88,1042.1 1018.88,47.2441 \n  \"/>\n<polyline clip-path=\"url(#clip632)\" style=\"stroke:#000000; stroke-linecap:round; stroke-linejoin:round; stroke-width:2; stroke-opacity:0.1; fill:none\" points=\"\n  1378.84,1042.1 1378.84,47.2441 \n  \"/>\n<polyline clip-path=\"url(#clip632)\" style=\"stroke:#000000; stroke-linecap:round; stroke-linejoin:round; stroke-width:2; stroke-opacity:0.1; fill:none\" points=\"\n  1738.8,1042.1 1738.8,47.2441 \n  \"/>\n<polyline clip-path=\"url(#clip632)\" style=\"stroke:#000000; stroke-linecap:round; stroke-linejoin:round; stroke-width:2; stroke-opacity:0.1; fill:none\" points=\"\n  2098.76,1042.1 2098.76,47.2441 \n  \"/>\n<polyline clip-path=\"url(#clip630)\" style=\"stroke:#000000; stroke-linecap:round; stroke-linejoin:round; stroke-width:4; stroke-opacity:1; fill:none\" points=\"\n  244.967,1042.1 2152.76,1042.1 \n  \"/>\n<polyline clip-path=\"url(#clip630)\" style=\"stroke:#000000; stroke-linecap:round; stroke-linejoin:round; stroke-width:4; stroke-opacity:1; fill:none\" points=\"\n  298.961,1042.1 298.961,1023.21 \n  \"/>\n<polyline clip-path=\"url(#clip630)\" style=\"stroke:#000000; stroke-linecap:round; stroke-linejoin:round; stroke-width:4; stroke-opacity:1; fill:none\" points=\"\n  658.921,1042.1 658.921,1023.21 \n  \"/>\n<polyline clip-path=\"url(#clip630)\" style=\"stroke:#000000; stroke-linecap:round; stroke-linejoin:round; stroke-width:4; stroke-opacity:1; fill:none\" points=\"\n  1018.88,1042.1 1018.88,1023.21 \n  \"/>\n<polyline clip-path=\"url(#clip630)\" style=\"stroke:#000000; stroke-linecap:round; stroke-linejoin:round; stroke-width:4; stroke-opacity:1; fill:none\" points=\"\n  1378.84,1042.1 1378.84,1023.21 \n  \"/>\n<polyline clip-path=\"url(#clip630)\" style=\"stroke:#000000; stroke-linecap:round; stroke-linejoin:round; stroke-width:4; stroke-opacity:1; fill:none\" points=\"\n  1738.8,1042.1 1738.8,1023.21 \n  \"/>\n<polyline clip-path=\"url(#clip630)\" style=\"stroke:#000000; stroke-linecap:round; stroke-linejoin:round; stroke-width:4; stroke-opacity:1; fill:none\" points=\"\n  2098.76,1042.1 2098.76,1023.21 \n  \"/>\n<path clip-path=\"url(#clip630)\" d=\"M298.961 1071.42 Q295.35 1071.42 293.521 1074.99 Q291.716 1078.53 291.716 1085.66 Q291.716 1092.76 293.521 1096.33 Q295.35 1099.87 298.961 1099.87 Q302.595 1099.87 304.401 1096.33 Q306.229 1092.76 306.229 1085.66 Q306.229 1078.53 304.401 1074.99 Q302.595 1071.42 298.961 1071.42 M298.961 1067.72 Q304.771 1067.72 307.827 1072.32 Q310.905 1076.91 310.905 1085.66 Q310.905 1094.39 307.827 1098.99 Q304.771 1103.57 298.961 1103.57 Q293.151 1103.57 290.072 1098.99 Q287.016 1094.39 287.016 1085.66 Q287.016 1076.91 290.072 1072.32 Q293.151 1067.72 298.961 1067.72 Z\" fill=\"#000000\" fill-rule=\"evenodd\" fill-opacity=\"1\" /><path clip-path=\"url(#clip630)\" d=\"M649.303 1098.97 L656.942 1098.97 L656.942 1072.6 L648.632 1074.27 L648.632 1070.01 L656.896 1068.34 L661.572 1068.34 L661.572 1098.97 L669.21 1098.97 L669.21 1102.9 L649.303 1102.9 L649.303 1098.97 Z\" fill=\"#000000\" fill-rule=\"evenodd\" fill-opacity=\"1\" /><path clip-path=\"url(#clip630)\" d=\"M1013.53 1098.97 L1029.85 1098.97 L1029.85 1102.9 L1007.91 1102.9 L1007.91 1098.97 Q1010.57 1096.21 1015.15 1091.58 Q1019.76 1086.93 1020.94 1085.59 Q1023.19 1083.07 1024.07 1081.33 Q1024.97 1079.57 1024.97 1077.88 Q1024.97 1075.13 1023.02 1073.39 Q1021.1 1071.65 1018 1071.65 Q1015.8 1071.65 1013.35 1072.42 Q1010.92 1073.18 1008.14 1074.73 L1008.14 1070.01 Q1010.96 1068.88 1013.42 1068.3 Q1015.87 1067.72 1017.91 1067.72 Q1023.28 1067.72 1026.47 1070.4 Q1029.67 1073.09 1029.67 1077.58 Q1029.67 1079.71 1028.86 1081.63 Q1028.07 1083.53 1025.96 1086.12 Q1025.39 1086.79 1022.28 1090.01 Q1019.18 1093.2 1013.53 1098.97 Z\" fill=\"#000000\" fill-rule=\"evenodd\" fill-opacity=\"1\" /><path clip-path=\"url(#clip630)\" d=\"M1383.09 1084.27 Q1386.45 1084.99 1388.32 1087.26 Q1390.22 1089.52 1390.22 1092.86 Q1390.22 1097.97 1386.7 1100.77 Q1383.18 1103.57 1376.7 1103.57 Q1374.52 1103.57 1372.21 1103.13 Q1369.92 1102.72 1367.46 1101.86 L1367.46 1097.35 Q1369.41 1098.48 1371.72 1099.06 Q1374.04 1099.64 1376.56 1099.64 Q1380.96 1099.64 1383.25 1097.9 Q1385.57 1096.17 1385.57 1092.86 Q1385.57 1089.8 1383.41 1088.09 Q1381.28 1086.35 1377.46 1086.35 L1373.44 1086.35 L1373.44 1082.51 L1377.65 1082.51 Q1381.1 1082.51 1382.93 1081.14 Q1384.76 1079.76 1384.76 1077.16 Q1384.76 1074.5 1382.86 1073.09 Q1380.98 1071.65 1377.46 1071.65 Q1375.54 1071.65 1373.34 1072.07 Q1371.14 1072.49 1368.51 1073.37 L1368.51 1069.2 Q1371.17 1068.46 1373.48 1068.09 Q1375.82 1067.72 1377.88 1067.72 Q1383.2 1067.72 1386.31 1070.15 Q1389.41 1072.56 1389.41 1076.68 Q1389.41 1079.55 1387.77 1081.54 Q1386.12 1083.51 1383.09 1084.27 Z\" fill=\"#000000\" fill-rule=\"evenodd\" fill-opacity=\"1\" /><path clip-path=\"url(#clip630)\" d=\"M1741.81 1072.42 L1730.01 1090.87 L1741.81 1090.87 L1741.81 1072.42 M1740.58 1068.34 L1746.46 1068.34 L1746.46 1090.87 L1751.39 1090.87 L1751.39 1094.76 L1746.46 1094.76 L1746.46 1102.9 L1741.81 1102.9 L1741.81 1094.76 L1726.21 1094.76 L1726.21 1090.24 L1740.58 1068.34 Z\" fill=\"#000000\" fill-rule=\"evenodd\" fill-opacity=\"1\" /><path clip-path=\"url(#clip630)\" d=\"M2089.04 1068.34 L2107.4 1068.34 L2107.4 1072.28 L2093.32 1072.28 L2093.32 1080.75 Q2094.34 1080.4 2095.36 1080.24 Q2096.38 1080.06 2097.4 1080.06 Q2103.18 1080.06 2106.56 1083.23 Q2109.94 1086.4 2109.94 1091.82 Q2109.94 1097.39 2106.47 1100.5 Q2103 1103.57 2096.68 1103.57 Q2094.5 1103.57 2092.23 1103.2 Q2089.99 1102.83 2087.58 1102.09 L2087.58 1097.39 Q2089.66 1098.53 2091.89 1099.08 Q2094.11 1099.64 2096.59 1099.64 Q2100.59 1099.64 2102.93 1097.53 Q2105.27 1095.43 2105.27 1091.82 Q2105.27 1088.2 2102.93 1086.1 Q2100.59 1083.99 2096.59 1083.99 Q2094.71 1083.99 2092.84 1084.41 Q2090.98 1084.82 2089.04 1085.7 L2089.04 1068.34 Z\" fill=\"#000000\" fill-rule=\"evenodd\" fill-opacity=\"1\" /><path clip-path=\"url(#clip630)\" d=\"M1138.02 1138.2 L1138.02 1148.32 L1150.08 1148.32 L1150.08 1152.87 L1138.02 1152.87 L1138.02 1172.22 Q1138.02 1176.58 1139.2 1177.82 Q1140.41 1179.07 1144.07 1179.07 L1150.08 1179.07 L1150.08 1183.97 L1144.07 1183.97 Q1137.29 1183.97 1134.71 1181.45 Q1132.13 1178.91 1132.13 1172.22 L1132.13 1152.87 L1127.84 1152.87 L1127.84 1148.32 L1132.13 1148.32 L1132.13 1138.2 L1138.02 1138.2 Z\" fill=\"#000000\" fill-rule=\"evenodd\" fill-opacity=\"1\" /><path clip-path=\"url(#clip630)\" d=\"M1157.79 1148.32 L1163.64 1148.32 L1163.64 1183.97 L1157.79 1183.97 L1157.79 1148.32 M1157.79 1134.44 L1163.64 1134.44 L1163.64 1141.86 L1157.79 1141.86 L1157.79 1134.44 Z\" fill=\"#000000\" fill-rule=\"evenodd\" fill-opacity=\"1\" /><path clip-path=\"url(#clip630)\" d=\"M1203.65 1155.16 Q1205.85 1151.22 1208.9 1149.34 Q1211.96 1147.46 1216.1 1147.46 Q1221.67 1147.46 1224.69 1151.38 Q1227.71 1155.26 1227.71 1162.45 L1227.71 1183.97 L1221.83 1183.97 L1221.83 1162.64 Q1221.83 1157.52 1220.01 1155.04 Q1218.2 1152.55 1214.47 1152.55 Q1209.92 1152.55 1207.28 1155.58 Q1204.64 1158.6 1204.64 1163.82 L1204.64 1183.97 L1198.75 1183.97 L1198.75 1162.64 Q1198.75 1157.49 1196.94 1155.04 Q1195.12 1152.55 1191.33 1152.55 Q1186.85 1152.55 1184.2 1155.61 Q1181.56 1158.63 1181.56 1163.82 L1181.56 1183.97 L1175.67 1183.97 L1175.67 1148.32 L1181.56 1148.32 L1181.56 1153.86 Q1183.57 1150.58 1186.37 1149.02 Q1189.17 1147.46 1193.02 1147.46 Q1196.9 1147.46 1199.61 1149.43 Q1202.35 1151.41 1203.65 1155.16 Z\" fill=\"#000000\" fill-rule=\"evenodd\" fill-opacity=\"1\" /><path clip-path=\"url(#clip630)\" d=\"M1269.89 1164.68 L1269.89 1167.54 L1242.96 1167.54 Q1243.34 1173.59 1246.59 1176.77 Q1249.87 1179.93 1255.69 1179.93 Q1259.07 1179.93 1262.22 1179.1 Q1265.4 1178.27 1268.52 1176.62 L1268.52 1182.15 Q1265.37 1183.49 1262.06 1184.19 Q1258.75 1184.89 1255.34 1184.89 Q1246.81 1184.89 1241.81 1179.93 Q1236.85 1174.96 1236.85 1166.49 Q1236.85 1157.74 1241.56 1152.62 Q1246.3 1147.46 1254.32 1147.46 Q1261.52 1147.46 1265.69 1152.11 Q1269.89 1156.72 1269.89 1164.68 M1264.03 1162.96 Q1263.97 1158.15 1261.32 1155.29 Q1258.71 1152.43 1254.39 1152.43 Q1249.48 1152.43 1246.52 1155.19 Q1243.6 1157.96 1243.15 1162.99 L1264.03 1162.96 Z\" fill=\"#000000\" fill-rule=\"evenodd\" fill-opacity=\"1\" /><polyline clip-path=\"url(#clip632)\" style=\"stroke:#000000; stroke-linecap:round; stroke-linejoin:round; stroke-width:2; stroke-opacity:0.1; fill:none\" points=\"\n  244.967,825.733 2152.76,825.733 \n  \"/>\n<polyline clip-path=\"url(#clip632)\" style=\"stroke:#000000; stroke-linecap:round; stroke-linejoin:round; stroke-width:2; stroke-opacity:0.1; fill:none\" points=\"\n  244.967,590.918 2152.76,590.918 \n  \"/>\n<polyline clip-path=\"url(#clip632)\" style=\"stroke:#000000; stroke-linecap:round; stroke-linejoin:round; stroke-width:2; stroke-opacity:0.1; fill:none\" points=\"\n  244.967,356.102 2152.76,356.102 \n  \"/>\n<polyline clip-path=\"url(#clip632)\" style=\"stroke:#000000; stroke-linecap:round; stroke-linejoin:round; stroke-width:2; stroke-opacity:0.1; fill:none\" points=\"\n  244.967,121.287 2152.76,121.287 \n  \"/>\n<polyline clip-path=\"url(#clip630)\" style=\"stroke:#000000; stroke-linecap:round; stroke-linejoin:round; stroke-width:4; stroke-opacity:1; fill:none\" points=\"\n  244.967,1042.1 244.967,47.2441 \n  \"/>\n<polyline clip-path=\"url(#clip630)\" style=\"stroke:#000000; stroke-linecap:round; stroke-linejoin:round; stroke-width:4; stroke-opacity:1; fill:none\" points=\"\n  244.967,825.733 263.864,825.733 \n  \"/>\n<polyline clip-path=\"url(#clip630)\" style=\"stroke:#000000; stroke-linecap:round; stroke-linejoin:round; stroke-width:4; stroke-opacity:1; fill:none\" points=\"\n  244.967,590.918 263.864,590.918 \n  \"/>\n<polyline clip-path=\"url(#clip630)\" style=\"stroke:#000000; stroke-linecap:round; stroke-linejoin:round; stroke-width:4; stroke-opacity:1; fill:none\" points=\"\n  244.967,356.102 263.864,356.102 \n  \"/>\n<polyline clip-path=\"url(#clip630)\" style=\"stroke:#000000; stroke-linecap:round; stroke-linejoin:round; stroke-width:4; stroke-opacity:1; fill:none\" points=\"\n  244.967,121.287 263.864,121.287 \n  \"/>\n<path clip-path=\"url(#clip630)\" d=\"M106.62 826.185 L136.296 826.185 L136.296 830.12 L106.62 830.12 L106.62 826.185 Z\" fill=\"#000000\" fill-rule=\"evenodd\" fill-opacity=\"1\" /><path clip-path=\"url(#clip630)\" d=\"M156.388 811.532 Q152.777 811.532 150.949 815.097 Q149.143 818.638 149.143 825.768 Q149.143 832.874 150.949 836.439 Q152.777 839.981 156.388 839.981 Q160.023 839.981 161.828 836.439 Q163.657 832.874 163.657 825.768 Q163.657 818.638 161.828 815.097 Q160.023 811.532 156.388 811.532 M156.388 807.828 Q162.199 807.828 165.254 812.435 Q168.333 817.018 168.333 825.768 Q168.333 834.495 165.254 839.101 Q162.199 843.684 156.388 843.684 Q150.578 843.684 147.5 839.101 Q144.444 834.495 144.444 825.768 Q144.444 817.018 147.5 812.435 Q150.578 807.828 156.388 807.828 Z\" fill=\"#000000\" fill-rule=\"evenodd\" fill-opacity=\"1\" /><path clip-path=\"url(#clip630)\" d=\"M176.55 837.134 L181.435 837.134 L181.435 843.013 L176.55 843.013 L176.55 837.134 Z\" fill=\"#000000\" fill-rule=\"evenodd\" fill-opacity=\"1\" /><path clip-path=\"url(#clip630)\" d=\"M195.647 839.078 L211.967 839.078 L211.967 843.013 L190.022 843.013 L190.022 839.078 Q192.685 836.323 197.268 831.694 Q201.874 827.041 203.055 825.698 Q205.3 823.175 206.18 821.439 Q207.083 819.68 207.083 817.99 Q207.083 815.236 205.138 813.499 Q203.217 811.763 200.115 811.763 Q197.916 811.763 195.462 812.527 Q193.032 813.291 190.254 814.842 L190.254 810.12 Q193.078 808.986 195.532 808.407 Q197.985 807.828 200.022 807.828 Q205.393 807.828 208.587 810.513 Q211.782 813.198 211.782 817.689 Q211.782 819.819 210.971 821.74 Q210.184 823.638 208.078 826.231 Q207.499 826.902 204.397 830.12 Q201.296 833.314 195.647 839.078 Z\" fill=\"#000000\" fill-rule=\"evenodd\" fill-opacity=\"1\" /><path clip-path=\"url(#clip630)\" d=\"M154.791 576.716 Q151.18 576.716 149.351 580.281 Q147.546 583.823 147.546 590.952 Q147.546 598.059 149.351 601.624 Q151.18 605.165 154.791 605.165 Q158.425 605.165 160.231 601.624 Q162.06 598.059 162.06 590.952 Q162.06 583.823 160.231 580.281 Q158.425 576.716 154.791 576.716 M154.791 573.013 Q160.601 573.013 163.657 577.619 Q166.736 582.202 166.736 590.952 Q166.736 599.679 163.657 604.286 Q160.601 608.869 154.791 608.869 Q148.981 608.869 145.902 604.286 Q142.847 599.679 142.847 590.952 Q142.847 582.202 145.902 577.619 Q148.981 573.013 154.791 573.013 Z\" fill=\"#000000\" fill-rule=\"evenodd\" fill-opacity=\"1\" /><path clip-path=\"url(#clip630)\" d=\"M174.953 602.318 L179.837 602.318 L179.837 608.198 L174.953 608.198 L174.953 602.318 Z\" fill=\"#000000\" fill-rule=\"evenodd\" fill-opacity=\"1\" /><path clip-path=\"url(#clip630)\" d=\"M200.022 576.716 Q196.411 576.716 194.583 580.281 Q192.777 583.823 192.777 590.952 Q192.777 598.059 194.583 601.624 Q196.411 605.165 200.022 605.165 Q203.657 605.165 205.462 601.624 Q207.291 598.059 207.291 590.952 Q207.291 583.823 205.462 580.281 Q203.657 576.716 200.022 576.716 M200.022 573.013 Q205.833 573.013 208.888 577.619 Q211.967 582.202 211.967 590.952 Q211.967 599.679 208.888 604.286 Q205.833 608.869 200.022 608.869 Q194.212 608.869 191.134 604.286 Q188.078 599.679 188.078 590.952 Q188.078 582.202 191.134 577.619 Q194.212 573.013 200.022 573.013 Z\" fill=\"#000000\" fill-rule=\"evenodd\" fill-opacity=\"1\" /><path clip-path=\"url(#clip630)\" d=\"M156.388 341.901 Q152.777 341.901 150.949 345.466 Q149.143 349.007 149.143 356.137 Q149.143 363.243 150.949 366.808 Q152.777 370.35 156.388 370.35 Q160.023 370.35 161.828 366.808 Q163.657 363.243 163.657 356.137 Q163.657 349.007 161.828 345.466 Q160.023 341.901 156.388 341.901 M156.388 338.197 Q162.199 338.197 165.254 342.804 Q168.333 347.387 168.333 356.137 Q168.333 364.864 165.254 369.47 Q162.199 374.053 156.388 374.053 Q150.578 374.053 147.5 369.47 Q144.444 364.864 144.444 356.137 Q144.444 347.387 147.5 342.804 Q150.578 338.197 156.388 338.197 Z\" fill=\"#000000\" fill-rule=\"evenodd\" fill-opacity=\"1\" /><path clip-path=\"url(#clip630)\" d=\"M176.55 367.503 L181.435 367.503 L181.435 373.382 L176.55 373.382 L176.55 367.503 Z\" fill=\"#000000\" fill-rule=\"evenodd\" fill-opacity=\"1\" /><path clip-path=\"url(#clip630)\" d=\"M195.647 369.447 L211.967 369.447 L211.967 373.382 L190.022 373.382 L190.022 369.447 Q192.685 366.692 197.268 362.063 Q201.874 357.41 203.055 356.067 Q205.3 353.544 206.18 351.808 Q207.083 350.049 207.083 348.359 Q207.083 345.605 205.138 343.868 Q203.217 342.132 200.115 342.132 Q197.916 342.132 195.462 342.896 Q193.032 343.66 190.254 345.211 L190.254 340.489 Q193.078 339.355 195.532 338.776 Q197.985 338.197 200.022 338.197 Q205.393 338.197 208.587 340.882 Q211.782 343.568 211.782 348.058 Q211.782 350.188 210.971 352.109 Q210.184 354.007 208.078 356.6 Q207.499 357.271 204.397 360.489 Q201.296 363.683 195.647 369.447 Z\" fill=\"#000000\" fill-rule=\"evenodd\" fill-opacity=\"1\" /><path clip-path=\"url(#clip630)\" d=\"M154.305 107.085 Q150.694 107.085 148.865 110.65 Q147.06 114.192 147.06 121.321 Q147.06 128.428 148.865 131.993 Q150.694 135.534 154.305 135.534 Q157.939 135.534 159.745 131.993 Q161.574 128.428 161.574 121.321 Q161.574 114.192 159.745 110.65 Q157.939 107.085 154.305 107.085 M154.305 103.382 Q160.115 103.382 163.171 107.988 Q166.249 112.571 166.249 121.321 Q166.249 130.048 163.171 134.655 Q160.115 139.238 154.305 139.238 Q148.495 139.238 145.416 134.655 Q142.361 130.048 142.361 121.321 Q142.361 112.571 145.416 107.988 Q148.495 103.382 154.305 103.382 Z\" fill=\"#000000\" fill-rule=\"evenodd\" fill-opacity=\"1\" /><path clip-path=\"url(#clip630)\" d=\"M174.467 132.687 L179.351 132.687 L179.351 138.567 L174.467 138.567 L174.467 132.687 Z\" fill=\"#000000\" fill-rule=\"evenodd\" fill-opacity=\"1\" /><path clip-path=\"url(#clip630)\" d=\"M202.384 108.081 L190.578 126.53 L202.384 126.53 L202.384 108.081 M201.157 104.007 L207.036 104.007 L207.036 126.53 L211.967 126.53 L211.967 130.419 L207.036 130.419 L207.036 138.567 L202.384 138.567 L202.384 130.419 L186.782 130.419 L186.782 125.905 L201.157 104.007 Z\" fill=\"#000000\" fill-rule=\"evenodd\" fill-opacity=\"1\" /><path clip-path=\"url(#clip630)\" d=\"M13.4038 917.895 L19.674 917.895 Q17.9234 921.555 17.064 924.802 Q16.2047 928.048 16.2047 931.072 Q16.2047 936.324 18.2417 939.188 Q20.2787 942.021 24.0345 942.021 Q27.1855 942.021 28.8088 940.143 Q30.4002 938.234 31.3869 932.95 L32.1826 929.067 Q33.5512 921.874 37.0205 918.468 Q40.458 915.031 46.2508 915.031 Q53.1576 915.031 56.7224 919.678 Q60.2872 924.293 60.2872 933.237 Q60.2872 936.61 59.5233 940.43 Q58.7594 944.217 57.2635 948.291 L50.6431 948.291 Q52.8393 944.377 53.9533 940.621 Q55.0673 936.865 55.0673 933.237 Q55.0673 927.73 52.903 924.738 Q50.7386 921.746 46.7282 921.746 Q43.2271 921.746 41.2537 923.911 Q39.2804 926.043 38.2937 930.945 L37.5298 934.86 Q36.0975 942.053 33.042 945.268 Q29.9864 948.482 24.5437 948.482 Q18.2417 948.482 14.6132 944.058 Q10.9848 939.602 10.9848 931.804 Q10.9848 928.462 11.5895 924.993 Q12.1943 921.524 13.4038 917.895 Z\" fill=\"#000000\" fill-rule=\"evenodd\" fill-opacity=\"1\" /><path clip-path=\"url(#clip630)\" d=\"M23.7162 905.259 L23.7162 899.403 L59.3642 899.403 L59.3642 905.259 L23.7162 905.259 M9.83896 905.259 L9.83896 899.403 L17.255 899.403 L17.255 905.259 L9.83896 905.259 Z\" fill=\"#000000\" fill-rule=\"evenodd\" fill-opacity=\"1\" /><path clip-path=\"url(#clip630)\" d=\"M41.1264 863.691 Q34.7607 863.691 31.2596 866.333 Q27.7584 868.943 27.7584 873.685 Q27.7584 878.396 31.2596 881.038 Q34.7607 883.648 41.1264 883.648 Q47.4603 883.648 50.9614 881.038 Q54.4626 878.396 54.4626 873.685 Q54.4626 868.943 50.9614 866.333 Q47.4603 863.691 41.1264 863.691 M54.94 857.835 Q64.043 857.835 68.4671 861.877 Q72.9231 865.919 72.9231 874.258 Q72.9231 877.346 72.4457 880.083 Q72.0001 882.82 71.0452 885.398 L65.3479 885.398 Q66.7484 882.82 67.4168 880.306 Q68.0852 877.791 68.0852 875.181 Q68.0852 869.42 65.0615 866.556 Q62.0696 863.691 55.9903 863.691 L53.0939 863.691 Q56.245 865.505 57.8046 868.338 Q59.3642 871.171 59.3642 875.118 Q59.3642 881.674 54.3671 885.685 Q49.37 889.695 41.1264 889.695 Q32.851 889.695 27.8539 885.685 Q22.8568 881.674 22.8568 875.118 Q22.8568 871.171 24.4164 868.338 Q25.976 865.505 29.1271 863.691 L23.7162 863.691 L23.7162 857.835 L54.94 857.835 Z\" fill=\"#000000\" fill-rule=\"evenodd\" fill-opacity=\"1\" /><path clip-path=\"url(#clip630)\" d=\"M30.5593 818.017 Q26.6126 815.821 24.7347 812.766 Q22.8568 809.71 22.8568 805.572 Q22.8568 800.002 26.7717 796.979 Q30.6548 793.955 37.8481 793.955 L59.3642 793.955 L59.3642 799.843 L38.039 799.843 Q32.9146 799.843 30.432 801.657 Q27.9494 803.472 27.9494 807.196 Q27.9494 811.747 30.9731 814.389 Q33.9968 817.031 39.2167 817.031 L59.3642 817.031 L59.3642 822.919 L38.039 822.919 Q32.8828 822.919 30.432 824.733 Q27.9494 826.547 27.9494 830.335 Q27.9494 834.823 31.0049 837.464 Q34.0286 840.106 39.2167 840.106 L59.3642 840.106 L59.3642 845.995 L23.7162 845.995 L23.7162 840.106 L29.2544 840.106 Q25.976 838.101 24.4164 835.3 Q22.8568 832.499 22.8568 828.648 Q22.8568 824.765 24.8302 822.059 Q26.8036 819.322 30.5593 818.017 Z\" fill=\"#000000\" fill-rule=\"evenodd\" fill-opacity=\"1\" /><path clip-path=\"url(#clip630)\" d=\"M41.4447 766.073 Q41.4447 773.171 43.0679 775.908 Q44.6912 778.645 48.6061 778.645 Q51.7253 778.645 53.5714 776.608 Q55.3856 774.539 55.3856 771.006 Q55.3856 766.137 51.9481 763.208 Q48.4788 760.248 42.7497 760.248 L41.4447 760.248 L41.4447 766.073 M39.0257 754.392 L59.3642 754.392 L59.3642 760.248 L53.9533 760.248 Q57.1998 762.254 58.7594 765.246 Q60.2872 768.237 60.2872 772.566 Q60.2872 778.041 57.2316 781.287 Q54.1443 784.502 48.9881 784.502 Q42.9725 784.502 39.9169 780.491 Q36.8614 776.449 36.8614 768.46 L36.8614 760.248 L36.2885 760.248 Q32.2462 760.248 30.0501 762.922 Q27.8221 765.564 27.8221 770.37 Q27.8221 773.425 28.5541 776.322 Q29.2862 779.218 30.7503 781.892 L25.3395 781.892 Q24.0981 778.677 23.4934 775.653 Q22.8568 772.63 22.8568 769.765 Q22.8568 762.031 26.8672 758.211 Q30.8776 754.392 39.0257 754.392 Z\" fill=\"#000000\" fill-rule=\"evenodd\" fill-opacity=\"1\" /><path clip-path=\"url(#clip630)\" d=\"M11.8442 723.646 L11.8442 716.739 L29.509 704.93 L11.8442 693.058 L11.8442 686.152 L34.6652 701.429 L59.3642 685.133 L59.3642 692.04 L39.153 705.408 L59.3642 718.871 L59.3642 725.81 L33.9968 708.845 L11.8442 723.646 Z\" fill=\"#000000\" fill-rule=\"evenodd\" fill-opacity=\"1\" /><path clip-path=\"url(#clip630)\" d=\"M54.017 650.567 L72.9231 650.567 L72.9231 656.456 L23.7162 656.456 L23.7162 650.567 L29.1271 650.567 Q25.9442 648.721 24.4164 645.92 Q22.8568 643.088 22.8568 639.173 Q22.8568 632.68 28.0131 628.637 Q33.1693 624.563 41.572 624.563 Q49.9747 624.563 55.131 628.637 Q60.2872 632.68 60.2872 639.173 Q60.2872 643.088 58.7594 645.92 Q57.1998 648.721 54.017 650.567 M41.572 630.643 Q35.1108 630.643 31.4505 633.316 Q27.7584 635.958 27.7584 640.605 Q27.7584 645.252 31.4505 647.926 Q35.1108 650.567 41.572 650.567 Q48.0332 650.567 51.7253 647.926 Q55.3856 645.252 55.3856 640.605 Q55.3856 635.958 51.7253 633.316 Q48.0332 630.643 41.572 630.643 Z\" fill=\"#000000\" fill-rule=\"evenodd\" fill-opacity=\"1\" /><path clip-path=\"url(#clip630)\" d=\"M45.2959 615.46 L23.7162 615.46 L23.7162 609.604 L45.0731 609.604 Q50.1339 609.604 52.6802 607.631 Q55.1946 605.657 55.1946 601.711 Q55.1946 596.968 52.1709 594.231 Q49.1472 591.462 43.9273 591.462 L23.7162 591.462 L23.7162 585.605 L59.3642 585.605 L59.3642 591.462 L53.8896 591.462 Q57.1362 593.594 58.7276 596.427 Q60.2872 599.228 60.2872 602.952 Q60.2872 609.095 56.4678 612.278 Q52.6483 615.46 45.2959 615.46 M22.8568 600.724 L22.8568 600.724 Z\" fill=\"#000000\" fill-rule=\"evenodd\" fill-opacity=\"1\" /><path clip-path=\"url(#clip630)\" d=\"M9.83896 573.542 L9.83896 567.686 L59.3642 567.686 L59.3642 573.542 L9.83896 573.542 Z\" fill=\"#000000\" fill-rule=\"evenodd\" fill-opacity=\"1\" /><path clip-path=\"url(#clip630)\" d=\"M24.7665 532.706 L30.3047 532.706 Q29.0316 535.189 28.395 537.862 Q27.7584 540.536 27.7584 543.401 Q27.7584 547.761 29.0952 549.957 Q30.432 552.122 33.1056 552.122 Q35.1426 552.122 36.3203 550.562 Q37.4661 549.002 38.5165 544.292 L38.9621 542.287 Q40.2989 536.048 42.7497 533.438 Q45.1686 530.797 49.5291 530.797 Q54.4944 530.797 57.3908 534.743 Q60.2872 538.658 60.2872 545.533 Q60.2872 548.398 59.7143 551.517 Q59.1732 554.604 58.0592 558.042 L52.0118 558.042 Q53.6987 554.795 54.558 551.644 Q55.3856 548.493 55.3856 545.406 Q55.3856 541.268 53.9851 539.04 Q52.5529 536.812 49.9747 536.812 Q47.5876 536.812 46.3145 538.435 Q45.0413 540.027 43.8637 545.47 L43.3862 547.507 Q42.2404 552.949 39.8851 555.368 Q37.498 557.787 33.3602 557.787 Q28.3313 557.787 25.5941 554.222 Q22.8568 550.658 22.8568 544.101 Q22.8568 540.854 23.3343 537.99 Q23.8117 535.125 24.7665 532.706 Z\" fill=\"#000000\" fill-rule=\"evenodd\" fill-opacity=\"1\" /><path clip-path=\"url(#clip630)\" d=\"M40.0761 490.979 L42.9406 490.979 L42.9406 517.906 Q48.9881 517.524 52.1709 514.278 Q55.3219 510.999 55.3219 505.175 Q55.3219 501.801 54.4944 498.65 Q53.6669 495.467 52.0118 492.348 L57.5499 492.348 Q58.8867 495.499 59.587 498.809 Q60.2872 502.119 60.2872 505.525 Q60.2872 514.055 55.3219 519.052 Q50.3567 524.017 41.8903 524.017 Q33.1374 524.017 28.0131 519.306 Q22.8568 514.564 22.8568 506.543 Q22.8568 499.35 27.5038 495.18 Q32.1189 490.979 40.0761 490.979 M38.3573 496.836 Q33.5512 496.899 30.6866 499.541 Q27.8221 502.151 27.8221 506.48 Q27.8221 511.381 30.5912 514.341 Q33.3602 517.269 38.3892 517.715 L38.3573 496.836 Z\" fill=\"#000000\" fill-rule=\"evenodd\" fill-opacity=\"1\" /><path clip-path=\"url(#clip630)\" d=\"M41.4447 444.446 Q41.4447 451.543 43.0679 454.281 Q44.6912 457.018 48.6061 457.018 Q51.7253 457.018 53.5714 454.981 Q55.3856 452.912 55.3856 449.379 Q55.3856 444.509 51.9481 441.581 Q48.4788 438.621 42.7497 438.621 L41.4447 438.621 L41.4447 444.446 M39.0257 432.765 L59.3642 432.765 L59.3642 438.621 L53.9533 438.621 Q57.1998 440.626 58.7594 443.618 Q60.2872 446.61 60.2872 450.939 Q60.2872 456.413 57.2316 459.66 Q54.1443 462.874 48.9881 462.874 Q42.9725 462.874 39.9169 458.864 Q36.8614 454.822 36.8614 446.833 L36.8614 438.621 L36.2885 438.621 Q32.2462 438.621 30.0501 441.295 Q27.8221 443.936 27.8221 448.743 Q27.8221 451.798 28.5541 454.695 Q29.2862 457.591 30.7503 460.265 L25.3395 460.265 Q24.0981 457.05 23.4934 454.026 Q22.8568 451.002 22.8568 448.138 Q22.8568 440.404 26.8672 436.584 Q30.8776 432.765 39.0257 432.765 Z\" fill=\"#000000\" fill-rule=\"evenodd\" fill-opacity=\"1\" /><path clip-path=\"url(#clip630)\" d=\"M30.5593 392.947 Q26.6126 390.751 24.7347 387.695 Q22.8568 384.64 22.8568 380.502 Q22.8568 374.932 26.7717 371.909 Q30.6548 368.885 37.8481 368.885 L59.3642 368.885 L59.3642 374.773 L38.039 374.773 Q32.9146 374.773 30.432 376.587 Q27.9494 378.402 27.9494 382.125 Q27.9494 386.677 30.9731 389.319 Q33.9968 391.96 39.2167 391.96 L59.3642 391.96 L59.3642 397.849 L38.039 397.849 Q32.8828 397.849 30.432 399.663 Q27.9494 401.477 27.9494 405.265 Q27.9494 409.753 31.0049 412.394 Q34.0286 415.036 39.2167 415.036 L59.3642 415.036 L59.3642 420.924 L23.7162 420.924 L23.7162 415.036 L29.2544 415.036 Q25.976 413.031 24.4164 410.23 Q22.8568 407.429 22.8568 403.578 Q22.8568 399.695 24.8302 396.989 Q26.8036 394.252 30.5593 392.947 Z\" fill=\"#000000\" fill-rule=\"evenodd\" fill-opacity=\"1\" /><path clip-path=\"url(#clip630)\" d=\"M54.017 351.538 L72.9231 351.538 L72.9231 357.427 L23.7162 357.427 L23.7162 351.538 L29.1271 351.538 Q25.9442 349.692 24.4164 346.891 Q22.8568 344.059 22.8568 340.144 Q22.8568 333.651 28.0131 329.608 Q33.1693 325.534 41.572 325.534 Q49.9747 325.534 55.131 329.608 Q60.2872 333.651 60.2872 340.144 Q60.2872 344.059 58.7594 346.891 Q57.1998 349.692 54.017 351.538 M41.572 331.614 Q35.1108 331.614 31.4505 334.287 Q27.7584 336.929 27.7584 341.576 Q27.7584 346.223 31.4505 348.896 Q35.1108 351.538 41.572 351.538 Q48.0332 351.538 51.7253 348.896 Q55.3856 346.223 55.3856 341.576 Q55.3856 336.929 51.7253 334.287 Q48.0332 331.614 41.572 331.614 Z\" fill=\"#000000\" fill-rule=\"evenodd\" fill-opacity=\"1\" /><path clip-path=\"url(#clip630)\" d=\"M9.83896 315.827 L9.83896 309.97 L59.3642 309.97 L59.3642 315.827 L9.83896 315.827 Z\" fill=\"#000000\" fill-rule=\"evenodd\" fill-opacity=\"1\" /><path clip-path=\"url(#clip630)\" d=\"M23.7162 297.716 L23.7162 291.86 L59.3642 291.86 L59.3642 297.716 L23.7162 297.716 M9.83896 297.716 L9.83896 291.86 L17.255 291.86 L17.255 297.716 L9.83896 297.716 Z\" fill=\"#000000\" fill-rule=\"evenodd\" fill-opacity=\"1\" /><path clip-path=\"url(#clip630)\" d=\"M13.5947 273.813 L23.7162 273.813 L23.7162 261.75 L28.2677 261.75 L28.2677 273.813 L47.6194 273.813 Q51.9799 273.813 53.2213 272.635 Q54.4626 271.426 54.4626 267.766 L54.4626 261.75 L59.3642 261.75 L59.3642 267.766 Q59.3642 274.545 56.8497 277.123 Q54.3034 279.701 47.6194 279.701 L28.2677 279.701 L28.2677 283.998 L23.7162 283.998 L23.7162 279.701 L13.5947 279.701 L13.5947 273.813 Z\" fill=\"#000000\" fill-rule=\"evenodd\" fill-opacity=\"1\" /><path clip-path=\"url(#clip630)\" d=\"M45.2959 254.652 L23.7162 254.652 L23.7162 248.796 L45.0731 248.796 Q50.1339 248.796 52.6802 246.822 Q55.1946 244.849 55.1946 240.902 Q55.1946 236.16 52.1709 233.423 Q49.1472 230.653 43.9273 230.653 L23.7162 230.653 L23.7162 224.797 L59.3642 224.797 L59.3642 230.653 L53.8896 230.653 Q57.1362 232.786 58.7276 235.619 Q60.2872 238.42 60.2872 242.144 Q60.2872 248.286 56.4678 251.469 Q52.6483 254.652 45.2959 254.652 M22.8568 239.916 L22.8568 239.916 Z\" fill=\"#000000\" fill-rule=\"evenodd\" fill-opacity=\"1\" /><path clip-path=\"url(#clip630)\" d=\"M29.1271 189.276 L9.83896 189.276 L9.83896 183.42 L59.3642 183.42 L59.3642 189.276 L54.017 189.276 Q57.1998 191.122 58.7594 193.955 Q60.2872 196.756 60.2872 200.703 Q60.2872 207.164 55.131 211.238 Q49.9747 215.28 41.572 215.28 Q33.1693 215.28 28.0131 211.238 Q22.8568 207.164 22.8568 200.703 Q22.8568 196.756 24.4164 193.955 Q25.9442 191.122 29.1271 189.276 M41.572 209.233 Q48.0332 209.233 51.7253 206.591 Q55.3856 203.918 55.3856 199.271 Q55.3856 194.624 51.7253 191.95 Q48.0332 189.276 41.572 189.276 Q35.1108 189.276 31.4505 191.95 Q27.7584 194.624 27.7584 199.271 Q27.7584 203.918 31.4505 206.591 Q35.1108 209.233 41.572 209.233 Z\" fill=\"#000000\" fill-rule=\"evenodd\" fill-opacity=\"1\" /><path clip-path=\"url(#clip630)\" d=\"M40.0761 140.865 L42.9406 140.865 L42.9406 167.792 Q48.9881 167.41 52.1709 164.164 Q55.3219 160.885 55.3219 155.061 Q55.3219 151.687 54.4944 148.536 Q53.6669 145.353 52.0118 142.234 L57.5499 142.234 Q58.8867 145.385 59.587 148.695 Q60.2872 152.005 60.2872 155.411 Q60.2872 163.941 55.3219 168.938 Q50.3567 173.903 41.8903 173.903 Q33.1374 173.903 28.0131 169.193 Q22.8568 164.45 22.8568 156.429 Q22.8568 149.236 27.5038 145.067 Q32.1189 140.865 40.0761 140.865 M38.3573 146.722 Q33.5512 146.785 30.6866 149.427 Q27.8221 152.037 27.8221 156.366 Q27.8221 161.267 30.5912 164.227 Q33.3602 167.156 38.3892 167.601 L38.3573 146.722 Z\" fill=\"#000000\" fill-rule=\"evenodd\" fill-opacity=\"1\" /><polyline clip-path=\"url(#clip632)\" style=\"stroke:#009af9; stroke-linecap:round; stroke-linejoin:round; stroke-width:12; stroke-opacity:1; fill:none\" points=\"\n  298.961,1013.88 302.568,1013.56 306.174,1012.69 309.781,1011.29 313.388,1009.26 316.995,1006.56 320.602,1003.09 324.209,998.766 327.815,993.513 331.422,987.249 \n  335.029,979.91 338.636,971.45 342.243,961.849 345.849,951.118 349.456,939.298 353.063,926.47 356.67,912.75 360.277,898.289 363.884,883.274 367.49,867.921 \n  371.097,852.471 374.704,837.183 378.311,822.329 381.918,808.182 385.524,795.01 389.131,783.069 392.738,772.589 396.345,763.773 399.952,756.786 403.559,751.752 \n  407.165,748.581 410.772,746.348 414.379,744.165 417.986,741.931 421.593,739.644 425.199,737.307 428.806,734.918 432.413,732.479 436.02,729.99 439.627,727.45 \n  443.233,724.862 446.84,722.224 450.447,719.537 454.054,716.802 457.661,714.019 461.268,711.188 464.874,708.311 468.481,705.386 472.088,702.416 475.695,699.399 \n  479.302,696.338 482.908,693.231 486.515,690.08 490.122,686.885 493.729,683.647 497.336,680.366 500.943,677.042 504.549,673.677 508.156,670.27 511.763,666.822 \n  515.37,663.334 518.977,659.807 522.583,656.24 526.19,652.635 529.797,648.991 533.404,645.311 537.011,641.593 540.617,637.839 544.224,634.05 547.831,630.225 \n  551.438,626.367 555.045,622.474 558.652,618.549 562.258,614.591 565.865,610.601 569.472,606.58 573.079,602.528 576.686,598.447 580.292,594.336 583.899,590.198 \n  587.506,586.031 591.113,581.837 594.72,577.617 598.327,573.372 601.933,569.101 605.54,564.807 609.147,560.489 612.754,556.148 616.361,551.785 619.967,547.401 \n  623.574,542.996 627.181,538.572 630.788,534.129 634.395,529.668 638.002,525.189 641.608,520.693 645.215,516.182 648.822,511.655 652.429,507.114 656.036,502.56 \n  659.642,497.993 663.249,493.414 666.856,488.824 670.463,484.224 674.07,479.614 677.676,474.995 681.283,470.368 684.89,465.734 688.497,461.094 692.104,456.449 \n  695.711,451.799 699.317,447.145 702.924,442.488 706.531,437.829 710.138,433.168 713.745,428.507 717.351,423.846 720.958,419.186 724.565,414.528 728.172,409.873 \n  731.779,405.222 735.386,400.575 738.992,395.933 742.599,391.297 746.206,386.668 749.813,382.047 753.42,377.434 757.026,372.83 760.633,368.237 764.24,363.655 \n  767.847,359.084 771.454,354.526 775.061,349.982 778.667,345.451 782.274,340.936 785.881,336.436 789.488,331.953 793.095,327.487 796.701,323.04 800.308,318.611 \n  803.915,314.202 807.522,309.814 811.129,305.447 814.735,301.102 818.342,296.78 821.949,292.481 825.556,288.207 829.163,283.958 832.77,279.735 836.376,275.538 \n  839.983,271.368 843.59,267.227 847.197,263.114 850.804,259.031 854.41,254.978 858.017,250.955 861.624,246.965 865.231,243.006 868.838,239.081 872.445,235.189 \n  876.051,231.331 879.658,227.508 883.265,223.721 886.872,219.97 890.479,216.256 894.085,212.579 897.692,208.941 901.299,205.341 904.906,201.78 908.513,198.259 \n  912.12,194.779 915.726,191.34 919.333,187.943 922.94,184.587 926.547,181.275 930.154,178.006 933.76,174.78 937.367,171.599 940.974,168.463 944.581,165.372 \n  948.188,162.327 951.794,159.328 955.401,156.376 959.008,153.471 962.615,150.614 966.222,147.805 969.829,145.045 973.435,142.334 977.042,139.672 980.649,137.06 \n  984.256,134.498 987.863,131.987 991.469,129.526 995.076,127.117 998.683,124.76 1002.29,122.455 1005.9,120.202 1009.5,118.001 1013.11,115.854 1016.72,113.76 \n  1020.32,111.719 1023.93,109.732 1027.54,107.8 1031.14,105.921 1034.75,104.097 1038.36,102.328 1041.96,100.614 1045.57,98.9554 1049.18,97.3519 1052.79,95.804 \n  1056.39,94.3119 1060,92.8757 1063.61,91.4956 1067.21,90.1716 1070.82,88.9041 1074.43,87.693 1078.03,86.5385 1081.64,85.4406 1085.25,84.3995 1088.85,83.4153 \n  1092.46,82.4879 1096.07,81.6175 1099.67,80.8041 1103.28,80.0477 1106.89,79.3484 1110.49,78.7061 1114.1,78.1209 1117.71,77.5928 1121.31,77.1217 1124.92,76.7076 \n  1128.53,76.3504 1132.14,76.0502 1135.74,75.8069 1139.35,75.6203 1142.96,75.4904 1146.56,75.4172 1150.17,75.4005 1153.78,75.4402 1157.38,75.5362 1160.99,75.6883 \n  1164.6,75.8965 1168.2,76.1605 1171.81,76.4803 1175.42,76.8556 1179.02,77.2863 1182.63,77.7722 1186.24,78.3131 1189.84,78.9089 1193.45,79.5592 1197.06,80.2639 \n  1200.66,81.0227 1204.27,81.8354 1207.88,82.7019 1211.49,83.6217 1215.09,84.5947 1218.7,85.6206 1222.31,86.6991 1225.91,87.8299 1229.52,89.0128 1233.13,90.2474 \n  1236.73,91.5335 1240.34,92.8707 1243.95,94.2587 1247.55,95.6972 1251.16,97.1858 1254.77,98.7242 1258.37,100.312 1261.98,101.949 1265.59,103.635 1269.19,105.369 \n  1272.8,107.151 1276.41,108.981 1280.01,110.858 1283.62,112.781 1287.23,114.752 1290.84,116.768 1294.44,118.83 1298.05,120.937 1301.66,123.089 1305.26,125.286 \n  1308.87,127.526 1312.48,129.81 1316.08,132.137 1319.69,134.507 1323.3,136.918 1326.9,139.372 1330.51,141.867 1334.12,144.402 1337.72,146.979 1341.33,149.595 \n  1344.94,152.25 1348.54,154.944 1352.15,157.677 1355.76,160.448 1359.36,163.256 1362.97,166.102 1366.58,168.984 1370.19,171.902 1373.79,174.855 1377.4,177.843 \n  1381.01,180.866 1384.61,183.923 1388.22,187.014 1391.83,190.138 1395.43,193.294 1399.04,196.482 1402.65,199.701 1406.25,202.951 1409.86,206.232 1413.47,209.543 \n  1417.07,212.883 1420.68,216.251 1424.29,219.648 1427.89,223.073 1431.5,226.525 1435.11,230.004 1438.71,233.509 1442.32,237.039 1445.93,240.595 1449.54,244.175 \n  1453.14,247.779 1456.75,251.407 1460.36,255.057 1463.96,258.73 1467.57,262.424 1471.18,266.14 1474.78,269.877 1478.39,273.634 1482,277.41 1485.6,281.206 \n  1489.21,285.02 1492.82,288.852 1496.42,292.701 1500.03,296.567 1503.64,300.45 1507.24,304.348 1510.85,308.262 1514.46,312.191 1518.06,316.133 1521.67,320.089 \n  1525.28,324.058 1528.88,328.04 1532.49,332.034 1536.1,336.039 1539.71,340.055 1543.31,344.081 1546.92,348.117 1550.53,352.162 1554.13,356.216 1557.74,360.278 \n  1561.35,364.347 1564.95,368.424 1568.56,372.507 1572.17,376.596 1575.77,380.69 1579.38,384.789 1582.99,388.893 1586.59,393 1590.2,397.111 1593.81,401.224 \n  1597.41,405.339 1601.02,409.456 1604.63,413.575 1608.23,417.693 1611.84,421.812 1615.45,425.93 1619.06,430.048 1622.66,434.163 1626.27,438.277 1629.88,442.388 \n  1633.48,446.496 1637.09,450.6 1640.7,454.7 1644.3,458.795 1647.91,462.885 1651.52,466.97 1655.12,471.048 1658.73,475.119 1662.34,479.183 1665.94,483.239 \n  1669.55,487.287 1673.16,491.326 1676.76,495.356 1680.37,499.376 1683.98,503.386 1687.58,507.384 1691.19,511.372 1694.8,515.347 1698.41,519.311 1702.01,523.261 \n  1705.62,527.198 1709.23,531.122 1712.83,535.031 1716.44,538.925 1720.05,542.804 1723.65,546.667 1727.26,550.514 1730.87,554.344 1734.47,558.157 1738.08,561.953 \n  1741.69,565.73 1745.29,569.489 1748.9,573.228 1752.51,576.949 1756.11,580.649 1759.72,584.328 1763.33,587.987 1766.93,591.625 1770.54,595.24 1774.15,598.834 \n  1777.76,602.404 1781.36,605.952 1784.97,609.476 1788.58,612.976 1792.18,616.451 1795.79,619.902 1799.4,623.327 1803,626.726 1806.61,630.1 1810.22,633.446 \n  1813.82,636.766 1817.43,640.058 1821.04,643.323 1824.64,646.559 1828.25,649.767 1831.86,652.945 1835.46,656.095 1839.07,659.214 1842.68,662.303 1846.28,665.361 \n  1849.89,668.389 1853.5,671.385 1857.11,674.349 1860.71,677.282 1864.32,680.181 1867.93,683.048 1871.53,685.882 1875.14,688.682 1878.75,691.449 1882.35,694.181 \n  1885.96,696.878 1889.57,699.54 1893.17,702.168 1896.78,704.759 1900.39,707.315 1903.99,709.834 1907.6,712.317 1911.21,714.763 1914.81,717.172 1918.42,719.543 \n  1922.03,721.876 1925.63,724.172 1929.24,726.429 1932.85,728.647 1936.46,730.826 1940.06,732.966 1943.67,735.067 1947.28,737.128 1950.88,739.149 1954.49,741.129 \n  1958.1,743.069 1961.7,744.968 1965.31,746.827 1968.92,748.644 1972.52,750.419 1976.13,752.153 1979.74,753.845 1983.34,755.494 1986.95,757.102 1990.56,758.769 \n  1994.16,761.385 1997.77,765.875 2001.38,772.33 2004.98,780.629 2008.59,790.608 2012.2,802.064 2015.81,814.767 2019.41,828.462 2023.02,842.881 2026.63,857.751 \n  2030.23,872.8 2033.84,887.768 2037.45,902.415 2041.05,916.523 2044.66,929.907 2048.27,942.413 2051.87,953.925 2055.48,964.364 2059.09,973.685 2062.69,981.878 \n  2066.3,988.965 2069.91,994.988 2073.51,1000.01 2077.12,1004.12 2080.73,1007.39 2084.33,1009.9 2087.94,1011.75 2091.55,1012.99 2095.16,1013.71 2098.76,1013.95 \n  \n  \"/>\n</svg>\n"
          },
          "metadata": {},
          "execution_count": 87
        }
      ],
      "source": [
        "plot_pulse1(opt_result_LBFGSB.optimized_controls[1], tlist)"
      ]
    },
    {
      "cell_type": "code",
      "execution_count": null,
      "metadata": {
        "id": "jcdkBSEvLzxE"
      },
      "outputs": [],
      "source": [
        "function plot_pulse2(pulse::Vector, tlist)\n",
        "    plot(tlist, pulse, xlabel=\"time\", ylabel=\"amplitude\" , legend=false)\n",
        "\n",
        "    ylabel!(\"Sigma Y pulse amplitude\")\n",
        "end\n",
        "\n",
        "plot_control(ϵ::T, tlist) where {T<:Function} = plot_control([ϵ(t) for t in tlist], tlist);"
      ]
    },
    {
      "cell_type": "code",
      "source": [
        "plot_pulse2(opt_result_LBFGSB.optimized_controls[2], tlist)"
      ],
      "metadata": {
        "colab": {
          "base_uri": "https://localhost:8080/",
          "height": 322
        },
        "id": "iBwMklsnCKJN",
        "outputId": "0bf01b11-4309-4c6d-a38c-0c3cd1d21a8c"
      },
      "execution_count": null,
      "outputs": [
        {
          "output_type": "execute_result",
          "data": {
            "image/svg+xml": "<?xml version=\"1.0\" encoding=\"utf-8\"?>\n<svg xmlns=\"http://www.w3.org/2000/svg\" xmlns:xlink=\"http://www.w3.org/1999/xlink\" width=\"550\" height=\"300\" viewBox=\"0 0 2200 1200\">\n<defs>\n  <clipPath id=\"clip670\">\n    <rect x=\"0\" y=\"0\" width=\"2200\" height=\"1200\"/>\n  </clipPath>\n</defs>\n<path clip-path=\"url(#clip670)\" d=\"\nM0 1200 L2200 1200 L2200 0 L0 0  Z\n  \" fill=\"#ffffff\" fill-rule=\"evenodd\" fill-opacity=\"1\"/>\n<defs>\n  <clipPath id=\"clip671\">\n    <rect x=\"440\" y=\"0\" width=\"1541\" height=\"1200\"/>\n  </clipPath>\n</defs>\n<path clip-path=\"url(#clip670)\" d=\"\nM245.337 1042.1 L2152.76 1042.1 L2152.76 47.2441 L245.337 47.2441  Z\n  \" fill=\"#ffffff\" fill-rule=\"evenodd\" fill-opacity=\"1\"/>\n<defs>\n  <clipPath id=\"clip672\">\n    <rect x=\"245\" y=\"47\" width=\"1908\" height=\"996\"/>\n  </clipPath>\n</defs>\n<polyline clip-path=\"url(#clip672)\" style=\"stroke:#000000; stroke-linecap:round; stroke-linejoin:round; stroke-width:2; stroke-opacity:0.1; fill:none\" points=\"\n  299.321,1042.1 299.321,47.2441 \n  \"/>\n<polyline clip-path=\"url(#clip672)\" style=\"stroke:#000000; stroke-linecap:round; stroke-linejoin:round; stroke-width:2; stroke-opacity:0.1; fill:none\" points=\"\n  659.211,1042.1 659.211,47.2441 \n  \"/>\n<polyline clip-path=\"url(#clip672)\" style=\"stroke:#000000; stroke-linecap:round; stroke-linejoin:round; stroke-width:2; stroke-opacity:0.1; fill:none\" points=\"\n  1019.1,1042.1 1019.1,47.2441 \n  \"/>\n<polyline clip-path=\"url(#clip672)\" style=\"stroke:#000000; stroke-linecap:round; stroke-linejoin:round; stroke-width:2; stroke-opacity:0.1; fill:none\" points=\"\n  1378.99,1042.1 1378.99,47.2441 \n  \"/>\n<polyline clip-path=\"url(#clip672)\" style=\"stroke:#000000; stroke-linecap:round; stroke-linejoin:round; stroke-width:2; stroke-opacity:0.1; fill:none\" points=\"\n  1738.88,1042.1 1738.88,47.2441 \n  \"/>\n<polyline clip-path=\"url(#clip672)\" style=\"stroke:#000000; stroke-linecap:round; stroke-linejoin:round; stroke-width:2; stroke-opacity:0.1; fill:none\" points=\"\n  2098.77,1042.1 2098.77,47.2441 \n  \"/>\n<polyline clip-path=\"url(#clip670)\" style=\"stroke:#000000; stroke-linecap:round; stroke-linejoin:round; stroke-width:4; stroke-opacity:1; fill:none\" points=\"\n  245.337,1042.1 2152.76,1042.1 \n  \"/>\n<polyline clip-path=\"url(#clip670)\" style=\"stroke:#000000; stroke-linecap:round; stroke-linejoin:round; stroke-width:4; stroke-opacity:1; fill:none\" points=\"\n  299.321,1042.1 299.321,1023.21 \n  \"/>\n<polyline clip-path=\"url(#clip670)\" style=\"stroke:#000000; stroke-linecap:round; stroke-linejoin:round; stroke-width:4; stroke-opacity:1; fill:none\" points=\"\n  659.211,1042.1 659.211,1023.21 \n  \"/>\n<polyline clip-path=\"url(#clip670)\" style=\"stroke:#000000; stroke-linecap:round; stroke-linejoin:round; stroke-width:4; stroke-opacity:1; fill:none\" points=\"\n  1019.1,1042.1 1019.1,1023.21 \n  \"/>\n<polyline clip-path=\"url(#clip670)\" style=\"stroke:#000000; stroke-linecap:round; stroke-linejoin:round; stroke-width:4; stroke-opacity:1; fill:none\" points=\"\n  1378.99,1042.1 1378.99,1023.21 \n  \"/>\n<polyline clip-path=\"url(#clip670)\" style=\"stroke:#000000; stroke-linecap:round; stroke-linejoin:round; stroke-width:4; stroke-opacity:1; fill:none\" points=\"\n  1738.88,1042.1 1738.88,1023.21 \n  \"/>\n<polyline clip-path=\"url(#clip670)\" style=\"stroke:#000000; stroke-linecap:round; stroke-linejoin:round; stroke-width:4; stroke-opacity:1; fill:none\" points=\"\n  2098.77,1042.1 2098.77,1023.21 \n  \"/>\n<path clip-path=\"url(#clip670)\" d=\"M299.321 1071.42 Q295.71 1071.42 293.881 1074.99 Q292.075 1078.53 292.075 1085.66 Q292.075 1092.76 293.881 1096.33 Q295.71 1099.87 299.321 1099.87 Q302.955 1099.87 304.761 1096.33 Q306.589 1092.76 306.589 1085.66 Q306.589 1078.53 304.761 1074.99 Q302.955 1071.42 299.321 1071.42 M299.321 1067.72 Q305.131 1067.72 308.186 1072.32 Q311.265 1076.91 311.265 1085.66 Q311.265 1094.39 308.186 1098.99 Q305.131 1103.57 299.321 1103.57 Q293.511 1103.57 290.432 1098.99 Q287.376 1094.39 287.376 1085.66 Q287.376 1076.91 290.432 1072.32 Q293.511 1067.72 299.321 1067.72 Z\" fill=\"#000000\" fill-rule=\"evenodd\" fill-opacity=\"1\" /><path clip-path=\"url(#clip670)\" d=\"M649.593 1098.97 L657.232 1098.97 L657.232 1072.6 L648.922 1074.27 L648.922 1070.01 L657.186 1068.34 L661.862 1068.34 L661.862 1098.97 L669.5 1098.97 L669.5 1102.9 L649.593 1102.9 L649.593 1098.97 Z\" fill=\"#000000\" fill-rule=\"evenodd\" fill-opacity=\"1\" /><path clip-path=\"url(#clip670)\" d=\"M1013.75 1098.97 L1030.07 1098.97 L1030.07 1102.9 L1008.13 1102.9 L1008.13 1098.97 Q1010.79 1096.21 1015.37 1091.58 Q1019.98 1086.93 1021.16 1085.59 Q1023.41 1083.07 1024.29 1081.33 Q1025.19 1079.57 1025.19 1077.88 Q1025.19 1075.13 1023.24 1073.39 Q1021.32 1071.65 1018.22 1071.65 Q1016.02 1071.65 1013.57 1072.42 Q1011.14 1073.18 1008.36 1074.73 L1008.36 1070.01 Q1011.18 1068.88 1013.64 1068.3 Q1016.09 1067.72 1018.13 1067.72 Q1023.5 1067.72 1026.69 1070.4 Q1029.89 1073.09 1029.89 1077.58 Q1029.89 1079.71 1029.08 1081.63 Q1028.29 1083.53 1026.18 1086.12 Q1025.61 1086.79 1022.5 1090.01 Q1019.4 1093.2 1013.75 1098.97 Z\" fill=\"#000000\" fill-rule=\"evenodd\" fill-opacity=\"1\" /><path clip-path=\"url(#clip670)\" d=\"M1383.24 1084.27 Q1386.6 1084.99 1388.47 1087.26 Q1390.37 1089.52 1390.37 1092.86 Q1390.37 1097.97 1386.85 1100.77 Q1383.33 1103.57 1376.85 1103.57 Q1374.67 1103.57 1372.36 1103.13 Q1370.07 1102.72 1367.61 1101.86 L1367.61 1097.35 Q1369.56 1098.48 1371.87 1099.06 Q1374.19 1099.64 1376.71 1099.64 Q1381.11 1099.64 1383.4 1097.9 Q1385.72 1096.17 1385.72 1092.86 Q1385.72 1089.8 1383.56 1088.09 Q1381.43 1086.35 1377.61 1086.35 L1373.59 1086.35 L1373.59 1082.51 L1377.8 1082.51 Q1381.25 1082.51 1383.08 1081.14 Q1384.91 1079.76 1384.91 1077.16 Q1384.91 1074.5 1383.01 1073.09 Q1381.13 1071.65 1377.61 1071.65 Q1375.69 1071.65 1373.49 1072.07 Q1371.29 1072.49 1368.66 1073.37 L1368.66 1069.2 Q1371.32 1068.46 1373.63 1068.09 Q1375.97 1067.72 1378.03 1067.72 Q1383.36 1067.72 1386.46 1070.15 Q1389.56 1072.56 1389.56 1076.68 Q1389.56 1079.55 1387.92 1081.54 Q1386.27 1083.51 1383.24 1084.27 Z\" fill=\"#000000\" fill-rule=\"evenodd\" fill-opacity=\"1\" /><path clip-path=\"url(#clip670)\" d=\"M1741.89 1072.42 L1730.09 1090.87 L1741.89 1090.87 L1741.89 1072.42 M1740.66 1068.34 L1746.54 1068.34 L1746.54 1090.87 L1751.47 1090.87 L1751.47 1094.76 L1746.54 1094.76 L1746.54 1102.9 L1741.89 1102.9 L1741.89 1094.76 L1726.29 1094.76 L1726.29 1090.24 L1740.66 1068.34 Z\" fill=\"#000000\" fill-rule=\"evenodd\" fill-opacity=\"1\" /><path clip-path=\"url(#clip670)\" d=\"M2089.05 1068.34 L2107.41 1068.34 L2107.41 1072.28 L2093.33 1072.28 L2093.33 1080.75 Q2094.35 1080.4 2095.37 1080.24 Q2096.39 1080.06 2097.41 1080.06 Q2103.19 1080.06 2106.57 1083.23 Q2109.95 1086.4 2109.95 1091.82 Q2109.95 1097.39 2106.48 1100.5 Q2103.01 1103.57 2096.69 1103.57 Q2094.51 1103.57 2092.24 1103.2 Q2090 1102.83 2087.59 1102.09 L2087.59 1097.39 Q2089.68 1098.53 2091.9 1099.08 Q2094.12 1099.64 2096.6 1099.64 Q2100.6 1099.64 2102.94 1097.53 Q2105.28 1095.43 2105.28 1091.82 Q2105.28 1088.2 2102.94 1086.1 Q2100.6 1083.99 2096.6 1083.99 Q2094.72 1083.99 2092.85 1084.41 Q2090.99 1084.82 2089.05 1085.7 L2089.05 1068.34 Z\" fill=\"#000000\" fill-rule=\"evenodd\" fill-opacity=\"1\" /><path clip-path=\"url(#clip670)\" d=\"M1138.21 1138.2 L1138.21 1148.32 L1150.27 1148.32 L1150.27 1152.87 L1138.21 1152.87 L1138.21 1172.22 Q1138.21 1176.58 1139.38 1177.82 Q1140.59 1179.07 1144.25 1179.07 L1150.27 1179.07 L1150.27 1183.97 L1144.25 1183.97 Q1137.47 1183.97 1134.9 1181.45 Q1132.32 1178.91 1132.32 1172.22 L1132.32 1152.87 L1128.02 1152.87 L1128.02 1148.32 L1132.32 1148.32 L1132.32 1138.2 L1138.21 1138.2 Z\" fill=\"#000000\" fill-rule=\"evenodd\" fill-opacity=\"1\" /><path clip-path=\"url(#clip670)\" d=\"M1157.97 1148.32 L1163.83 1148.32 L1163.83 1183.97 L1157.97 1183.97 L1157.97 1148.32 M1157.97 1134.44 L1163.83 1134.44 L1163.83 1141.86 L1157.97 1141.86 L1157.97 1134.44 Z\" fill=\"#000000\" fill-rule=\"evenodd\" fill-opacity=\"1\" /><path clip-path=\"url(#clip670)\" d=\"M1203.84 1155.16 Q1206.03 1151.22 1209.09 1149.34 Q1212.14 1147.46 1216.28 1147.46 Q1221.85 1147.46 1224.88 1151.38 Q1227.9 1155.26 1227.9 1162.45 L1227.9 1183.97 L1222.01 1183.97 L1222.01 1162.64 Q1222.01 1157.52 1220.2 1155.04 Q1218.38 1152.55 1214.66 1152.55 Q1210.11 1152.55 1207.47 1155.58 Q1204.82 1158.6 1204.82 1163.82 L1204.82 1183.97 L1198.94 1183.97 L1198.94 1162.64 Q1198.94 1157.49 1197.12 1155.04 Q1195.31 1152.55 1191.52 1152.55 Q1187.03 1152.55 1184.39 1155.61 Q1181.75 1158.63 1181.75 1163.82 L1181.75 1183.97 L1175.86 1183.97 L1175.86 1148.32 L1181.75 1148.32 L1181.75 1153.86 Q1183.75 1150.58 1186.55 1149.02 Q1189.35 1147.46 1193.21 1147.46 Q1197.09 1147.46 1199.79 1149.43 Q1202.53 1151.41 1203.84 1155.16 Z\" fill=\"#000000\" fill-rule=\"evenodd\" fill-opacity=\"1\" /><path clip-path=\"url(#clip670)\" d=\"M1270.07 1164.68 L1270.07 1167.54 L1243.14 1167.54 Q1243.53 1173.59 1246.77 1176.77 Q1250.05 1179.93 1255.88 1179.93 Q1259.25 1179.93 1262.4 1179.1 Q1265.58 1178.27 1268.7 1176.62 L1268.7 1182.15 Q1265.55 1183.49 1262.24 1184.19 Q1258.93 1184.89 1255.53 1184.89 Q1247 1184.89 1242 1179.93 Q1237.03 1174.96 1237.03 1166.49 Q1237.03 1157.74 1241.74 1152.62 Q1246.49 1147.46 1254.51 1147.46 Q1261.7 1147.46 1265.87 1152.11 Q1270.07 1156.72 1270.07 1164.68 M1264.22 1162.96 Q1264.15 1158.15 1261.51 1155.29 Q1258.9 1152.43 1254.57 1152.43 Q1249.67 1152.43 1246.71 1155.19 Q1243.78 1157.96 1243.34 1162.99 L1264.22 1162.96 Z\" fill=\"#000000\" fill-rule=\"evenodd\" fill-opacity=\"1\" /><polyline clip-path=\"url(#clip672)\" style=\"stroke:#000000; stroke-linecap:round; stroke-linejoin:round; stroke-width:2; stroke-opacity:0.1; fill:none\" points=\"\n  245.337,919.923 2152.76,919.923 \n  \"/>\n<polyline clip-path=\"url(#clip672)\" style=\"stroke:#000000; stroke-linecap:round; stroke-linejoin:round; stroke-width:2; stroke-opacity:0.1; fill:none\" points=\"\n  245.337,761.796 2152.76,761.796 \n  \"/>\n<polyline clip-path=\"url(#clip672)\" style=\"stroke:#000000; stroke-linecap:round; stroke-linejoin:round; stroke-width:2; stroke-opacity:0.1; fill:none\" points=\"\n  245.337,603.669 2152.76,603.669 \n  \"/>\n<polyline clip-path=\"url(#clip672)\" style=\"stroke:#000000; stroke-linecap:round; stroke-linejoin:round; stroke-width:2; stroke-opacity:0.1; fill:none\" points=\"\n  245.337,445.542 2152.76,445.542 \n  \"/>\n<polyline clip-path=\"url(#clip672)\" style=\"stroke:#000000; stroke-linecap:round; stroke-linejoin:round; stroke-width:2; stroke-opacity:0.1; fill:none\" points=\"\n  245.337,287.415 2152.76,287.415 \n  \"/>\n<polyline clip-path=\"url(#clip672)\" style=\"stroke:#000000; stroke-linecap:round; stroke-linejoin:round; stroke-width:2; stroke-opacity:0.1; fill:none\" points=\"\n  245.337,129.288 2152.76,129.288 \n  \"/>\n<polyline clip-path=\"url(#clip670)\" style=\"stroke:#000000; stroke-linecap:round; stroke-linejoin:round; stroke-width:4; stroke-opacity:1; fill:none\" points=\"\n  245.337,1042.1 245.337,47.2441 \n  \"/>\n<polyline clip-path=\"url(#clip670)\" style=\"stroke:#000000; stroke-linecap:round; stroke-linejoin:round; stroke-width:4; stroke-opacity:1; fill:none\" points=\"\n  245.337,919.923 264.235,919.923 \n  \"/>\n<polyline clip-path=\"url(#clip670)\" style=\"stroke:#000000; stroke-linecap:round; stroke-linejoin:round; stroke-width:4; stroke-opacity:1; fill:none\" points=\"\n  245.337,761.796 264.235,761.796 \n  \"/>\n<polyline clip-path=\"url(#clip670)\" style=\"stroke:#000000; stroke-linecap:round; stroke-linejoin:round; stroke-width:4; stroke-opacity:1; fill:none\" points=\"\n  245.337,603.669 264.235,603.669 \n  \"/>\n<polyline clip-path=\"url(#clip670)\" style=\"stroke:#000000; stroke-linecap:round; stroke-linejoin:round; stroke-width:4; stroke-opacity:1; fill:none\" points=\"\n  245.337,445.542 264.235,445.542 \n  \"/>\n<polyline clip-path=\"url(#clip670)\" style=\"stroke:#000000; stroke-linecap:round; stroke-linejoin:round; stroke-width:4; stroke-opacity:1; fill:none\" points=\"\n  245.337,287.415 264.235,287.415 \n  \"/>\n<polyline clip-path=\"url(#clip670)\" style=\"stroke:#000000; stroke-linecap:round; stroke-linejoin:round; stroke-width:4; stroke-opacity:1; fill:none\" points=\"\n  245.337,129.288 264.235,129.288 \n  \"/>\n<path clip-path=\"url(#clip670)\" d=\"M106.62 920.374 L136.296 920.374 L136.296 924.31 L106.62 924.31 L106.62 920.374 Z\" fill=\"#000000\" fill-rule=\"evenodd\" fill-opacity=\"1\" /><path clip-path=\"url(#clip670)\" d=\"M156.388 905.722 Q152.777 905.722 150.949 909.287 Q149.143 912.828 149.143 919.958 Q149.143 927.064 150.949 930.629 Q152.777 934.171 156.388 934.171 Q160.023 934.171 161.828 930.629 Q163.657 927.064 163.657 919.958 Q163.657 912.828 161.828 909.287 Q160.023 905.722 156.388 905.722 M156.388 902.018 Q162.199 902.018 165.254 906.625 Q168.333 911.208 168.333 919.958 Q168.333 928.685 165.254 933.291 Q162.199 937.874 156.388 937.874 Q150.578 937.874 147.5 933.291 Q144.444 928.685 144.444 919.958 Q144.444 911.208 147.5 906.625 Q150.578 902.018 156.388 902.018 Z\" fill=\"#000000\" fill-rule=\"evenodd\" fill-opacity=\"1\" /><path clip-path=\"url(#clip670)\" d=\"M176.55 931.323 L181.435 931.323 L181.435 937.203 L176.55 937.203 L176.55 931.323 Z\" fill=\"#000000\" fill-rule=\"evenodd\" fill-opacity=\"1\" /><path clip-path=\"url(#clip670)\" d=\"M192.43 933.268 L200.069 933.268 L200.069 906.902 L191.759 908.569 L191.759 904.31 L200.022 902.643 L204.698 902.643 L204.698 933.268 L212.337 933.268 L212.337 937.203 L192.43 937.203 L192.43 933.268 Z\" fill=\"#000000\" fill-rule=\"evenodd\" fill-opacity=\"1\" /><path clip-path=\"url(#clip670)\" d=\"M155.162 747.595 Q151.55 747.595 149.722 751.16 Q147.916 754.701 147.916 761.831 Q147.916 768.937 149.722 772.502 Q151.55 776.044 155.162 776.044 Q158.796 776.044 160.601 772.502 Q162.43 768.937 162.43 761.831 Q162.43 754.701 160.601 751.16 Q158.796 747.595 155.162 747.595 M155.162 743.891 Q160.972 743.891 164.027 748.497 Q167.106 753.081 167.106 761.831 Q167.106 770.558 164.027 775.164 Q160.972 779.747 155.162 779.747 Q149.351 779.747 146.273 775.164 Q143.217 770.558 143.217 761.831 Q143.217 753.081 146.273 748.497 Q149.351 743.891 155.162 743.891 Z\" fill=\"#000000\" fill-rule=\"evenodd\" fill-opacity=\"1\" /><path clip-path=\"url(#clip670)\" d=\"M175.323 773.196 L180.208 773.196 L180.208 779.076 L175.323 779.076 L175.323 773.196 Z\" fill=\"#000000\" fill-rule=\"evenodd\" fill-opacity=\"1\" /><path clip-path=\"url(#clip670)\" d=\"M200.393 747.595 Q196.782 747.595 194.953 751.16 Q193.147 754.701 193.147 761.831 Q193.147 768.937 194.953 772.502 Q196.782 776.044 200.393 776.044 Q204.027 776.044 205.833 772.502 Q207.661 768.937 207.661 761.831 Q207.661 754.701 205.833 751.16 Q204.027 747.595 200.393 747.595 M200.393 743.891 Q206.203 743.891 209.258 748.497 Q212.337 753.081 212.337 761.831 Q212.337 770.558 209.258 775.164 Q206.203 779.747 200.393 779.747 Q194.583 779.747 191.504 775.164 Q188.448 770.558 188.448 761.831 Q188.448 753.081 191.504 748.497 Q194.583 743.891 200.393 743.891 Z\" fill=\"#000000\" fill-rule=\"evenodd\" fill-opacity=\"1\" /><path clip-path=\"url(#clip670)\" d=\"M156.388 589.468 Q152.777 589.468 150.949 593.032 Q149.143 596.574 149.143 603.704 Q149.143 610.81 150.949 614.375 Q152.777 617.917 156.388 617.917 Q160.023 617.917 161.828 614.375 Q163.657 610.81 163.657 603.704 Q163.657 596.574 161.828 593.032 Q160.023 589.468 156.388 589.468 M156.388 585.764 Q162.199 585.764 165.254 590.37 Q168.333 594.954 168.333 603.704 Q168.333 612.43 165.254 617.037 Q162.199 621.62 156.388 621.62 Q150.578 621.62 147.5 617.037 Q144.444 612.43 144.444 603.704 Q144.444 594.954 147.5 590.37 Q150.578 585.764 156.388 585.764 Z\" fill=\"#000000\" fill-rule=\"evenodd\" fill-opacity=\"1\" /><path clip-path=\"url(#clip670)\" d=\"M176.55 615.069 L181.435 615.069 L181.435 620.949 L176.55 620.949 L176.55 615.069 Z\" fill=\"#000000\" fill-rule=\"evenodd\" fill-opacity=\"1\" /><path clip-path=\"url(#clip670)\" d=\"M192.43 617.014 L200.069 617.014 L200.069 590.648 L191.759 592.315 L191.759 588.056 L200.022 586.389 L204.698 586.389 L204.698 617.014 L212.337 617.014 L212.337 620.949 L192.43 620.949 L192.43 617.014 Z\" fill=\"#000000\" fill-rule=\"evenodd\" fill-opacity=\"1\" /><path clip-path=\"url(#clip670)\" d=\"M156.759 431.341 Q153.148 431.341 151.319 434.905 Q149.513 438.447 149.513 445.577 Q149.513 452.683 151.319 456.248 Q153.148 459.79 156.759 459.79 Q160.393 459.79 162.199 456.248 Q164.027 452.683 164.027 445.577 Q164.027 438.447 162.199 434.905 Q160.393 431.341 156.759 431.341 M156.759 427.637 Q162.569 427.637 165.624 432.243 Q168.703 436.827 168.703 445.577 Q168.703 454.303 165.624 458.91 Q162.569 463.493 156.759 463.493 Q150.949 463.493 147.87 458.91 Q144.814 454.303 144.814 445.577 Q144.814 436.827 147.87 432.243 Q150.949 427.637 156.759 427.637 Z\" fill=\"#000000\" fill-rule=\"evenodd\" fill-opacity=\"1\" /><path clip-path=\"url(#clip670)\" d=\"M176.921 456.942 L181.805 456.942 L181.805 462.822 L176.921 462.822 L176.921 456.942 Z\" fill=\"#000000\" fill-rule=\"evenodd\" fill-opacity=\"1\" /><path clip-path=\"url(#clip670)\" d=\"M196.018 458.887 L212.337 458.887 L212.337 462.822 L190.393 462.822 L190.393 458.887 Q193.055 456.132 197.638 451.503 Q202.245 446.85 203.425 445.507 Q205.671 442.984 206.55 441.248 Q207.453 439.489 207.453 437.799 Q207.453 435.044 205.509 433.308 Q203.587 431.572 200.485 431.572 Q198.286 431.572 195.833 432.336 Q193.402 433.1 190.624 434.651 L190.624 429.929 Q193.448 428.794 195.902 428.216 Q198.356 427.637 200.393 427.637 Q205.763 427.637 208.958 430.322 Q212.152 433.007 212.152 437.498 Q212.152 439.628 211.342 441.549 Q210.555 443.447 208.448 446.04 Q207.87 446.711 204.768 449.928 Q201.666 453.123 196.018 458.887 Z\" fill=\"#000000\" fill-rule=\"evenodd\" fill-opacity=\"1\" /><path clip-path=\"url(#clip670)\" d=\"M155.81 273.214 Q152.199 273.214 150.37 276.778 Q148.564 280.32 148.564 287.45 Q148.564 294.556 150.37 298.121 Q152.199 301.662 155.81 301.662 Q159.444 301.662 161.249 298.121 Q163.078 294.556 163.078 287.45 Q163.078 280.32 161.249 276.778 Q159.444 273.214 155.81 273.214 M155.81 269.51 Q161.62 269.51 164.675 274.116 Q167.754 278.7 167.754 287.45 Q167.754 296.176 164.675 300.783 Q161.62 305.366 155.81 305.366 Q150 305.366 146.921 300.783 Q143.865 296.176 143.865 287.45 Q143.865 278.7 146.921 274.116 Q150 269.51 155.81 269.51 Z\" fill=\"#000000\" fill-rule=\"evenodd\" fill-opacity=\"1\" /><path clip-path=\"url(#clip670)\" d=\"M175.972 298.815 L180.856 298.815 L180.856 304.695 L175.972 304.695 L175.972 298.815 Z\" fill=\"#000000\" fill-rule=\"evenodd\" fill-opacity=\"1\" /><path clip-path=\"url(#clip670)\" d=\"M205.208 286.061 Q208.564 286.778 210.439 289.047 Q212.337 291.315 212.337 294.649 Q212.337 299.764 208.819 302.565 Q205.3 305.366 198.819 305.366 Q196.643 305.366 194.328 304.926 Q192.036 304.51 189.583 303.653 L189.583 299.139 Q191.527 300.274 193.842 300.852 Q196.157 301.431 198.68 301.431 Q203.078 301.431 205.37 299.695 Q207.684 297.959 207.684 294.649 Q207.684 291.593 205.532 289.88 Q203.402 288.144 199.583 288.144 L195.555 288.144 L195.555 284.301 L199.768 284.301 Q203.217 284.301 205.046 282.936 Q206.874 281.547 206.874 278.954 Q206.874 276.292 204.976 274.88 Q203.101 273.445 199.583 273.445 Q197.661 273.445 195.462 273.862 Q193.263 274.278 190.624 275.158 L190.624 270.991 Q193.286 270.251 195.601 269.88 Q197.939 269.51 199.999 269.51 Q205.323 269.51 208.425 271.94 Q211.527 274.348 211.527 278.468 Q211.527 281.339 209.883 283.329 Q208.24 285.297 205.208 286.061 Z\" fill=\"#000000\" fill-rule=\"evenodd\" fill-opacity=\"1\" /><path clip-path=\"url(#clip670)\" d=\"M154.675 115.086 Q151.064 115.086 149.236 118.651 Q147.43 122.193 147.43 129.323 Q147.43 136.429 149.236 139.994 Q151.064 143.535 154.675 143.535 Q158.31 143.535 160.115 139.994 Q161.944 136.429 161.944 129.323 Q161.944 122.193 160.115 118.651 Q158.31 115.086 154.675 115.086 M154.675 111.383 Q160.486 111.383 163.541 115.989 Q166.62 120.573 166.62 129.323 Q166.62 138.049 163.541 142.656 Q160.486 147.239 154.675 147.239 Q148.865 147.239 145.787 142.656 Q142.731 138.049 142.731 129.323 Q142.731 120.573 145.787 115.989 Q148.865 111.383 154.675 111.383 Z\" fill=\"#000000\" fill-rule=\"evenodd\" fill-opacity=\"1\" /><path clip-path=\"url(#clip670)\" d=\"M174.837 140.688 L179.722 140.688 L179.722 146.568 L174.837 146.568 L174.837 140.688 Z\" fill=\"#000000\" fill-rule=\"evenodd\" fill-opacity=\"1\" /><path clip-path=\"url(#clip670)\" d=\"M202.754 116.082 L190.948 134.531 L202.754 134.531 L202.754 116.082 M201.527 112.008 L207.407 112.008 L207.407 134.531 L212.337 134.531 L212.337 138.42 L207.407 138.42 L207.407 146.568 L202.754 146.568 L202.754 138.42 L187.152 138.42 L187.152 133.906 L201.527 112.008 Z\" fill=\"#000000\" fill-rule=\"evenodd\" fill-opacity=\"1\" /><path clip-path=\"url(#clip670)\" d=\"M13.4038 915.476 L19.674 915.476 Q17.9234 919.136 17.064 922.383 Q16.2047 925.63 16.2047 928.653 Q16.2047 933.905 18.2417 936.769 Q20.2787 939.602 24.0345 939.602 Q27.1855 939.602 28.8088 937.724 Q30.4002 935.815 31.3869 930.531 L32.1826 926.648 Q33.5512 919.455 37.0205 916.049 Q40.458 912.612 46.2508 912.612 Q53.1576 912.612 56.7224 917.259 Q60.2872 921.874 60.2872 930.818 Q60.2872 934.191 59.5233 938.011 Q58.7594 941.798 57.2635 945.872 L50.6431 945.872 Q52.8393 941.958 53.9533 938.202 Q55.0673 934.446 55.0673 930.818 Q55.0673 925.311 52.903 922.319 Q50.7386 919.327 46.7282 919.327 Q43.2271 919.327 41.2537 921.492 Q39.2804 923.624 38.2937 928.526 L37.5298 932.441 Q36.0975 939.634 33.042 942.849 Q29.9864 946.063 24.5437 946.063 Q18.2417 946.063 14.6132 941.639 Q10.9848 937.183 10.9848 929.385 Q10.9848 926.043 11.5895 922.574 Q12.1943 919.105 13.4038 915.476 Z\" fill=\"#000000\" fill-rule=\"evenodd\" fill-opacity=\"1\" /><path clip-path=\"url(#clip670)\" d=\"M23.7162 902.84 L23.7162 896.984 L59.3642 896.984 L59.3642 902.84 L23.7162 902.84 M9.83896 902.84 L9.83896 896.984 L17.255 896.984 L17.255 902.84 L9.83896 902.84 Z\" fill=\"#000000\" fill-rule=\"evenodd\" fill-opacity=\"1\" /><path clip-path=\"url(#clip670)\" d=\"M41.1264 861.272 Q34.7607 861.272 31.2596 863.914 Q27.7584 866.524 27.7584 871.266 Q27.7584 875.977 31.2596 878.619 Q34.7607 881.229 41.1264 881.229 Q47.4603 881.229 50.9614 878.619 Q54.4626 875.977 54.4626 871.266 Q54.4626 866.524 50.9614 863.914 Q47.4603 861.272 41.1264 861.272 M54.94 855.416 Q64.043 855.416 68.4671 859.458 Q72.9231 863.5 72.9231 871.839 Q72.9231 874.927 72.4457 877.664 Q72.0001 880.401 71.0452 882.979 L65.3479 882.979 Q66.7484 880.401 67.4168 877.887 Q68.0852 875.372 68.0852 872.762 Q68.0852 867.001 65.0615 864.137 Q62.0696 861.272 55.9903 861.272 L53.0939 861.272 Q56.245 863.086 57.8046 865.919 Q59.3642 868.752 59.3642 872.699 Q59.3642 879.255 54.3671 883.266 Q49.37 887.276 41.1264 887.276 Q32.851 887.276 27.8539 883.266 Q22.8568 879.255 22.8568 872.699 Q22.8568 868.752 24.4164 865.919 Q25.976 863.086 29.1271 861.272 L23.7162 861.272 L23.7162 855.416 L54.94 855.416 Z\" fill=\"#000000\" fill-rule=\"evenodd\" fill-opacity=\"1\" /><path clip-path=\"url(#clip670)\" d=\"M30.5593 815.598 Q26.6126 813.402 24.7347 810.347 Q22.8568 807.291 22.8568 803.153 Q22.8568 797.583 26.7717 794.56 Q30.6548 791.536 37.8481 791.536 L59.3642 791.536 L59.3642 797.424 L38.039 797.424 Q32.9146 797.424 30.432 799.238 Q27.9494 801.053 27.9494 804.777 Q27.9494 809.328 30.9731 811.97 Q33.9968 814.612 39.2167 814.612 L59.3642 814.612 L59.3642 820.5 L38.039 820.5 Q32.8828 820.5 30.432 822.314 Q27.9494 824.128 27.9494 827.916 Q27.9494 832.404 31.0049 835.045 Q34.0286 837.687 39.2167 837.687 L59.3642 837.687 L59.3642 843.576 L23.7162 843.576 L23.7162 837.687 L29.2544 837.687 Q25.976 835.682 24.4164 832.881 Q22.8568 830.08 22.8568 826.229 Q22.8568 822.346 24.8302 819.64 Q26.8036 816.903 30.5593 815.598 Z\" fill=\"#000000\" fill-rule=\"evenodd\" fill-opacity=\"1\" /><path clip-path=\"url(#clip670)\" d=\"M41.4447 763.654 Q41.4447 770.752 43.0679 773.489 Q44.6912 776.226 48.6061 776.226 Q51.7253 776.226 53.5714 774.189 Q55.3856 772.12 55.3856 768.588 Q55.3856 763.718 51.9481 760.79 Q48.4788 757.829 42.7497 757.829 L41.4447 757.829 L41.4447 763.654 M39.0257 751.973 L59.3642 751.973 L59.3642 757.829 L53.9533 757.829 Q57.1998 759.835 58.7594 762.827 Q60.2872 765.818 60.2872 770.147 Q60.2872 775.622 57.2316 778.868 Q54.1443 782.083 48.9881 782.083 Q42.9725 782.083 39.9169 778.072 Q36.8614 774.03 36.8614 766.041 L36.8614 757.829 L36.2885 757.829 Q32.2462 757.829 30.0501 760.503 Q27.8221 763.145 27.8221 767.951 Q27.8221 771.006 28.5541 773.903 Q29.2862 776.799 30.7503 779.473 L25.3395 779.473 Q24.0981 776.258 23.4934 773.234 Q22.8568 770.211 22.8568 767.346 Q22.8568 759.612 26.8672 755.792 Q30.8776 751.973 39.0257 751.973 Z\" fill=\"#000000\" fill-rule=\"evenodd\" fill-opacity=\"1\" /><path clip-path=\"url(#clip670)\" d=\"M11.8442 725.46 L11.8442 718.553 L31.3869 705.376 L11.8442 692.295 L11.8442 685.388 L36.7341 702.193 L59.3642 702.193 L59.3642 708.654 L36.7341 708.654 L11.8442 725.46 Z\" fill=\"#000000\" fill-rule=\"evenodd\" fill-opacity=\"1\" /><path clip-path=\"url(#clip670)\" d=\"M54.017 652.986 L72.9231 652.986 L72.9231 658.875 L23.7162 658.875 L23.7162 652.986 L29.1271 652.986 Q25.9442 651.14 24.4164 648.339 Q22.8568 645.507 22.8568 641.592 Q22.8568 635.099 28.0131 631.056 Q33.1693 626.982 41.572 626.982 Q49.9747 626.982 55.131 631.056 Q60.2872 635.099 60.2872 641.592 Q60.2872 645.507 58.7594 648.339 Q57.1998 651.14 54.017 652.986 M41.572 633.062 Q35.1108 633.062 31.4505 635.735 Q27.7584 638.377 27.7584 643.024 Q27.7584 647.671 31.4505 650.345 Q35.1108 652.986 41.572 652.986 Q48.0332 652.986 51.7253 650.345 Q55.3856 647.671 55.3856 643.024 Q55.3856 638.377 51.7253 635.735 Q48.0332 633.062 41.572 633.062 Z\" fill=\"#000000\" fill-rule=\"evenodd\" fill-opacity=\"1\" /><path clip-path=\"url(#clip670)\" d=\"M45.2959 617.879 L23.7162 617.879 L23.7162 612.023 L45.0731 612.023 Q50.1339 612.023 52.6802 610.05 Q55.1946 608.076 55.1946 604.129 Q55.1946 599.387 52.1709 596.65 Q49.1472 593.881 43.9273 593.881 L23.7162 593.881 L23.7162 588.024 L59.3642 588.024 L59.3642 593.881 L53.8896 593.881 Q57.1362 596.013 58.7276 598.846 Q60.2872 601.647 60.2872 605.371 Q60.2872 611.514 56.4678 614.697 Q52.6483 617.879 45.2959 617.879 M22.8568 603.143 L22.8568 603.143 Z\" fill=\"#000000\" fill-rule=\"evenodd\" fill-opacity=\"1\" /><path clip-path=\"url(#clip670)\" d=\"M9.83896 575.961 L9.83896 570.105 L59.3642 570.105 L59.3642 575.961 L9.83896 575.961 Z\" fill=\"#000000\" fill-rule=\"evenodd\" fill-opacity=\"1\" /><path clip-path=\"url(#clip670)\" d=\"M24.7665 535.125 L30.3047 535.125 Q29.0316 537.608 28.395 540.281 Q27.7584 542.955 27.7584 545.82 Q27.7584 550.18 29.0952 552.376 Q30.432 554.541 33.1056 554.541 Q35.1426 554.541 36.3203 552.981 Q37.4661 551.421 38.5165 546.711 L38.9621 544.706 Q40.2989 538.467 42.7497 535.857 Q45.1686 533.216 49.5291 533.216 Q54.4944 533.216 57.3908 537.162 Q60.2872 541.077 60.2872 547.952 Q60.2872 550.817 59.7143 553.936 Q59.1732 557.023 58.0592 560.461 L52.0118 560.461 Q53.6987 557.214 54.558 554.063 Q55.3856 550.912 55.3856 547.825 Q55.3856 543.687 53.9851 541.459 Q52.5529 539.231 49.9747 539.231 Q47.5876 539.231 46.3145 540.854 Q45.0413 542.446 43.8637 547.888 L43.3862 549.925 Q42.2404 555.368 39.8851 557.787 Q37.498 560.206 33.3602 560.206 Q28.3313 560.206 25.5941 556.641 Q22.8568 553.077 22.8568 546.52 Q22.8568 543.273 23.3343 540.409 Q23.8117 537.544 24.7665 535.125 Z\" fill=\"#000000\" fill-rule=\"evenodd\" fill-opacity=\"1\" /><path clip-path=\"url(#clip670)\" d=\"M40.0761 493.398 L42.9406 493.398 L42.9406 520.325 Q48.9881 519.943 52.1709 516.697 Q55.3219 513.418 55.3219 507.594 Q55.3219 504.22 54.4944 501.069 Q53.6669 497.886 52.0118 494.767 L57.5499 494.767 Q58.8867 497.918 59.587 501.228 Q60.2872 504.538 60.2872 507.944 Q60.2872 516.474 55.3219 521.471 Q50.3567 526.436 41.8903 526.436 Q33.1374 526.436 28.0131 521.725 Q22.8568 516.983 22.8568 508.962 Q22.8568 501.769 27.5038 497.599 Q32.1189 493.398 40.0761 493.398 M38.3573 499.254 Q33.5512 499.318 30.6866 501.96 Q27.8221 504.57 27.8221 508.899 Q27.8221 513.8 30.5912 516.76 Q33.3602 519.688 38.3892 520.134 L38.3573 499.254 Z\" fill=\"#000000\" fill-rule=\"evenodd\" fill-opacity=\"1\" /><path clip-path=\"url(#clip670)\" d=\"M41.4447 446.865 Q41.4447 453.962 43.0679 456.7 Q44.6912 459.437 48.6061 459.437 Q51.7253 459.437 53.5714 457.4 Q55.3856 455.331 55.3856 451.798 Q55.3856 446.928 51.9481 444 Q48.4788 441.04 42.7497 441.04 L41.4447 441.04 L41.4447 446.865 M39.0257 435.184 L59.3642 435.184 L59.3642 441.04 L53.9533 441.04 Q57.1998 443.045 58.7594 446.037 Q60.2872 449.029 60.2872 453.358 Q60.2872 458.832 57.2316 462.079 Q54.1443 465.293 48.9881 465.293 Q42.9725 465.293 39.9169 461.283 Q36.8614 457.241 36.8614 449.252 L36.8614 441.04 L36.2885 441.04 Q32.2462 441.04 30.0501 443.714 Q27.8221 446.355 27.8221 451.162 Q27.8221 454.217 28.5541 457.113 Q29.2862 460.01 30.7503 462.683 L25.3395 462.683 Q24.0981 459.469 23.4934 456.445 Q22.8568 453.421 22.8568 450.557 Q22.8568 442.822 26.8672 439.003 Q30.8776 435.184 39.0257 435.184 Z\" fill=\"#000000\" fill-rule=\"evenodd\" fill-opacity=\"1\" /><path clip-path=\"url(#clip670)\" d=\"M30.5593 395.366 Q26.6126 393.17 24.7347 390.114 Q22.8568 387.059 22.8568 382.921 Q22.8568 377.351 26.7717 374.327 Q30.6548 371.304 37.8481 371.304 L59.3642 371.304 L59.3642 377.192 L38.039 377.192 Q32.9146 377.192 30.432 379.006 Q27.9494 380.82 27.9494 384.544 Q27.9494 389.096 30.9731 391.738 Q33.9968 394.379 39.2167 394.379 L59.3642 394.379 L59.3642 400.268 L38.039 400.268 Q32.8828 400.268 30.432 402.082 Q27.9494 403.896 27.9494 407.684 Q27.9494 412.172 31.0049 414.813 Q34.0286 417.455 39.2167 417.455 L59.3642 417.455 L59.3642 423.343 L23.7162 423.343 L23.7162 417.455 L29.2544 417.455 Q25.976 415.45 24.4164 412.649 Q22.8568 409.848 22.8568 405.997 Q22.8568 402.114 24.8302 399.408 Q26.8036 396.671 30.5593 395.366 Z\" fill=\"#000000\" fill-rule=\"evenodd\" fill-opacity=\"1\" /><path clip-path=\"url(#clip670)\" d=\"M54.017 353.957 L72.9231 353.957 L72.9231 359.845 L23.7162 359.845 L23.7162 353.957 L29.1271 353.957 Q25.9442 352.111 24.4164 349.31 Q22.8568 346.478 22.8568 342.563 Q22.8568 336.07 28.0131 332.027 Q33.1693 327.953 41.572 327.953 Q49.9747 327.953 55.131 332.027 Q60.2872 336.07 60.2872 342.563 Q60.2872 346.478 58.7594 349.31 Q57.1998 352.111 54.017 353.957 M41.572 334.033 Q35.1108 334.033 31.4505 336.706 Q27.7584 339.348 27.7584 343.995 Q27.7584 348.642 31.4505 351.315 Q35.1108 353.957 41.572 353.957 Q48.0332 353.957 51.7253 351.315 Q55.3856 348.642 55.3856 343.995 Q55.3856 339.348 51.7253 336.706 Q48.0332 334.033 41.572 334.033 Z\" fill=\"#000000\" fill-rule=\"evenodd\" fill-opacity=\"1\" /><path clip-path=\"url(#clip670)\" d=\"M9.83896 318.246 L9.83896 312.389 L59.3642 312.389 L59.3642 318.246 L9.83896 318.246 Z\" fill=\"#000000\" fill-rule=\"evenodd\" fill-opacity=\"1\" /><path clip-path=\"url(#clip670)\" d=\"M23.7162 300.135 L23.7162 294.279 L59.3642 294.279 L59.3642 300.135 L23.7162 300.135 M9.83896 300.135 L9.83896 294.279 L17.255 294.279 L17.255 300.135 L9.83896 300.135 Z\" fill=\"#000000\" fill-rule=\"evenodd\" fill-opacity=\"1\" /><path clip-path=\"url(#clip670)\" d=\"M13.5947 276.232 L23.7162 276.232 L23.7162 264.169 L28.2677 264.169 L28.2677 276.232 L47.6194 276.232 Q51.9799 276.232 53.2213 275.054 Q54.4626 273.845 54.4626 270.185 L54.4626 264.169 L59.3642 264.169 L59.3642 270.185 Q59.3642 276.964 56.8497 279.542 Q54.3034 282.12 47.6194 282.12 L28.2677 282.12 L28.2677 286.417 L23.7162 286.417 L23.7162 282.12 L13.5947 282.12 L13.5947 276.232 Z\" fill=\"#000000\" fill-rule=\"evenodd\" fill-opacity=\"1\" /><path clip-path=\"url(#clip670)\" d=\"M45.2959 257.071 L23.7162 257.071 L23.7162 251.215 L45.0731 251.215 Q50.1339 251.215 52.6802 249.241 Q55.1946 247.268 55.1946 243.321 Q55.1946 238.579 52.1709 235.842 Q49.1472 233.072 43.9273 233.072 L23.7162 233.072 L23.7162 227.216 L59.3642 227.216 L59.3642 233.072 L53.8896 233.072 Q57.1362 235.205 58.7276 238.038 Q60.2872 240.839 60.2872 244.563 Q60.2872 250.705 56.4678 253.888 Q52.6483 257.071 45.2959 257.071 M22.8568 242.335 L22.8568 242.335 Z\" fill=\"#000000\" fill-rule=\"evenodd\" fill-opacity=\"1\" /><path clip-path=\"url(#clip670)\" d=\"M29.1271 191.695 L9.83896 191.695 L9.83896 185.839 L59.3642 185.839 L59.3642 191.695 L54.017 191.695 Q57.1998 193.541 58.7594 196.374 Q60.2872 199.175 60.2872 203.122 Q60.2872 209.583 55.131 213.657 Q49.9747 217.699 41.572 217.699 Q33.1693 217.699 28.0131 213.657 Q22.8568 209.583 22.8568 203.122 Q22.8568 199.175 24.4164 196.374 Q25.9442 193.541 29.1271 191.695 M41.572 211.652 Q48.0332 211.652 51.7253 209.01 Q55.3856 206.336 55.3856 201.69 Q55.3856 197.043 51.7253 194.369 Q48.0332 191.695 41.572 191.695 Q35.1108 191.695 31.4505 194.369 Q27.7584 197.043 27.7584 201.69 Q27.7584 206.336 31.4505 209.01 Q35.1108 211.652 41.572 211.652 Z\" fill=\"#000000\" fill-rule=\"evenodd\" fill-opacity=\"1\" /><path clip-path=\"url(#clip670)\" d=\"M40.0761 143.284 L42.9406 143.284 L42.9406 170.211 Q48.9881 169.829 52.1709 166.583 Q55.3219 163.304 55.3219 157.48 Q55.3219 154.106 54.4944 150.955 Q53.6669 147.772 52.0118 144.653 L57.5499 144.653 Q58.8867 147.804 59.587 151.114 Q60.2872 154.424 60.2872 157.83 Q60.2872 166.36 55.3219 171.357 Q50.3567 176.322 41.8903 176.322 Q33.1374 176.322 28.0131 171.612 Q22.8568 166.869 22.8568 158.848 Q22.8568 151.655 27.5038 147.486 Q32.1189 143.284 40.0761 143.284 M38.3573 149.141 Q33.5512 149.204 30.6866 151.846 Q27.8221 154.456 27.8221 158.785 Q27.8221 163.686 30.5912 166.646 Q33.3602 169.575 38.3892 170.02 L38.3573 149.141 Z\" fill=\"#000000\" fill-rule=\"evenodd\" fill-opacity=\"1\" /><polyline clip-path=\"url(#clip672)\" style=\"stroke:#009af9; stroke-linecap:round; stroke-linejoin:round; stroke-width:12; stroke-opacity:1; fill:none\" points=\"\n  299.321,761.235 302.927,757.815 306.533,750.682 310.139,742.898 313.745,734.357 317.351,724.971 320.957,714.639 324.564,703.253 328.17,690.703 331.776,676.891 \n  335.382,661.737 338.988,645.187 342.594,627.222 346.2,607.862 349.806,587.173 353.412,565.271 357.019,542.318 360.625,518.527 364.231,494.154 367.837,469.497 \n  371.443,444.884 375.049,420.668 378.655,397.215 382.261,374.894 385.868,354.065 389.474,335.067 393.08,318.205 396.686,303.745 400.292,291.9 403.898,282.824 \n  407.504,276.385 411.11,271.327 414.716,266.45 418.323,261.619 421.929,256.832 425.535,252.092 429.141,247.399 432.747,242.754 436.353,238.157 439.959,233.609 \n  443.565,229.112 447.171,224.665 450.778,220.271 454.384,215.929 457.99,211.64 461.596,207.405 465.202,203.225 468.808,199.1 472.414,195.031 476.02,191.02 \n  479.627,187.066 483.233,183.171 486.839,179.334 490.445,175.558 494.051,171.842 497.657,168.187 501.263,164.594 504.869,161.063 508.475,157.596 512.082,154.192 \n  515.688,150.853 519.294,147.578 522.9,144.37 526.506,141.228 530.112,138.152 533.718,135.144 537.324,132.204 540.93,129.333 544.537,126.531 548.143,123.798 \n  551.749,121.136 555.355,118.545 558.961,116.024 562.567,113.576 566.173,111.2 569.779,108.896 573.386,106.666 576.992,104.509 580.598,102.426 584.204,100.418 \n  587.81,98.485 591.416,96.627 595.022,94.8447 598.628,93.1385 602.234,91.5088 605.841,89.9558 609.447,88.4799 613.053,87.0815 616.659,85.7608 620.265,84.5182 \n  623.871,83.3538 627.477,82.2681 631.083,81.2612 634.689,80.3334 638.296,79.4849 641.902,78.7159 645.508,78.0267 649.114,77.4173 652.72,76.8879 656.326,76.4388 \n  659.932,76.07 663.538,75.7817 667.145,75.5739 670.751,75.4468 674.357,75.4005 677.963,75.4349 681.569,75.5502 685.175,75.7464 688.781,76.0234 692.387,76.3814 \n  695.993,76.8202 699.6,77.3398 703.206,77.9402 706.812,78.6214 710.418,79.3832 714.024,80.2256 717.63,81.1484 721.236,82.1515 724.842,83.2348 728.448,84.3982 \n  732.055,85.6413 735.661,86.9642 739.267,88.3665 742.873,89.848 746.479,91.4086 750.085,93.0478 753.691,94.7656 757.297,96.5616 760.904,98.4355 764.51,100.387 \n  768.116,102.416 771.722,104.521 775.328,106.704 778.934,108.962 782.54,111.296 786.146,113.706 789.752,116.19 793.359,118.749 796.965,121.382 800.571,124.089 \n  804.177,126.869 807.783,129.722 811.389,132.646 814.995,135.643 818.601,138.71 822.207,141.848 825.814,145.056 829.42,148.333 833.026,151.679 836.632,155.094 \n  840.238,158.575 843.844,162.124 847.45,165.739 851.056,169.42 854.663,173.165 858.269,176.975 861.875,180.849 865.481,184.785 869.087,188.783 872.693,192.843 \n  876.299,196.964 879.905,201.144 883.511,205.383 887.118,209.681 890.724,214.037 894.33,218.449 897.936,222.917 901.542,227.44 905.148,232.017 908.754,236.648 \n  912.36,241.331 915.966,246.066 919.573,250.852 923.179,255.688 926.785,260.573 930.391,265.506 933.997,270.486 937.603,275.513 941.209,280.585 944.815,285.701 \n  948.422,290.861 952.028,296.063 955.634,301.307 959.24,306.592 962.846,311.916 966.452,317.279 970.058,322.68 973.664,328.117 977.27,333.59 980.877,339.097 \n  984.483,344.639 988.089,350.213 991.695,355.818 995.301,361.455 998.907,367.121 1002.51,372.815 1006.12,378.537 1009.73,384.285 1013.33,390.059 1016.94,395.858 \n  1020.54,401.679 1024.15,407.523 1027.76,413.388 1031.36,419.274 1034.97,425.178 1038.57,431.1 1042.18,437.04 1045.79,442.995 1049.39,448.966 1053,454.95 \n  1056.6,460.947 1060.21,466.955 1063.82,472.975 1067.42,479.003 1071.03,485.041 1074.64,491.085 1078.24,497.136 1081.85,503.193 1085.45,509.253 1089.06,515.317 \n  1092.67,521.383 1096.27,527.45 1099.88,533.517 1103.48,539.583 1107.09,545.647 1110.7,551.708 1114.3,557.765 1117.91,563.816 1121.52,569.862 1125.12,575.9 \n  1128.73,581.93 1132.33,587.951 1135.94,593.961 1139.55,599.96 1143.15,605.947 1146.76,611.92 1150.36,617.879 1153.97,623.823 1157.58,629.751 1161.18,635.661 \n  1164.79,641.553 1168.39,647.426 1172,653.279 1175.61,659.111 1179.21,664.921 1182.82,670.708 1186.43,676.471 1190.03,682.209 1193.64,687.922 1197.24,693.607 \n  1200.85,699.266 1204.46,704.896 1208.06,710.496 1211.67,716.067 1215.27,721.606 1218.88,727.114 1222.49,732.589 1226.09,738.03 1229.7,743.436 1233.3,748.808 \n  1236.91,754.144 1240.52,759.442 1244.12,764.703 1247.73,769.926 1251.34,775.109 1254.94,780.252 1258.55,785.355 1262.15,790.416 1265.76,795.435 1269.37,800.411 \n  1272.97,805.343 1276.58,810.231 1280.18,815.074 1283.79,819.871 1287.4,824.622 1291,829.325 1294.61,833.981 1298.21,838.589 1301.82,843.147 1305.43,847.656 \n  1309.03,852.114 1312.64,856.521 1316.25,860.877 1319.85,865.181 1323.46,869.433 1327.06,873.631 1330.67,877.775 1334.28,881.865 1337.88,885.9 1341.49,889.88 \n  1345.09,893.804 1348.7,897.672 1352.31,901.482 1355.91,905.236 1359.52,908.932 1363.12,912.569 1366.73,916.148 1370.34,919.667 1373.94,923.127 1377.55,926.527 \n  1381.16,929.867 1384.76,933.146 1388.37,936.364 1391.97,939.52 1395.58,942.615 1399.19,945.647 1402.79,948.617 1406.4,951.523 1410,954.367 1413.61,957.147 \n  1417.22,959.863 1420.82,962.515 1424.43,965.103 1428.03,967.626 1431.64,970.084 1435.25,972.477 1438.85,974.805 1442.46,977.066 1446.07,979.262 1449.67,981.392 \n  1453.28,983.456 1456.88,985.453 1460.49,987.384 1464.1,989.248 1467.7,991.045 1471.31,992.775 1474.91,994.437 1478.52,996.032 1482.13,997.56 1485.73,999.02 \n  1489.34,1000.41 1492.94,1001.74 1496.55,1002.99 1500.16,1004.18 1503.76,1005.3 1507.37,1006.35 1510.98,1007.34 1514.58,1008.25 1518.19,1009.1 1521.79,1009.88 \n  1525.4,1010.59 1529.01,1011.23 1532.61,1011.81 1536.22,1012.31 1539.82,1012.75 1543.43,1013.12 1547.04,1013.42 1550.64,1013.66 1554.25,1013.82 1557.86,1013.92 \n  1561.46,1013.95 1565.07,1013.91 1568.67,1013.8 1572.28,1013.63 1575.89,1013.38 1579.49,1013.07 1583.1,1012.7 1586.7,1012.25 1590.31,1011.74 1593.92,1011.16 \n  1597.52,1010.51 1601.13,1009.8 1604.73,1009.02 1608.34,1008.17 1611.95,1007.26 1615.55,1006.28 1619.16,1005.24 1622.77,1004.13 1626.37,1002.95 1629.98,1001.71 \n  1633.58,1000.4 1637.19,999.032 1640.8,997.596 1644.4,996.095 1648.01,994.53 1651.61,992.901 1655.22,991.208 1658.83,989.452 1662.43,987.632 1666.04,985.75 \n  1669.64,983.804 1673.25,981.796 1676.86,979.727 1680.46,977.595 1684.07,975.401 1687.68,973.147 1691.28,970.832 1694.89,968.455 1698.49,966.019 1702.1,963.523 \n  1705.71,960.967 1709.31,958.352 1712.92,955.678 1716.52,952.945 1720.13,950.155 1723.74,947.306 1727.34,944.4 1730.95,941.437 1734.55,938.417 1738.16,935.341 \n  1741.77,932.209 1745.37,929.022 1748.98,925.779 1752.59,922.482 1756.19,919.13 1759.8,915.725 1763.4,912.266 1767.01,908.755 1770.62,905.19 1774.22,901.574 \n  1777.83,897.906 1781.43,894.187 1785.04,890.418 1788.65,886.598 1792.25,882.728 1795.86,878.809 1799.46,874.841 1803.07,870.825 1806.68,866.761 1810.28,862.65 \n  1813.89,858.492 1817.5,854.288 1821.1,850.038 1824.71,845.743 1828.31,841.403 1831.92,837.018 1835.53,832.59 1839.13,828.119 1842.74,823.606 1846.34,819.05 \n  1849.95,814.453 1853.56,809.815 1857.16,805.137 1860.77,800.418 1864.37,795.661 1867.98,790.865 1871.59,786.031 1875.19,781.159 1878.8,776.251 1882.41,771.306 \n  1886.01,766.326 1889.62,761.31 1893.22,756.26 1896.83,751.176 1900.44,746.059 1904.04,740.909 1907.65,735.727 1911.25,730.514 1914.86,725.27 1918.47,719.996 \n  1922.07,714.692 1925.68,709.36 1929.28,703.999 1932.89,698.611 1936.5,693.196 1940.1,687.755 1943.71,682.288 1947.32,676.796 1950.92,671.28 1954.53,665.74 \n  1958.13,660.178 1961.74,654.593 1965.35,648.987 1968.95,643.359 1972.56,637.712 1976.16,632.045 1979.77,626.359 1983.38,620.655 1986.98,614.933 1990.59,609.333 \n  1994.2,605.055 1997.8,603.353 2001.41,604.362 2005.01,607.927 2008.62,613.836 2012.23,621.827 2015.83,631.594 2019.44,642.802 2023.04,655.093 2026.65,668.104 \n  2030.26,681.47 2033.86,694.843 2037.47,707.898 2041.07,720.341 2044.68,731.92 2048.29,742.427 2051.89,751.7 2055.5,759.63 2059.11,766.152 2062.71,771.249 \n  2066.32,774.944 2069.92,777.293 2073.53,778.379 2077.14,778.301 2080.74,777.172 2084.35,775.101 2087.95,772.192 2091.56,768.534 2095.17,764.234 2098.77,761.94 \n  \n  \"/>\n</svg>\n"
          },
          "metadata": {},
          "execution_count": 88
        }
      ]
    }
  ]
}
