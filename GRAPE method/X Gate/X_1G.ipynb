{
  "nbformat": 4,
  "nbformat_minor": 0,
  "metadata": {
    "colab": {
      "provenance": []
    },
    "kernelspec": {
      "name": "python3",
      "display_name": "Python 3"
    },
    "language_info": {
      "name": "python"
    }
  },
  "cells": [
    {
      "cell_type": "code",
      "execution_count": null,
      "metadata": {
        "id": "TNONtlQnrwSZ"
      },
      "outputs": [],
      "source": []
    },
    {
      "cell_type": "code",
      "metadata": {
        "id": "GIeFXS0F0zww",
        "colab": {
          "base_uri": "https://localhost:8080/"
        },
        "outputId": "2d685940-22cf-49cb-915a-faf7d44502bd"
      },
      "source": [
        "%%shell\n",
        "set -e\n",
        "\n",
        "#---------------------------------------------------#\n",
        "JULIA_VERSION=\"1.8.2\" # any version ≥ 0.7.0\n",
        "JULIA_PACKAGES=\"IJulia BenchmarkTools\"\n",
        "JULIA_PACKAGES_IF_GPU=\"CUDA\" # or CuArrays for older Julia versions\n",
        "JULIA_NUM_THREADS=2\n",
        "#---------------------------------------------------#\n",
        "\n",
        "if [ -z `which julia` ]; then\n",
        "  # Install Julia\n",
        "  JULIA_VER=`cut -d '.' -f -2 <<< \"$JULIA_VERSION\"`\n",
        "  echo \"Installing Julia $JULIA_VERSION on the current Colab Runtime...\"\n",
        "  BASE_URL=\"https://julialang-s3.julialang.org/bin/linux/x64\"\n",
        "  URL=\"$BASE_URL/$JULIA_VER/julia-$JULIA_VERSION-linux-x86_64.tar.gz\"\n",
        "  wget -nv $URL -O /tmp/julia.tar.gz # -nv means \"not verbose\"\n",
        "  tar -x -f /tmp/julia.tar.gz -C /usr/local --strip-components 1\n",
        "  rm /tmp/julia.tar.gz\n",
        "\n",
        "  # Install Packages\n",
        "  nvidia-smi -L &> /dev/null && export GPU=1 || export GPU=0\n",
        "  if [ $GPU -eq 1 ]; then\n",
        "    JULIA_PACKAGES=\"$JULIA_PACKAGES $JULIA_PACKAGES_IF_GPU\"\n",
        "  fi\n",
        "  for PKG in `echo $JULIA_PACKAGES`; do\n",
        "    echo \"Installing Julia package $PKG...\"\n",
        "    julia -e 'using Pkg; pkg\"add '$PKG'; precompile;\"' &> /dev/null\n",
        "  done\n",
        "\n",
        "  # Install kernel and rename it to \"julia\"\n",
        "  echo \"Installing IJulia kernel...\"\n",
        "  julia -e 'using IJulia; IJulia.installkernel(\"julia\", env=Dict(\n",
        "      \"JULIA_NUM_THREADS\"=>\"'\"$JULIA_NUM_THREADS\"'\"))'\n",
        "  KERNEL_DIR=`julia -e \"using IJulia; print(IJulia.kerneldir())\"`\n",
        "  KERNEL_NAME=`ls -d \"$KERNEL_DIR\"/julia*`\n",
        "  mv -f $KERNEL_NAME \"$KERNEL_DIR\"/julia\n",
        "\n",
        "  echo ''\n",
        "  echo \"Successfully installed `julia -v`!\"\n",
        "  echo \"Please reload this page (press Ctrl+R, ⌘+R, or the F5 key) then\"\n",
        "  echo \"jump to the 'Checking the Installation' section.\"\n",
        "fi"
      ],
      "execution_count": null,
      "outputs": [
        {
          "output_type": "stream",
          "name": "stdout",
          "text": [
            "Installing Julia 1.8.2 on the current Colab Runtime...\n",
            "2023-08-01 15:25:31 URL:https://julialang-s3.julialang.org/bin/linux/x64/1.8/julia-1.8.2-linux-x86_64.tar.gz [135859273/135859273] -> \"/tmp/julia.tar.gz\" [1]\n",
            "Installing Julia package IJulia...\n",
            "Installing Julia package BenchmarkTools...\n",
            "Installing IJulia kernel...\n",
            "\u001b[36m\u001b[1m[ \u001b[22m\u001b[39m\u001b[36m\u001b[1mInfo: \u001b[22m\u001b[39mInstalling julia kernelspec in /root/.local/share/jupyter/kernels/julia-1.8\n",
            "\n",
            "Successfully installed julia version 1.8.2!\n",
            "Please reload this page (press Ctrl+R, ⌘+R, or the F5 key) then\n",
            "jump to the 'Checking the Installation' section.\n"
          ]
        },
        {
          "output_type": "execute_result",
          "data": {
            "text/plain": []
          },
          "metadata": {},
          "execution_count": 1
        }
      ]
    },
    {
      "cell_type": "code",
      "metadata": {
        "id": "EEzvvzCl1i0F",
        "colab": {
          "base_uri": "https://localhost:8080/"
        },
        "outputId": "83182c30-bc48-4ed9-c41c-f70ee1b050b4"
      },
      "source": [
        "versioninfo()"
      ],
      "execution_count": null,
      "outputs": [
        {
          "output_type": "stream",
          "name": "stdout",
          "text": [
            "Julia Version 1.8.2\n",
            "Commit 36034abf260 (2022-09-29 15:21 UTC)\n",
            "Platform Info:\n",
            "  OS: Linux (x86_64-linux-gnu)\n",
            "  CPU: 2 × Intel(R) Xeon(R) CPU @ 2.20GHz\n",
            "  WORD_SIZE: 64\n",
            "  LIBM: libopenlibm\n",
            "  LLVM: libLLVM-13.0.1 (ORCJIT, broadwell)\n",
            "  Threads: 2 on 2 virtual cores\n",
            "Environment:\n",
            "  LD_LIBRARY_PATH = /usr/local/nvidia/lib:/usr/local/nvidia/lib64\n",
            "  LD_PRELOAD = /usr/lib/x86_64-linux-gnu/libtcmalloc.so.4\n",
            "  JULIA_NUM_THREADS = 2\n"
          ]
        }
      ]
    },
    {
      "cell_type": "markdown",
      "metadata": {
        "id": "2UMidUQB03vJ"
      },
      "source": [
        "\n",
        "<img src=\"https://raw.githubusercontent.com/JuliaLang/julia-logo-graphics/master/images/julia-logo-mask.png\" height=\"100\" />"
      ]
    },
    {
      "cell_type": "code",
      "source": [
        "using Pkg"
      ],
      "metadata": {
        "id": "IeSqMI1XUPPy"
      },
      "execution_count": null,
      "outputs": []
    },
    {
      "cell_type": "code",
      "source": [
        "Pkg.add(url=\"https://github.com/JuliaQuantumControl/GRAPELinesearchAnalysis.jl.git\")"
      ],
      "metadata": {
        "id": "KYHXrvcGUPzo"
      },
      "execution_count": null,
      "outputs": []
    },
    {
      "cell_type": "code",
      "source": [
        "Pkg.add(\"QuantumControl\")"
      ],
      "metadata": {
        "id": "C22x6BwkURpO"
      },
      "execution_count": null,
      "outputs": []
    },
    {
      "cell_type": "code",
      "source": [
        "using GRAPELinesearchAnalysis"
      ],
      "metadata": {
        "id": "LXuPQQwVUTcz"
      },
      "execution_count": null,
      "outputs": []
    },
    {
      "cell_type": "code",
      "source": [
        "using QuantumControl"
      ],
      "metadata": {
        "id": "QOa-DbJYUU1c"
      },
      "execution_count": null,
      "outputs": []
    },
    {
      "cell_type": "code",
      "source": [
        "Pkg.add(\"QuantumControlBase\")"
      ],
      "metadata": {
        "id": "1RnrLDCfUWxE",
        "colab": {
          "base_uri": "https://localhost:8080/"
        },
        "outputId": "2ef07b5f-47a7-43af-a8b5-dfd921e9c433"
      },
      "execution_count": null,
      "outputs": [
        {
          "output_type": "stream",
          "name": "stderr",
          "text": [
            "\u001b[32m\u001b[1m   Resolving\u001b[22m\u001b[39m package versions...\n",
            "\u001b[32m\u001b[1m    Updating\u001b[22m\u001b[39m `~/.julia/environments/v1.8/Project.toml`\n",
            " \u001b[90m [f10a33bc] \u001b[39m\u001b[92m+ QuantumControlBase v0.8.3\u001b[39m\n",
            "\u001b[32m\u001b[1m  No Changes\u001b[22m\u001b[39m to `~/.julia/environments/v1.8/Manifest.toml`\n"
          ]
        }
      ]
    },
    {
      "cell_type": "code",
      "source": [
        "using QuantumControlBase"
      ],
      "metadata": {
        "id": "24Jsec52UYeE"
      },
      "execution_count": null,
      "outputs": []
    },
    {
      "cell_type": "code",
      "source": [
        "ϵ(t) = 0.2 * QuantumControl.Shapes.flattop(t, T=5, t_rise=0.3, func=:blackman);"
      ],
      "metadata": {
        "id": "LwyvSAX0UZ-0"
      },
      "execution_count": null,
      "outputs": []
    },
    {
      "cell_type": "code",
      "source": [
        "\"\"\"Two-level-system Hamiltonian.\"\"\"\n",
        "function hamiltonian(Ω=1.0, ϵ=ϵ)\n",
        "    σ̂_z = ComplexF64[\n",
        "        1  0\n",
        "        0 -1\n",
        "    ]\n",
        "    σ̂_x = ComplexF64[\n",
        "        0  1\n",
        "        1  0\n",
        "    ]\n",
        "    Ĥ₀ = -0.5 * Ω * σ̂_z\n",
        "    Ĥ₁ = σ̂_x\n",
        "    return (Ĥ₀, (Ĥ₁, ϵ))\n",
        "end;"
      ],
      "metadata": {
        "id": "xbvLOxSGUgZK"
      },
      "execution_count": null,
      "outputs": []
    },
    {
      "cell_type": "code",
      "source": [
        "H = hamiltonian();"
      ],
      "metadata": {
        "id": "a0Vdo2sfUjf0"
      },
      "execution_count": null,
      "outputs": []
    },
    {
      "cell_type": "code",
      "source": [
        "tlist = collect(range(0, 5, length=500));"
      ],
      "metadata": {
        "id": "8UB5mBU3Uk8c"
      },
      "execution_count": null,
      "outputs": []
    },
    {
      "cell_type": "code",
      "source": [
        "Pkg.add(\"Plots\")\n",
        "using Plots\n",
        "Plots.default(\n",
        "    linewidth               = 3,\n",
        "    size                    = (550, 300),\n",
        "    legend                  = :right,\n",
        "    foreground_color_legend = nothing,\n",
        "    background_color_legend = RGBA(1, 1, 1, 0.8)\n",
        ")"
      ],
      "metadata": {
        "id": "jNHP0G6QUmV_",
        "colab": {
          "base_uri": "https://localhost:8080/"
        },
        "outputId": "bad4fbb9-f6b1-4739-f7d4-db7745b2495e"
      },
      "execution_count": null,
      "outputs": [
        {
          "output_type": "stream",
          "name": "stderr",
          "text": [
            "\u001b[32m\u001b[1m   Resolving\u001b[22m\u001b[39m package versions...\n",
            "\u001b[32m\u001b[1m    Updating\u001b[22m\u001b[39m `~/.julia/environments/v1.8/Project.toml`\n",
            " \u001b[90m [91a5bcdd] \u001b[39m\u001b[92m+ Plots v1.38.17\u001b[39m\n",
            "\u001b[32m\u001b[1m  No Changes\u001b[22m\u001b[39m to `~/.julia/environments/v1.8/Manifest.toml`\n"
          ]
        }
      ]
    },
    {
      "cell_type": "code",
      "source": [
        "function plot_control(pulse::Vector, tlist)\n",
        "    plot(tlist, pulse, xlabel=\"time\", ylabel=\"pulse amplitude\", legend=false)\n",
        "end\n",
        "\n",
        "plot_control(ϵ::T, tlist) where {T<:Function} = plot_control([ϵ(t) for t in tlist], tlist);"
      ],
      "metadata": {
        "id": "WERcXWQxUn3T"
      },
      "execution_count": null,
      "outputs": []
    },
    {
      "cell_type": "code",
      "source": [
        "using LinearAlgebra"
      ],
      "metadata": {
        "id": "BJ7oR2DiU39X"
      },
      "execution_count": null,
      "outputs": []
    },
    {
      "cell_type": "code",
      "source": [
        "function ket_(label)\n",
        "    result = Dict(\"0\" => Vector{ComplexF64}([1, 0]), \"1\" => Vector{ComplexF64}([0, 1]))\n",
        "    return result[string(label)]\n",
        "end;"
      ],
      "metadata": {
        "id": "bqZPZO6jU87k"
      },
      "execution_count": null,
      "outputs": []
    },
    {
      "cell_type": "code",
      "source": [
        "# Pauli matrices\n",
        "\n",
        "sigma_x = [[0, 1] [1, 0]]\n",
        "sigma_y = [[0, 0-1im] [1im, 0]]\n",
        "sigma_z = [[1, 0] [0, -1]]\n"
      ],
      "metadata": {
        "id": "QKvi-NlMU-cl",
        "colab": {
          "base_uri": "https://localhost:8080/"
        },
        "outputId": "b911a864-a107-4428-ac9f-59afcafce61e"
      },
      "execution_count": null,
      "outputs": [
        {
          "output_type": "execute_result",
          "data": {
            "text/plain": [
              "2×2 Matrix{Int64}:\n",
              " 1   0\n",
              " 0  -1"
            ]
          },
          "metadata": {},
          "execution_count": 17
        }
      ]
    },
    {
      "cell_type": "code",
      "source": [
        "basis = [ket_(\"0\"),ket_(\"1\")];"
      ],
      "metadata": {
        "id": "n08UkOSyUqUX"
      },
      "execution_count": null,
      "outputs": []
    },
    {
      "cell_type": "code",
      "source": [
        "XGate = [[0, 1] [1, 0]];"
      ],
      "metadata": {
        "id": "fIou9vjZVBn9"
      },
      "execution_count": null,
      "outputs": []
    },
    {
      "cell_type": "code",
      "source": [
        "basis_tgt = transpose(XGate) * basis;"
      ],
      "metadata": {
        "id": "1CsNPKBWVDE7"
      },
      "execution_count": null,
      "outputs": []
    },
    {
      "cell_type": "code",
      "source": [
        "objectives = [Objective(initial_state = Ψ, target_state = Ψtgt, generator = H) for\n",
        "    (Ψ, Ψtgt) ∈ zip(basis, basis_tgt)];\n",
        "\n",
        "objectives"
      ],
      "metadata": {
        "id": "kY0GIBgZVEgF",
        "colab": {
          "base_uri": "https://localhost:8080/"
        },
        "outputId": "b8ddafa4-e090-4821-f005-b388653ba809"
      },
      "execution_count": null,
      "outputs": [
        {
          "output_type": "execute_result",
          "data": {
            "text/plain": [
              "2-element Vector{Objective{Vector{ComplexF64}, Tuple{Matrix{ComplexF64}, Tuple{Matrix{ComplexF64}, typeof(ϵ)}}}}:\n",
              " Objective{Vector{ComplexF64}, Tuple{Matrix{ComplexF64}, Tuple{Matrix{ComplexF64}, typeof(ϵ)}}}(…)\n",
              " Objective{Vector{ComplexF64}, Tuple{Matrix{ComplexF64}, Tuple{Matrix{ComplexF64}, typeof(ϵ)}}}(…)"
            ]
          },
          "metadata": {},
          "execution_count": 21
        }
      ]
    },
    {
      "cell_type": "code",
      "source": [
        "problem = ControlProblem(\n",
        "    objectives=objectives,\n",
        "    tlist=tlist,\n",
        "    pulse_options=Dict(),\n",
        "    iter_stop=500,\n",
        "    J_T=QuantumControl.Functionals.J_T_sm,\n",
        "    check_convergence=res -> begin\n",
        "        ((res.J_T < 1e-3) && (res.converged = true) && (res.message = \"J_T < 10⁻³\"))\n",
        "    end,\n",
        ");"
      ],
      "metadata": {
        "id": "7w-Lu2daVGSO"
      },
      "execution_count": null,
      "outputs": []
    },
    {
      "cell_type": "code",
      "source": [
        "guess_states = propagate_objectives(objectives, tlist; use_threads=true);"
      ],
      "metadata": {
        "id": "lbEH0xjcVIKj"
      },
      "execution_count": null,
      "outputs": []
    },
    {
      "cell_type": "code",
      "source": [
        "function plot_population(pop0::Vector, pop1::Vector, tlist)\n",
        "    fig = plot(tlist, pop0, label=\"0\", xlabel=\"time\", ylabel=\"population\")\n",
        "    plot!(fig, tlist, pop1; label=\"1\")\n",
        "end;"
      ],
      "metadata": {
        "id": "y026UXqfVJdo"
      },
      "execution_count": null,
      "outputs": []
    },
    {
      "cell_type": "code",
      "source": [
        "function store_pulses(wrk, iteration, _...)\n",
        "    L = length(wrk.controls)\n",
        "    ϵ_opt = reshape(wrk.pulsevals, L, :)\n",
        "    opt_pulses = [QuantumControl.Controls.discretize_on_midpoints(ϵ_opt[l, :], tlist) for l=1:L]\n",
        "    return Tuple(opt_pulses)\n",
        "end"
      ],
      "metadata": {
        "id": "xqXT876vVMDU",
        "colab": {
          "base_uri": "https://localhost:8080/"
        },
        "outputId": "04a298df-169f-4a1b-8773-c6ecefce2794"
      },
      "execution_count": null,
      "outputs": [
        {
          "output_type": "execute_result",
          "data": {
            "text/plain": [
              "store_pulses (generic function with 1 method)"
            ]
          },
          "metadata": {},
          "execution_count": 24
        }
      ]
    },
    {
      "cell_type": "code",
      "source": [
        "Pkg.add(\"GRAPE\")\n",
        "using GRAPE"
      ],
      "metadata": {
        "id": "ZgsDGnWgVPWp",
        "colab": {
          "base_uri": "https://localhost:8080/"
        },
        "outputId": "00ab689a-29ec-4dfc-eda5-08523cbf6f8d"
      },
      "execution_count": null,
      "outputs": [
        {
          "output_type": "stream",
          "name": "stderr",
          "text": [
            "\u001b[32m\u001b[1m   Resolving\u001b[22m\u001b[39m package versions...\n",
            "\u001b[32m\u001b[1m    Updating\u001b[22m\u001b[39m `~/.julia/environments/v1.8/Project.toml`\n",
            " \u001b[90m [6b52fcaf] \u001b[39m\u001b[92m+ GRAPE v0.5.4\u001b[39m\n",
            "\u001b[32m\u001b[1m  No Changes\u001b[22m\u001b[39m to `~/.julia/environments/v1.8/Manifest.toml`\n"
          ]
        }
      ]
    },
    {
      "cell_type": "code",
      "source": [
        "wrk=GRAPE.GrapeWrk(problem; )"
      ],
      "metadata": {
        "id": "diShVUbRVQ_y"
      },
      "execution_count": null,
      "outputs": []
    },
    {
      "cell_type": "code",
      "source": [
        "opt_result_LBFGSB = optimize(\n",
        "\n",
        "    problem,\n",
        "    method = :grape,\n",
        "    force = true,\n",
        "    info_hook = QuantumControlBase.chain_infohooks(\n",
        "\n",
        "        QuantumControl.GRAPE.print_table,\n",
        "        store_pulses\n",
        "    )\n",
        ");"
      ],
      "metadata": {
        "id": "JyWncH3FVSoi",
        "colab": {
          "base_uri": "https://localhost:8080/"
        },
        "outputId": "38ae723e-fbbc-4210-fc16-502687f79ed8"
      },
      "execution_count": null,
      "outputs": [
        {
          "output_type": "stream",
          "name": "stdout",
          "text": [
            " iter.        J_T     |∇J_T|       ΔJ_T   FG(F)    secs\n",
            "     0   9.51e-01   5.40e-02        n/a    1(0)     0.0\n",
            "     1   9.49e-01   5.55e-02  -2.95e-03    1(0)     0.0\n",
            "     2   3.94e-02   6.30e-02  -9.09e-01    6(0)     0.2\n",
            "     3   1.65e-02   3.82e-02  -2.29e-02    2(0)     0.1\n",
            "     4   1.27e-02   3.35e-02  -3.84e-03    1(0)     0.0\n",
            "     5   1.65e-05   1.31e-03  -1.27e-02    1(0)     0.1\n"
          ]
        }
      ]
    },
    {
      "cell_type": "code",
      "source": [
        "opt_result_LBFGSB"
      ],
      "metadata": {
        "id": "wkAwI6RZVUV2",
        "colab": {
          "base_uri": "https://localhost:8080/"
        },
        "outputId": "86baf272-1d8d-429a-aa0e-4b0eeadf3208"
      },
      "execution_count": null,
      "outputs": [
        {
          "output_type": "execute_result",
          "data": {
            "text/plain": [
              "GRAPE Optimization Result\n",
              "-------------------------\n",
              "- Started at 2023-08-01T15:50:35.367\n",
              "- Number of objectives: 2\n",
              "- Number of iterations: 5\n",
              "- Number of pure func evals: 0\n",
              "- Number of func/grad evals: 12\n",
              "- Value of functional: 1.65005e-05\n",
              "- Reason for termination: J_T < 10⁻³\n",
              "- Ended at 2023-08-01T15:50:35.794 (427 milliseconds)\n"
            ]
          },
          "metadata": {},
          "execution_count": 30
        }
      ]
    },
    {
      "cell_type": "code",
      "source": [
        "function plot_pulse1(pulse::Vector, tlist)\n",
        "    plot(tlist, pulse, xlabel=\"time\", ylabel=\"amplitude\" , legend=false)\n",
        "\n",
        "    ylabel!(\"Sigma X pulse amplitude\")\n",
        "end\n",
        "\n",
        "plot_control(ϵ::T, tlist) where {T<:Function} = plot_control([ϵ(t) for t in tlist], tlist);"
      ],
      "metadata": {
        "id": "gtArAn06y95X"
      },
      "execution_count": null,
      "outputs": []
    },
    {
      "cell_type": "code",
      "source": [
        "plot_pulse1(opt_result_LBFGSB.optimized_controls[1], tlist)"
      ],
      "metadata": {
        "id": "vm0WOqrTVZKl",
        "colab": {
          "base_uri": "https://localhost:8080/",
          "height": 322
        },
        "outputId": "277a9c12-c540-40ab-f70a-c0e0175f8a30"
      },
      "execution_count": null,
      "outputs": [
        {
          "output_type": "execute_result",
          "data": {
            "image/svg+xml": "<?xml version=\"1.0\" encoding=\"utf-8\"?>\n<svg xmlns=\"http://www.w3.org/2000/svg\" xmlns:xlink=\"http://www.w3.org/1999/xlink\" width=\"550\" height=\"300\" viewBox=\"0 0 2200 1200\">\n<defs>\n  <clipPath id=\"clip070\">\n    <rect x=\"0\" y=\"0\" width=\"2200\" height=\"1200\"/>\n  </clipPath>\n</defs>\n<path clip-path=\"url(#clip070)\" d=\"M0 1200 L2200 1200 L2200 0 L0 0  Z\" fill=\"#ffffff\" fill-rule=\"evenodd\" fill-opacity=\"1\"/>\n<defs>\n  <clipPath id=\"clip071\">\n    <rect x=\"440\" y=\"0\" width=\"1541\" height=\"1200\"/>\n  </clipPath>\n</defs>\n<path clip-path=\"url(#clip070)\" d=\"M246.726 1042.1 L2152.76 1042.1 L2152.76 47.2441 L246.726 47.2441  Z\" fill=\"#ffffff\" fill-rule=\"evenodd\" fill-opacity=\"1\"/>\n<defs>\n  <clipPath id=\"clip072\">\n    <rect x=\"246\" y=\"47\" width=\"1907\" height=\"996\"/>\n  </clipPath>\n</defs>\n<polyline clip-path=\"url(#clip072)\" style=\"stroke:#000000; stroke-linecap:round; stroke-linejoin:round; stroke-width:2; stroke-opacity:0.1; fill:none\" points=\"300.67,1042.1 300.67,47.2441 \"/>\n<polyline clip-path=\"url(#clip072)\" style=\"stroke:#000000; stroke-linecap:round; stroke-linejoin:round; stroke-width:2; stroke-opacity:0.1; fill:none\" points=\"660.299,1042.1 660.299,47.2441 \"/>\n<polyline clip-path=\"url(#clip072)\" style=\"stroke:#000000; stroke-linecap:round; stroke-linejoin:round; stroke-width:2; stroke-opacity:0.1; fill:none\" points=\"1019.93,1042.1 1019.93,47.2441 \"/>\n<polyline clip-path=\"url(#clip072)\" style=\"stroke:#000000; stroke-linecap:round; stroke-linejoin:round; stroke-width:2; stroke-opacity:0.1; fill:none\" points=\"1379.56,1042.1 1379.56,47.2441 \"/>\n<polyline clip-path=\"url(#clip072)\" style=\"stroke:#000000; stroke-linecap:round; stroke-linejoin:round; stroke-width:2; stroke-opacity:0.1; fill:none\" points=\"1739.18,1042.1 1739.18,47.2441 \"/>\n<polyline clip-path=\"url(#clip072)\" style=\"stroke:#000000; stroke-linecap:round; stroke-linejoin:round; stroke-width:2; stroke-opacity:0.1; fill:none\" points=\"2098.81,1042.1 2098.81,47.2441 \"/>\n<polyline clip-path=\"url(#clip070)\" style=\"stroke:#000000; stroke-linecap:round; stroke-linejoin:round; stroke-width:4; stroke-opacity:1; fill:none\" points=\"246.726,1042.1 2152.76,1042.1 \"/>\n<polyline clip-path=\"url(#clip070)\" style=\"stroke:#000000; stroke-linecap:round; stroke-linejoin:round; stroke-width:4; stroke-opacity:1; fill:none\" points=\"300.67,1042.1 300.67,1023.21 \"/>\n<polyline clip-path=\"url(#clip070)\" style=\"stroke:#000000; stroke-linecap:round; stroke-linejoin:round; stroke-width:4; stroke-opacity:1; fill:none\" points=\"660.299,1042.1 660.299,1023.21 \"/>\n<polyline clip-path=\"url(#clip070)\" style=\"stroke:#000000; stroke-linecap:round; stroke-linejoin:round; stroke-width:4; stroke-opacity:1; fill:none\" points=\"1019.93,1042.1 1019.93,1023.21 \"/>\n<polyline clip-path=\"url(#clip070)\" style=\"stroke:#000000; stroke-linecap:round; stroke-linejoin:round; stroke-width:4; stroke-opacity:1; fill:none\" points=\"1379.56,1042.1 1379.56,1023.21 \"/>\n<polyline clip-path=\"url(#clip070)\" style=\"stroke:#000000; stroke-linecap:round; stroke-linejoin:round; stroke-width:4; stroke-opacity:1; fill:none\" points=\"1739.18,1042.1 1739.18,1023.21 \"/>\n<polyline clip-path=\"url(#clip070)\" style=\"stroke:#000000; stroke-linecap:round; stroke-linejoin:round; stroke-width:4; stroke-opacity:1; fill:none\" points=\"2098.81,1042.1 2098.81,1023.21 \"/>\n<path clip-path=\"url(#clip070)\" d=\"M300.67 1071.42 Q297.059 1071.42 295.231 1074.99 Q293.425 1078.53 293.425 1085.66 Q293.425 1092.76 295.231 1096.33 Q297.059 1099.87 300.67 1099.87 Q304.305 1099.87 306.11 1096.33 Q307.939 1092.76 307.939 1085.66 Q307.939 1078.53 306.11 1074.99 Q304.305 1071.42 300.67 1071.42 M300.67 1067.72 Q306.48 1067.72 309.536 1072.32 Q312.615 1076.91 312.615 1085.66 Q312.615 1094.39 309.536 1098.99 Q306.48 1103.57 300.67 1103.57 Q294.86 1103.57 291.781 1098.99 Q288.726 1094.39 288.726 1085.66 Q288.726 1076.91 291.781 1072.32 Q294.86 1067.72 300.67 1067.72 Z\" fill=\"#000000\" fill-rule=\"nonzero\" fill-opacity=\"1\" /><path clip-path=\"url(#clip070)\" d=\"M650.681 1098.97 L658.319 1098.97 L658.319 1072.6 L650.009 1074.27 L650.009 1070.01 L658.273 1068.34 L662.949 1068.34 L662.949 1098.97 L670.588 1098.97 L670.588 1102.9 L650.681 1102.9 L650.681 1098.97 Z\" fill=\"#000000\" fill-rule=\"nonzero\" fill-opacity=\"1\" /><path clip-path=\"url(#clip070)\" d=\"M1014.58 1098.97 L1030.9 1098.97 L1030.9 1102.9 L1008.95 1102.9 L1008.95 1098.97 Q1011.62 1096.21 1016.2 1091.58 Q1020.81 1086.93 1021.99 1085.59 Q1024.23 1083.07 1025.11 1081.33 Q1026.01 1079.57 1026.01 1077.88 Q1026.01 1075.13 1024.07 1073.39 Q1022.15 1071.65 1019.05 1071.65 Q1016.85 1071.65 1014.39 1072.42 Q1011.96 1073.18 1009.19 1074.73 L1009.19 1070.01 Q1012.01 1068.88 1014.46 1068.3 Q1016.92 1067.72 1018.95 1067.72 Q1024.32 1067.72 1027.52 1070.4 Q1030.71 1073.09 1030.71 1077.58 Q1030.71 1079.71 1029.9 1081.63 Q1029.12 1083.53 1027.01 1086.12 Q1026.43 1086.79 1023.33 1090.01 Q1020.23 1093.2 1014.58 1098.97 Z\" fill=\"#000000\" fill-rule=\"nonzero\" fill-opacity=\"1\" /><path clip-path=\"url(#clip070)\" d=\"M1383.8 1084.27 Q1387.16 1084.99 1389.03 1087.26 Q1390.93 1089.52 1390.93 1092.86 Q1390.93 1097.97 1387.41 1100.77 Q1383.9 1103.57 1377.41 1103.57 Q1375.24 1103.57 1372.92 1103.13 Q1370.63 1102.72 1368.18 1101.86 L1368.18 1097.35 Q1370.12 1098.48 1372.44 1099.06 Q1374.75 1099.64 1377.28 1099.64 Q1381.67 1099.64 1383.96 1097.9 Q1386.28 1096.17 1386.28 1092.86 Q1386.28 1089.8 1384.13 1088.09 Q1382 1086.35 1378.18 1086.35 L1374.15 1086.35 L1374.15 1082.51 L1378.36 1082.51 Q1381.81 1082.51 1383.64 1081.14 Q1385.47 1079.76 1385.47 1077.16 Q1385.47 1074.5 1383.57 1073.09 Q1381.7 1071.65 1378.18 1071.65 Q1376.26 1071.65 1374.06 1072.07 Q1371.86 1072.49 1369.22 1073.37 L1369.22 1069.2 Q1371.88 1068.46 1374.2 1068.09 Q1376.53 1067.72 1378.59 1067.72 Q1383.92 1067.72 1387.02 1070.15 Q1390.12 1072.56 1390.12 1076.68 Q1390.12 1079.55 1388.48 1081.54 Q1386.84 1083.51 1383.8 1084.27 Z\" fill=\"#000000\" fill-rule=\"nonzero\" fill-opacity=\"1\" /><path clip-path=\"url(#clip070)\" d=\"M1742.19 1072.42 L1730.39 1090.87 L1742.19 1090.87 L1742.19 1072.42 M1740.97 1068.34 L1746.85 1068.34 L1746.85 1090.87 L1751.78 1090.87 L1751.78 1094.76 L1746.85 1094.76 L1746.85 1102.9 L1742.19 1102.9 L1742.19 1094.76 L1726.59 1094.76 L1726.59 1090.24 L1740.97 1068.34 Z\" fill=\"#000000\" fill-rule=\"nonzero\" fill-opacity=\"1\" /><path clip-path=\"url(#clip070)\" d=\"M2089.09 1068.34 L2107.45 1068.34 L2107.45 1072.28 L2093.37 1072.28 L2093.37 1080.75 Q2094.39 1080.4 2095.41 1080.24 Q2096.43 1080.06 2097.45 1080.06 Q2103.23 1080.06 2106.61 1083.23 Q2109.99 1086.4 2109.99 1091.82 Q2109.99 1097.39 2106.52 1100.5 Q2103.05 1103.57 2096.73 1103.57 Q2094.55 1103.57 2092.28 1103.2 Q2090.04 1102.83 2087.63 1102.09 L2087.63 1097.39 Q2089.71 1098.53 2091.94 1099.08 Q2094.16 1099.64 2096.64 1099.64 Q2100.64 1099.64 2102.98 1097.53 Q2105.32 1095.43 2105.32 1091.82 Q2105.32 1088.2 2102.98 1086.1 Q2100.64 1083.99 2096.64 1083.99 Q2094.76 1083.99 2092.89 1084.41 Q2091.03 1084.82 2089.09 1085.7 L2089.09 1068.34 Z\" fill=\"#000000\" fill-rule=\"nonzero\" fill-opacity=\"1\" /><path clip-path=\"url(#clip070)\" d=\"M1138.9 1138.2 L1138.9 1148.32 L1150.96 1148.32 L1150.96 1152.87 L1138.9 1152.87 L1138.9 1172.22 Q1138.9 1176.58 1140.08 1177.82 Q1141.29 1179.07 1144.95 1179.07 L1150.96 1179.07 L1150.96 1183.97 L1144.95 1183.97 Q1138.17 1183.97 1135.59 1181.45 Q1133.01 1178.91 1133.01 1172.22 L1133.01 1152.87 L1128.72 1152.87 L1128.72 1148.32 L1133.01 1148.32 L1133.01 1138.2 L1138.9 1138.2 Z\" fill=\"#000000\" fill-rule=\"nonzero\" fill-opacity=\"1\" /><path clip-path=\"url(#clip070)\" d=\"M1158.67 1148.32 L1164.52 1148.32 L1164.52 1183.97 L1158.67 1183.97 L1158.67 1148.32 M1158.67 1134.44 L1164.52 1134.44 L1164.52 1141.86 L1158.67 1141.86 L1158.67 1134.44 Z\" fill=\"#000000\" fill-rule=\"nonzero\" fill-opacity=\"1\" /><path clip-path=\"url(#clip070)\" d=\"M1204.53 1155.16 Q1206.73 1151.22 1209.78 1149.34 Q1212.84 1147.46 1216.98 1147.46 Q1222.55 1147.46 1225.57 1151.38 Q1228.59 1155.26 1228.59 1162.45 L1228.59 1183.97 L1222.71 1183.97 L1222.71 1162.64 Q1222.71 1157.52 1220.89 1155.04 Q1219.08 1152.55 1215.35 1152.55 Q1210.8 1152.55 1208.16 1155.58 Q1205.52 1158.6 1205.52 1163.82 L1205.52 1183.97 L1199.63 1183.97 L1199.63 1162.64 Q1199.63 1157.49 1197.82 1155.04 Q1196 1152.55 1192.21 1152.55 Q1187.73 1152.55 1185.08 1155.61 Q1182.44 1158.63 1182.44 1163.82 L1182.44 1183.97 L1176.55 1183.97 L1176.55 1148.32 L1182.44 1148.32 L1182.44 1153.86 Q1184.45 1150.58 1187.25 1149.02 Q1190.05 1147.46 1193.9 1147.46 Q1197.78 1147.46 1200.49 1149.43 Q1203.23 1151.41 1204.53 1155.16 Z\" fill=\"#000000\" fill-rule=\"nonzero\" fill-opacity=\"1\" /><path clip-path=\"url(#clip070)\" d=\"M1270.77 1164.68 L1270.77 1167.54 L1243.84 1167.54 Q1244.22 1173.59 1247.47 1176.77 Q1250.75 1179.93 1256.57 1179.93 Q1259.94 1179.93 1263.1 1179.1 Q1266.28 1178.27 1269.4 1176.62 L1269.4 1182.15 Q1266.25 1183.49 1262.94 1184.19 Q1259.63 1184.89 1256.22 1184.89 Q1247.69 1184.89 1242.69 1179.93 Q1237.73 1174.96 1237.73 1166.49 Q1237.73 1157.74 1242.44 1152.62 Q1247.18 1147.46 1255.2 1147.46 Q1262.4 1147.46 1266.56 1152.11 Q1270.77 1156.72 1270.77 1164.68 M1264.91 1162.96 Q1264.85 1158.15 1262.2 1155.29 Q1259.59 1152.43 1255.27 1152.43 Q1250.36 1152.43 1247.4 1155.19 Q1244.48 1157.96 1244.03 1162.99 L1264.91 1162.96 Z\" fill=\"#000000\" fill-rule=\"nonzero\" fill-opacity=\"1\" /><polyline clip-path=\"url(#clip072)\" style=\"stroke:#000000; stroke-linecap:round; stroke-linejoin:round; stroke-width:2; stroke-opacity:0.1; fill:none\" points=\"246.726,911.203 2152.76,911.203 \"/>\n<polyline clip-path=\"url(#clip072)\" style=\"stroke:#000000; stroke-linecap:round; stroke-linejoin:round; stroke-width:2; stroke-opacity:0.1; fill:none\" points=\"246.726,730.89 2152.76,730.89 \"/>\n<polyline clip-path=\"url(#clip072)\" style=\"stroke:#000000; stroke-linecap:round; stroke-linejoin:round; stroke-width:2; stroke-opacity:0.1; fill:none\" points=\"246.726,550.576 2152.76,550.576 \"/>\n<polyline clip-path=\"url(#clip072)\" style=\"stroke:#000000; stroke-linecap:round; stroke-linejoin:round; stroke-width:2; stroke-opacity:0.1; fill:none\" points=\"246.726,370.263 2152.76,370.263 \"/>\n<polyline clip-path=\"url(#clip072)\" style=\"stroke:#000000; stroke-linecap:round; stroke-linejoin:round; stroke-width:2; stroke-opacity:0.1; fill:none\" points=\"246.726,189.949 2152.76,189.949 \"/>\n<polyline clip-path=\"url(#clip070)\" style=\"stroke:#000000; stroke-linecap:round; stroke-linejoin:round; stroke-width:4; stroke-opacity:1; fill:none\" points=\"246.726,1042.1 246.726,47.2441 \"/>\n<polyline clip-path=\"url(#clip070)\" style=\"stroke:#000000; stroke-linecap:round; stroke-linejoin:round; stroke-width:4; stroke-opacity:1; fill:none\" points=\"246.726,911.203 265.624,911.203 \"/>\n<polyline clip-path=\"url(#clip070)\" style=\"stroke:#000000; stroke-linecap:round; stroke-linejoin:round; stroke-width:4; stroke-opacity:1; fill:none\" points=\"246.726,730.89 265.624,730.89 \"/>\n<polyline clip-path=\"url(#clip070)\" style=\"stroke:#000000; stroke-linecap:round; stroke-linejoin:round; stroke-width:4; stroke-opacity:1; fill:none\" points=\"246.726,550.576 265.624,550.576 \"/>\n<polyline clip-path=\"url(#clip070)\" style=\"stroke:#000000; stroke-linecap:round; stroke-linejoin:round; stroke-width:4; stroke-opacity:1; fill:none\" points=\"246.726,370.263 265.624,370.263 \"/>\n<polyline clip-path=\"url(#clip070)\" style=\"stroke:#000000; stroke-linecap:round; stroke-linejoin:round; stroke-width:4; stroke-opacity:1; fill:none\" points=\"246.726,189.949 265.624,189.949 \"/>\n<path clip-path=\"url(#clip070)\" d=\"M106.62 911.655 L136.296 911.655 L136.296 915.59 L106.62 915.59 L106.62 911.655 Z\" fill=\"#000000\" fill-rule=\"nonzero\" fill-opacity=\"1\" /><path clip-path=\"url(#clip070)\" d=\"M156.388 897.002 Q152.777 897.002 150.949 900.567 Q149.143 904.108 149.143 911.238 Q149.143 918.345 150.949 921.909 Q152.777 925.451 156.388 925.451 Q160.023 925.451 161.828 921.909 Q163.657 918.345 163.657 911.238 Q163.657 904.108 161.828 900.567 Q160.023 897.002 156.388 897.002 M156.388 893.298 Q162.199 893.298 165.254 897.905 Q168.333 902.488 168.333 911.238 Q168.333 919.965 165.254 924.571 Q162.199 929.155 156.388 929.155 Q150.578 929.155 147.5 924.571 Q144.444 919.965 144.444 911.238 Q144.444 902.488 147.5 897.905 Q150.578 893.298 156.388 893.298 Z\" fill=\"#000000\" fill-rule=\"nonzero\" fill-opacity=\"1\" /><path clip-path=\"url(#clip070)\" d=\"M176.55 922.604 L181.435 922.604 L181.435 928.483 L176.55 928.483 L176.55 922.604 Z\" fill=\"#000000\" fill-rule=\"nonzero\" fill-opacity=\"1\" /><path clip-path=\"url(#clip070)\" d=\"M202.198 909.34 Q199.05 909.34 197.198 911.493 Q195.37 913.645 195.37 917.395 Q195.37 921.122 197.198 923.298 Q199.05 925.451 202.198 925.451 Q205.346 925.451 207.175 923.298 Q209.027 921.122 209.027 917.395 Q209.027 913.645 207.175 911.493 Q205.346 909.34 202.198 909.34 M211.481 894.687 L211.481 898.946 Q209.721 898.113 207.916 897.673 Q206.134 897.234 204.374 897.234 Q199.745 897.234 197.291 900.359 Q194.86 903.483 194.513 909.803 Q195.879 907.789 197.939 906.724 Q199.999 905.636 202.476 905.636 Q207.684 905.636 210.694 908.808 Q213.726 911.956 213.726 917.395 Q213.726 922.719 210.578 925.937 Q207.43 929.155 202.198 929.155 Q196.203 929.155 193.032 924.571 Q189.86 919.965 189.86 911.238 Q189.86 903.044 193.749 898.183 Q197.638 893.298 204.189 893.298 Q205.948 893.298 207.731 893.646 Q209.536 893.993 211.481 894.687 Z\" fill=\"#000000\" fill-rule=\"nonzero\" fill-opacity=\"1\" /><path clip-path=\"url(#clip070)\" d=\"M107.43 731.341 L137.106 731.341 L137.106 735.276 L107.43 735.276 L107.43 731.341 Z\" fill=\"#000000\" fill-rule=\"nonzero\" fill-opacity=\"1\" /><path clip-path=\"url(#clip070)\" d=\"M157.199 716.688 Q153.587 716.688 151.759 720.253 Q149.953 723.795 149.953 730.924 Q149.953 738.031 151.759 741.596 Q153.587 745.137 157.199 745.137 Q160.833 745.137 162.638 741.596 Q164.467 738.031 164.467 730.924 Q164.467 723.795 162.638 720.253 Q160.833 716.688 157.199 716.688 M157.199 712.985 Q163.009 712.985 166.064 717.591 Q169.143 722.175 169.143 730.924 Q169.143 739.651 166.064 744.258 Q163.009 748.841 157.199 748.841 Q151.388 748.841 148.31 744.258 Q145.254 739.651 145.254 730.924 Q145.254 722.175 148.31 717.591 Q151.388 712.985 157.199 712.985 Z\" fill=\"#000000\" fill-rule=\"nonzero\" fill-opacity=\"1\" /><path clip-path=\"url(#clip070)\" d=\"M177.361 742.29 L182.245 742.29 L182.245 748.17 L177.361 748.17 L177.361 742.29 Z\" fill=\"#000000\" fill-rule=\"nonzero\" fill-opacity=\"1\" /><path clip-path=\"url(#clip070)\" d=\"M206.596 729.536 Q209.953 730.253 211.828 732.522 Q213.726 734.79 213.726 738.124 Q213.726 743.239 210.208 746.04 Q206.689 748.841 200.208 748.841 Q198.032 748.841 195.717 748.401 Q193.425 747.985 190.972 747.128 L190.972 742.614 Q192.916 743.748 195.231 744.327 Q197.546 744.906 200.069 744.906 Q204.467 744.906 206.759 743.17 Q209.073 741.434 209.073 738.124 Q209.073 735.068 206.921 733.355 Q204.791 731.619 200.972 731.619 L196.944 731.619 L196.944 727.776 L201.157 727.776 Q204.606 727.776 206.434 726.411 Q208.263 725.022 208.263 722.429 Q208.263 719.767 206.365 718.355 Q204.49 716.92 200.972 716.92 Q199.05 716.92 196.851 717.337 Q194.652 717.753 192.013 718.633 L192.013 714.466 Q194.675 713.726 196.99 713.355 Q199.328 712.985 201.388 712.985 Q206.712 712.985 209.814 715.415 Q212.916 717.823 212.916 721.943 Q212.916 724.813 211.272 726.804 Q209.629 728.772 206.596 729.536 Z\" fill=\"#000000\" fill-rule=\"nonzero\" fill-opacity=\"1\" /><path clip-path=\"url(#clip070)\" d=\"M156.55 536.375 Q152.939 536.375 151.111 539.94 Q149.305 543.481 149.305 550.611 Q149.305 557.717 151.111 561.282 Q152.939 564.824 156.55 564.824 Q160.185 564.824 161.99 561.282 Q163.819 557.717 163.819 550.611 Q163.819 543.481 161.99 539.94 Q160.185 536.375 156.55 536.375 M156.55 532.671 Q162.361 532.671 165.416 537.278 Q168.495 541.861 168.495 550.611 Q168.495 559.338 165.416 563.944 Q162.361 568.527 156.55 568.527 Q150.74 568.527 147.662 563.944 Q144.606 559.338 144.606 550.611 Q144.606 541.861 147.662 537.278 Q150.74 532.671 156.55 532.671 Z\" fill=\"#000000\" fill-rule=\"nonzero\" fill-opacity=\"1\" /><path clip-path=\"url(#clip070)\" d=\"M176.712 561.977 L181.597 561.977 L181.597 567.856 L176.712 567.856 L176.712 561.977 Z\" fill=\"#000000\" fill-rule=\"nonzero\" fill-opacity=\"1\" /><path clip-path=\"url(#clip070)\" d=\"M201.782 536.375 Q198.171 536.375 196.342 539.94 Q194.536 543.481 194.536 550.611 Q194.536 557.717 196.342 561.282 Q198.171 564.824 201.782 564.824 Q205.416 564.824 207.221 561.282 Q209.05 557.717 209.05 550.611 Q209.05 543.481 207.221 539.94 Q205.416 536.375 201.782 536.375 M201.782 532.671 Q207.592 532.671 210.647 537.278 Q213.726 541.861 213.726 550.611 Q213.726 559.338 210.647 563.944 Q207.592 568.527 201.782 568.527 Q195.972 568.527 192.893 563.944 Q189.837 559.338 189.837 550.611 Q189.837 541.861 192.893 537.278 Q195.972 532.671 201.782 532.671 Z\" fill=\"#000000\" fill-rule=\"nonzero\" fill-opacity=\"1\" /><path clip-path=\"url(#clip070)\" d=\"M157.199 356.061 Q153.587 356.061 151.759 359.626 Q149.953 363.168 149.953 370.297 Q149.953 377.404 151.759 380.969 Q153.587 384.51 157.199 384.51 Q160.833 384.51 162.638 380.969 Q164.467 377.404 164.467 370.297 Q164.467 363.168 162.638 359.626 Q160.833 356.061 157.199 356.061 M157.199 352.358 Q163.009 352.358 166.064 356.964 Q169.143 361.547 169.143 370.297 Q169.143 379.024 166.064 383.631 Q163.009 388.214 157.199 388.214 Q151.388 388.214 148.31 383.631 Q145.254 379.024 145.254 370.297 Q145.254 361.547 148.31 356.964 Q151.388 352.358 157.199 352.358 Z\" fill=\"#000000\" fill-rule=\"nonzero\" fill-opacity=\"1\" /><path clip-path=\"url(#clip070)\" d=\"M177.361 381.663 L182.245 381.663 L182.245 387.543 L177.361 387.543 L177.361 381.663 Z\" fill=\"#000000\" fill-rule=\"nonzero\" fill-opacity=\"1\" /><path clip-path=\"url(#clip070)\" d=\"M206.596 368.908 Q209.953 369.626 211.828 371.895 Q213.726 374.163 213.726 377.496 Q213.726 382.612 210.208 385.413 Q206.689 388.214 200.208 388.214 Q198.032 388.214 195.717 387.774 Q193.425 387.357 190.972 386.501 L190.972 381.987 Q192.916 383.121 195.231 383.7 Q197.546 384.279 200.069 384.279 Q204.467 384.279 206.759 382.543 Q209.073 380.807 209.073 377.496 Q209.073 374.441 206.921 372.728 Q204.791 370.992 200.972 370.992 L196.944 370.992 L196.944 367.149 L201.157 367.149 Q204.606 367.149 206.434 365.783 Q208.263 364.395 208.263 361.802 Q208.263 359.14 206.365 357.728 Q204.49 356.293 200.972 356.293 Q199.05 356.293 196.851 356.709 Q194.652 357.126 192.013 358.006 L192.013 353.839 Q194.675 353.098 196.99 352.728 Q199.328 352.358 201.388 352.358 Q206.712 352.358 209.814 354.788 Q212.916 357.196 212.916 361.316 Q212.916 364.186 211.272 366.177 Q209.629 368.145 206.596 368.908 Z\" fill=\"#000000\" fill-rule=\"nonzero\" fill-opacity=\"1\" /><path clip-path=\"url(#clip070)\" d=\"M156.388 175.748 Q152.777 175.748 150.949 179.313 Q149.143 182.854 149.143 189.984 Q149.143 197.09 150.949 200.655 Q152.777 204.197 156.388 204.197 Q160.023 204.197 161.828 200.655 Q163.657 197.09 163.657 189.984 Q163.657 182.854 161.828 179.313 Q160.023 175.748 156.388 175.748 M156.388 172.044 Q162.199 172.044 165.254 176.65 Q168.333 181.234 168.333 189.984 Q168.333 198.711 165.254 203.317 Q162.199 207.9 156.388 207.9 Q150.578 207.9 147.5 203.317 Q144.444 198.711 144.444 189.984 Q144.444 181.234 147.5 176.65 Q150.578 172.044 156.388 172.044 Z\" fill=\"#000000\" fill-rule=\"nonzero\" fill-opacity=\"1\" /><path clip-path=\"url(#clip070)\" d=\"M176.55 201.349 L181.435 201.349 L181.435 207.229 L176.55 207.229 L176.55 201.349 Z\" fill=\"#000000\" fill-rule=\"nonzero\" fill-opacity=\"1\" /><path clip-path=\"url(#clip070)\" d=\"M202.198 188.086 Q199.05 188.086 197.198 190.238 Q195.37 192.391 195.37 196.141 Q195.37 199.868 197.198 202.044 Q199.05 204.197 202.198 204.197 Q205.346 204.197 207.175 202.044 Q209.027 199.868 209.027 196.141 Q209.027 192.391 207.175 190.238 Q205.346 188.086 202.198 188.086 M211.481 173.433 L211.481 177.692 Q209.721 176.859 207.916 176.419 Q206.134 175.979 204.374 175.979 Q199.745 175.979 197.291 179.104 Q194.86 182.229 194.513 188.549 Q195.879 186.535 197.939 185.47 Q199.999 184.382 202.476 184.382 Q207.684 184.382 210.694 187.553 Q213.726 190.701 213.726 196.141 Q213.726 201.465 210.578 204.683 Q207.43 207.9 202.198 207.9 Q196.203 207.9 193.032 203.317 Q189.86 198.711 189.86 189.984 Q189.86 181.789 193.749 176.928 Q197.638 172.044 204.189 172.044 Q205.948 172.044 207.731 172.391 Q209.536 172.738 211.481 173.433 Z\" fill=\"#000000\" fill-rule=\"nonzero\" fill-opacity=\"1\" /><path clip-path=\"url(#clip070)\" d=\"M13.4038 917.895 L19.674 917.895 Q17.9234 921.555 17.064 924.802 Q16.2047 928.048 16.2047 931.072 Q16.2047 936.324 18.2417 939.188 Q20.2787 942.021 24.0345 942.021 Q27.1855 942.021 28.8088 940.143 Q30.4002 938.234 31.3869 932.95 L32.1826 929.067 Q33.5512 921.874 37.0205 918.468 Q40.458 915.031 46.2508 915.031 Q53.1576 915.031 56.7224 919.678 Q60.2872 924.293 60.2872 933.237 Q60.2872 936.61 59.5233 940.43 Q58.7594 944.217 57.2635 948.291 L50.6431 948.291 Q52.8393 944.377 53.9533 940.621 Q55.0673 936.865 55.0673 933.237 Q55.0673 927.73 52.903 924.738 Q50.7386 921.746 46.7282 921.746 Q43.2271 921.746 41.2537 923.911 Q39.2804 926.043 38.2937 930.945 L37.5298 934.86 Q36.0975 942.053 33.042 945.268 Q29.9864 948.482 24.5437 948.482 Q18.2417 948.482 14.6132 944.058 Q10.9848 939.602 10.9848 931.804 Q10.9848 928.462 11.5895 924.993 Q12.1943 921.524 13.4038 917.895 Z\" fill=\"#000000\" fill-rule=\"nonzero\" fill-opacity=\"1\" /><path clip-path=\"url(#clip070)\" d=\"M23.7162 905.259 L23.7162 899.403 L59.3642 899.403 L59.3642 905.259 L23.7162 905.259 M9.83896 905.259 L9.83896 899.403 L17.255 899.403 L17.255 905.259 L9.83896 905.259 Z\" fill=\"#000000\" fill-rule=\"nonzero\" fill-opacity=\"1\" /><path clip-path=\"url(#clip070)\" d=\"M41.1264 863.691 Q34.7607 863.691 31.2596 866.333 Q27.7584 868.943 27.7584 873.685 Q27.7584 878.396 31.2596 881.038 Q34.7607 883.648 41.1264 883.648 Q47.4603 883.648 50.9614 881.038 Q54.4626 878.396 54.4626 873.685 Q54.4626 868.943 50.9614 866.333 Q47.4603 863.691 41.1264 863.691 M54.94 857.835 Q64.043 857.835 68.4671 861.877 Q72.9231 865.919 72.9231 874.258 Q72.9231 877.346 72.4457 880.083 Q72.0001 882.82 71.0452 885.398 L65.3479 885.398 Q66.7484 882.82 67.4168 880.306 Q68.0852 877.791 68.0852 875.181 Q68.0852 869.42 65.0615 866.556 Q62.0696 863.691 55.9903 863.691 L53.0939 863.691 Q56.245 865.505 57.8046 868.338 Q59.3642 871.171 59.3642 875.118 Q59.3642 881.674 54.3671 885.685 Q49.37 889.695 41.1264 889.695 Q32.851 889.695 27.8539 885.685 Q22.8568 881.674 22.8568 875.118 Q22.8568 871.171 24.4164 868.338 Q25.976 865.505 29.1271 863.691 L23.7162 863.691 L23.7162 857.835 L54.94 857.835 Z\" fill=\"#000000\" fill-rule=\"nonzero\" fill-opacity=\"1\" /><path clip-path=\"url(#clip070)\" d=\"M30.5593 818.017 Q26.6126 815.821 24.7347 812.766 Q22.8568 809.71 22.8568 805.572 Q22.8568 800.002 26.7717 796.979 Q30.6548 793.955 37.8481 793.955 L59.3642 793.955 L59.3642 799.843 L38.039 799.843 Q32.9146 799.843 30.432 801.657 Q27.9494 803.472 27.9494 807.196 Q27.9494 811.747 30.9731 814.389 Q33.9968 817.031 39.2167 817.031 L59.3642 817.031 L59.3642 822.919 L38.039 822.919 Q32.8828 822.919 30.432 824.733 Q27.9494 826.547 27.9494 830.335 Q27.9494 834.823 31.0049 837.464 Q34.0286 840.106 39.2167 840.106 L59.3642 840.106 L59.3642 845.995 L23.7162 845.995 L23.7162 840.106 L29.2544 840.106 Q25.976 838.101 24.4164 835.3 Q22.8568 832.499 22.8568 828.648 Q22.8568 824.765 24.8302 822.059 Q26.8036 819.322 30.5593 818.017 Z\" fill=\"#000000\" fill-rule=\"nonzero\" fill-opacity=\"1\" /><path clip-path=\"url(#clip070)\" d=\"M41.4447 766.073 Q41.4447 773.171 43.0679 775.908 Q44.6912 778.645 48.6061 778.645 Q51.7253 778.645 53.5714 776.608 Q55.3856 774.539 55.3856 771.006 Q55.3856 766.137 51.9481 763.208 Q48.4788 760.248 42.7497 760.248 L41.4447 760.248 L41.4447 766.073 M39.0257 754.392 L59.3642 754.392 L59.3642 760.248 L53.9533 760.248 Q57.1998 762.254 58.7594 765.246 Q60.2872 768.237 60.2872 772.566 Q60.2872 778.041 57.2316 781.287 Q54.1443 784.502 48.9881 784.502 Q42.9725 784.502 39.9169 780.491 Q36.8614 776.449 36.8614 768.46 L36.8614 760.248 L36.2885 760.248 Q32.2462 760.248 30.0501 762.922 Q27.8221 765.564 27.8221 770.37 Q27.8221 773.425 28.5541 776.322 Q29.2862 779.218 30.7503 781.892 L25.3395 781.892 Q24.0981 778.677 23.4934 775.653 Q22.8568 772.63 22.8568 769.765 Q22.8568 762.031 26.8672 758.211 Q30.8776 754.392 39.0257 754.392 Z\" fill=\"#000000\" fill-rule=\"nonzero\" fill-opacity=\"1\" /><path clip-path=\"url(#clip070)\" d=\"M11.8442 723.646 L11.8442 716.739 L29.509 704.93 L11.8442 693.058 L11.8442 686.152 L34.6652 701.429 L59.3642 685.133 L59.3642 692.04 L39.153 705.408 L59.3642 718.871 L59.3642 725.81 L33.9968 708.845 L11.8442 723.646 Z\" fill=\"#000000\" fill-rule=\"nonzero\" fill-opacity=\"1\" /><path clip-path=\"url(#clip070)\" d=\"M54.017 650.567 L72.9231 650.567 L72.9231 656.456 L23.7162 656.456 L23.7162 650.567 L29.1271 650.567 Q25.9442 648.721 24.4164 645.92 Q22.8568 643.088 22.8568 639.173 Q22.8568 632.68 28.0131 628.637 Q33.1693 624.563 41.572 624.563 Q49.9747 624.563 55.131 628.637 Q60.2872 632.68 60.2872 639.173 Q60.2872 643.088 58.7594 645.92 Q57.1998 648.721 54.017 650.567 M41.572 630.643 Q35.1108 630.643 31.4505 633.316 Q27.7584 635.958 27.7584 640.605 Q27.7584 645.252 31.4505 647.926 Q35.1108 650.567 41.572 650.567 Q48.0332 650.567 51.7253 647.926 Q55.3856 645.252 55.3856 640.605 Q55.3856 635.958 51.7253 633.316 Q48.0332 630.643 41.572 630.643 Z\" fill=\"#000000\" fill-rule=\"nonzero\" fill-opacity=\"1\" /><path clip-path=\"url(#clip070)\" d=\"M45.2959 615.46 L23.7162 615.46 L23.7162 609.604 L45.0731 609.604 Q50.1339 609.604 52.6802 607.631 Q55.1946 605.657 55.1946 601.711 Q55.1946 596.968 52.1709 594.231 Q49.1472 591.462 43.9273 591.462 L23.7162 591.462 L23.7162 585.605 L59.3642 585.605 L59.3642 591.462 L53.8896 591.462 Q57.1362 593.594 58.7276 596.427 Q60.2872 599.228 60.2872 602.952 Q60.2872 609.095 56.4678 612.278 Q52.6483 615.46 45.2959 615.46 M22.8568 600.724 L22.8568 600.724 Z\" fill=\"#000000\" fill-rule=\"nonzero\" fill-opacity=\"1\" /><path clip-path=\"url(#clip070)\" d=\"M9.83896 573.542 L9.83896 567.686 L59.3642 567.686 L59.3642 573.542 L9.83896 573.542 Z\" fill=\"#000000\" fill-rule=\"nonzero\" fill-opacity=\"1\" /><path clip-path=\"url(#clip070)\" d=\"M24.7665 532.706 L30.3047 532.706 Q29.0316 535.189 28.395 537.862 Q27.7584 540.536 27.7584 543.401 Q27.7584 547.761 29.0952 549.957 Q30.432 552.122 33.1056 552.122 Q35.1426 552.122 36.3203 550.562 Q37.4661 549.002 38.5165 544.292 L38.9621 542.287 Q40.2989 536.048 42.7497 533.438 Q45.1686 530.797 49.5291 530.797 Q54.4944 530.797 57.3908 534.743 Q60.2872 538.658 60.2872 545.533 Q60.2872 548.398 59.7143 551.517 Q59.1732 554.604 58.0592 558.042 L52.0118 558.042 Q53.6987 554.795 54.558 551.644 Q55.3856 548.493 55.3856 545.406 Q55.3856 541.268 53.9851 539.04 Q52.5529 536.812 49.9747 536.812 Q47.5876 536.812 46.3145 538.435 Q45.0413 540.027 43.8637 545.47 L43.3862 547.507 Q42.2404 552.949 39.8851 555.368 Q37.498 557.787 33.3602 557.787 Q28.3313 557.787 25.5941 554.222 Q22.8568 550.658 22.8568 544.101 Q22.8568 540.854 23.3343 537.99 Q23.8117 535.125 24.7665 532.706 Z\" fill=\"#000000\" fill-rule=\"nonzero\" fill-opacity=\"1\" /><path clip-path=\"url(#clip070)\" d=\"M40.0761 490.979 L42.9406 490.979 L42.9406 517.906 Q48.9881 517.524 52.1709 514.278 Q55.3219 510.999 55.3219 505.175 Q55.3219 501.801 54.4944 498.65 Q53.6669 495.467 52.0118 492.348 L57.5499 492.348 Q58.8867 495.499 59.587 498.809 Q60.2872 502.119 60.2872 505.525 Q60.2872 514.055 55.3219 519.052 Q50.3567 524.017 41.8903 524.017 Q33.1374 524.017 28.0131 519.306 Q22.8568 514.564 22.8568 506.543 Q22.8568 499.35 27.5038 495.18 Q32.1189 490.979 40.0761 490.979 M38.3573 496.836 Q33.5512 496.899 30.6866 499.541 Q27.8221 502.151 27.8221 506.48 Q27.8221 511.381 30.5912 514.341 Q33.3602 517.269 38.3892 517.715 L38.3573 496.836 Z\" fill=\"#000000\" fill-rule=\"nonzero\" fill-opacity=\"1\" /><path clip-path=\"url(#clip070)\" d=\"M41.4447 444.446 Q41.4447 451.543 43.0679 454.281 Q44.6912 457.018 48.6061 457.018 Q51.7253 457.018 53.5714 454.981 Q55.3856 452.912 55.3856 449.379 Q55.3856 444.509 51.9481 441.581 Q48.4788 438.621 42.7497 438.621 L41.4447 438.621 L41.4447 444.446 M39.0257 432.765 L59.3642 432.765 L59.3642 438.621 L53.9533 438.621 Q57.1998 440.626 58.7594 443.618 Q60.2872 446.61 60.2872 450.939 Q60.2872 456.413 57.2316 459.66 Q54.1443 462.874 48.9881 462.874 Q42.9725 462.874 39.9169 458.864 Q36.8614 454.822 36.8614 446.833 L36.8614 438.621 L36.2885 438.621 Q32.2462 438.621 30.0501 441.295 Q27.8221 443.936 27.8221 448.743 Q27.8221 451.798 28.5541 454.695 Q29.2862 457.591 30.7503 460.265 L25.3395 460.265 Q24.0981 457.05 23.4934 454.026 Q22.8568 451.002 22.8568 448.138 Q22.8568 440.404 26.8672 436.584 Q30.8776 432.765 39.0257 432.765 Z\" fill=\"#000000\" fill-rule=\"nonzero\" fill-opacity=\"1\" /><path clip-path=\"url(#clip070)\" d=\"M30.5593 392.947 Q26.6126 390.751 24.7347 387.695 Q22.8568 384.64 22.8568 380.502 Q22.8568 374.932 26.7717 371.909 Q30.6548 368.885 37.8481 368.885 L59.3642 368.885 L59.3642 374.773 L38.039 374.773 Q32.9146 374.773 30.432 376.587 Q27.9494 378.402 27.9494 382.125 Q27.9494 386.677 30.9731 389.319 Q33.9968 391.96 39.2167 391.96 L59.3642 391.96 L59.3642 397.849 L38.039 397.849 Q32.8828 397.849 30.432 399.663 Q27.9494 401.477 27.9494 405.265 Q27.9494 409.753 31.0049 412.394 Q34.0286 415.036 39.2167 415.036 L59.3642 415.036 L59.3642 420.924 L23.7162 420.924 L23.7162 415.036 L29.2544 415.036 Q25.976 413.031 24.4164 410.23 Q22.8568 407.429 22.8568 403.578 Q22.8568 399.695 24.8302 396.989 Q26.8036 394.252 30.5593 392.947 Z\" fill=\"#000000\" fill-rule=\"nonzero\" fill-opacity=\"1\" /><path clip-path=\"url(#clip070)\" d=\"M54.017 351.538 L72.9231 351.538 L72.9231 357.427 L23.7162 357.427 L23.7162 351.538 L29.1271 351.538 Q25.9442 349.692 24.4164 346.891 Q22.8568 344.059 22.8568 340.144 Q22.8568 333.651 28.0131 329.608 Q33.1693 325.534 41.572 325.534 Q49.9747 325.534 55.131 329.608 Q60.2872 333.651 60.2872 340.144 Q60.2872 344.059 58.7594 346.891 Q57.1998 349.692 54.017 351.538 M41.572 331.614 Q35.1108 331.614 31.4505 334.287 Q27.7584 336.929 27.7584 341.576 Q27.7584 346.223 31.4505 348.896 Q35.1108 351.538 41.572 351.538 Q48.0332 351.538 51.7253 348.896 Q55.3856 346.223 55.3856 341.576 Q55.3856 336.929 51.7253 334.287 Q48.0332 331.614 41.572 331.614 Z\" fill=\"#000000\" fill-rule=\"nonzero\" fill-opacity=\"1\" /><path clip-path=\"url(#clip070)\" d=\"M9.83896 315.827 L9.83896 309.97 L59.3642 309.97 L59.3642 315.827 L9.83896 315.827 Z\" fill=\"#000000\" fill-rule=\"nonzero\" fill-opacity=\"1\" /><path clip-path=\"url(#clip070)\" d=\"M23.7162 297.716 L23.7162 291.86 L59.3642 291.86 L59.3642 297.716 L23.7162 297.716 M9.83896 297.716 L9.83896 291.86 L17.255 291.86 L17.255 297.716 L9.83896 297.716 Z\" fill=\"#000000\" fill-rule=\"nonzero\" fill-opacity=\"1\" /><path clip-path=\"url(#clip070)\" d=\"M13.5947 273.813 L23.7162 273.813 L23.7162 261.75 L28.2677 261.75 L28.2677 273.813 L47.6194 273.813 Q51.9799 273.813 53.2213 272.635 Q54.4626 271.426 54.4626 267.766 L54.4626 261.75 L59.3642 261.75 L59.3642 267.766 Q59.3642 274.545 56.8497 277.123 Q54.3034 279.701 47.6194 279.701 L28.2677 279.701 L28.2677 283.998 L23.7162 283.998 L23.7162 279.701 L13.5947 279.701 L13.5947 273.813 Z\" fill=\"#000000\" fill-rule=\"nonzero\" fill-opacity=\"1\" /><path clip-path=\"url(#clip070)\" d=\"M45.2959 254.652 L23.7162 254.652 L23.7162 248.796 L45.0731 248.796 Q50.1339 248.796 52.6802 246.822 Q55.1946 244.849 55.1946 240.902 Q55.1946 236.16 52.1709 233.423 Q49.1472 230.653 43.9273 230.653 L23.7162 230.653 L23.7162 224.797 L59.3642 224.797 L59.3642 230.653 L53.8896 230.653 Q57.1362 232.786 58.7276 235.619 Q60.2872 238.42 60.2872 242.144 Q60.2872 248.286 56.4678 251.469 Q52.6483 254.652 45.2959 254.652 M22.8568 239.916 L22.8568 239.916 Z\" fill=\"#000000\" fill-rule=\"nonzero\" fill-opacity=\"1\" /><path clip-path=\"url(#clip070)\" d=\"M29.1271 189.276 L9.83896 189.276 L9.83896 183.42 L59.3642 183.42 L59.3642 189.276 L54.017 189.276 Q57.1998 191.122 58.7594 193.955 Q60.2872 196.756 60.2872 200.703 Q60.2872 207.164 55.131 211.238 Q49.9747 215.28 41.572 215.28 Q33.1693 215.28 28.0131 211.238 Q22.8568 207.164 22.8568 200.703 Q22.8568 196.756 24.4164 193.955 Q25.9442 191.122 29.1271 189.276 M41.572 209.233 Q48.0332 209.233 51.7253 206.591 Q55.3856 203.918 55.3856 199.271 Q55.3856 194.624 51.7253 191.95 Q48.0332 189.276 41.572 189.276 Q35.1108 189.276 31.4505 191.95 Q27.7584 194.624 27.7584 199.271 Q27.7584 203.918 31.4505 206.591 Q35.1108 209.233 41.572 209.233 Z\" fill=\"#000000\" fill-rule=\"nonzero\" fill-opacity=\"1\" /><path clip-path=\"url(#clip070)\" d=\"M40.0761 140.865 L42.9406 140.865 L42.9406 167.792 Q48.9881 167.41 52.1709 164.164 Q55.3219 160.885 55.3219 155.061 Q55.3219 151.687 54.4944 148.536 Q53.6669 145.353 52.0118 142.234 L57.5499 142.234 Q58.8867 145.385 59.587 148.695 Q60.2872 152.005 60.2872 155.411 Q60.2872 163.941 55.3219 168.938 Q50.3567 173.903 41.8903 173.903 Q33.1374 173.903 28.0131 169.193 Q22.8568 164.45 22.8568 156.429 Q22.8568 149.236 27.5038 145.067 Q32.1189 140.865 40.0761 140.865 M38.3573 146.722 Q33.5512 146.785 30.6866 149.427 Q27.8221 152.037 27.8221 156.366 Q27.8221 161.267 30.5912 164.227 Q33.3602 167.156 38.3892 167.601 L38.3573 146.722 Z\" fill=\"#000000\" fill-rule=\"nonzero\" fill-opacity=\"1\" /><polyline clip-path=\"url(#clip072)\" style=\"stroke:#009af9; stroke-linecap:round; stroke-linejoin:round; stroke-width:12; stroke-opacity:1; fill:none\" points=\"300.67,1013.95 304.274,1012.96 307.877,1010.85 311.481,1008.45 315.084,1005.72 318.688,1002.61 322.291,999.102 325.895,995.138 329.498,990.681 333.102,985.692 336.705,980.139 340.309,974 343.912,967.267 347.516,959.946 351.119,952.059 354.723,943.65 358.326,934.779 361.93,925.525 365.533,915.984 369.137,906.268 372.74,896.501 376.344,886.816 379.947,877.353 383.551,868.251 387.154,859.648 390.758,851.672 394.361,844.441 397.965,838.058 401.568,832.605 405.172,828.143 408.775,824.624 412.378,821.573 415.982,818.535 419.585,815.458 423.189,812.341 426.792,809.186 430.396,805.993 433.999,802.761 437.603,799.493 441.206,796.187 444.81,792.844 448.413,789.465 452.017,786.05 455.62,782.599 459.224,779.113 462.827,775.593 466.431,772.038 470.034,768.45 473.638,764.828 477.241,761.173 480.845,757.485 484.448,753.765 488.052,750.014 491.655,746.231 495.259,742.418 498.862,738.574 502.466,734.701 506.069,730.798 509.673,726.866 513.276,722.906 516.88,718.918 520.483,714.903 524.087,710.861 527.69,706.792 531.294,702.697 534.897,698.577 538.501,694.432 542.104,690.262 545.708,686.069 549.311,681.852 552.915,677.612 556.518,673.35 560.122,669.066 563.725,664.761 567.329,660.434 570.932,656.088 574.536,651.722 578.139,647.337 581.743,642.933 585.346,638.511 588.949,634.071 592.553,629.615 596.156,625.142 599.76,620.652 603.363,616.148 606.967,611.629 610.57,607.095 614.174,602.548 617.777,597.988 621.381,593.415 624.984,588.83 628.588,584.234 632.191,579.627 635.795,575.009 639.398,570.382 643.002,565.745 646.605,561.1 650.209,556.447 653.812,551.786 657.416,547.119 661.019,542.445 664.623,537.765 668.226,533.081 671.83,528.391 675.433,523.698 679.037,519.001 682.64,514.301 686.244,509.599 689.847,504.895 693.451,500.19 697.054,495.485 700.658,490.779 704.261,486.075 707.865,481.371 711.468,476.669 715.072,471.969 718.675,467.273 722.279,462.58 725.882,457.891 729.486,453.206 733.089,448.527 736.693,443.853 740.296,439.186 743.9,434.526 747.503,429.874 751.107,425.229 754.71,420.593 758.313,415.967 761.917,411.35 765.52,406.743 769.124,402.148 772.727,397.564 776.331,392.992 779.934,388.433 783.538,383.887 787.141,379.354 790.745,374.836 794.348,370.333 797.952,365.846 801.555,361.374 805.159,356.919 808.762,352.481 812.366,348.061 815.969,343.659 819.573,339.276 823.176,334.912 826.78,330.568 830.383,326.244 833.987,321.941 837.59,317.66 841.194,313.401 844.797,309.164 848.401,304.951 852.004,300.761 855.608,296.595 859.211,292.454 862.815,288.338 866.418,284.247 870.022,280.183 873.625,276.146 877.229,272.136 880.832,268.153 884.436,264.199 888.039,260.274 891.643,256.378 895.246,252.512 898.85,248.676 902.453,244.87 906.057,241.096 909.66,237.354 913.264,233.644 916.867,229.966 920.471,226.322 924.074,222.711 927.678,219.135 931.281,215.593 934.884,212.086 938.488,208.614 942.091,205.178 945.695,201.779 949.298,198.416 952.902,195.091 956.505,191.803 960.109,188.554 963.712,185.343 967.316,182.171 970.919,179.038 974.523,175.945 978.126,172.892 981.73,169.88 985.333,166.909 988.937,163.979 992.54,161.091 996.144,158.245 999.747,155.442 1003.35,152.681 1006.95,149.964 1010.56,147.291 1014.16,144.661 1017.76,142.076 1021.37,139.535 1024.97,137.04 1028.58,134.59 1032.18,132.186 1035.78,129.827 1039.39,127.515 1042.99,125.25 1046.59,123.032 1050.2,120.861 1053.8,118.737 1057.4,116.662 1061.01,114.634 1064.61,112.655 1068.21,110.725 1071.82,108.843 1075.42,107.011 1079.02,105.229 1082.63,103.496 1086.23,101.813 1089.83,100.18 1093.44,98.5973 1097.04,97.0656 1100.65,95.5846 1104.25,94.1547 1107.85,92.7761 1111.46,91.4489 1115.06,90.1733 1118.66,88.9495 1122.27,87.7777 1125.87,86.6581 1129.47,85.5907 1133.08,84.5757 1136.68,83.6134 1140.28,82.7038 1143.89,81.847 1147.49,81.0431 1151.09,80.2924 1154.7,79.5948 1158.3,78.9505 1161.9,78.3596 1165.51,77.8222 1169.11,77.3382 1172.71,76.9079 1176.32,76.5312 1179.92,76.2083 1183.53,75.9391 1187.13,75.7237 1190.73,75.5621 1194.34,75.4544 1197.94,75.4005 1201.54,75.4005 1205.15,75.4544 1208.75,75.5621 1212.35,75.7237 1215.96,75.9391 1219.56,76.2083 1223.16,76.5312 1226.77,76.9079 1230.37,77.3382 1233.97,77.8222 1237.58,78.3596 1241.18,78.9505 1244.78,79.5948 1248.39,80.2924 1251.99,81.0431 1255.6,81.847 1259.2,82.7038 1262.8,83.6134 1266.41,84.5757 1270.01,85.5907 1273.61,86.6581 1277.22,87.7777 1280.82,88.9495 1284.42,90.1733 1288.03,91.4489 1291.63,92.7761 1295.23,94.1547 1298.84,95.5846 1302.44,97.0656 1306.04,98.5973 1309.65,100.18 1313.25,101.813 1316.85,103.496 1320.46,105.229 1324.06,107.011 1327.66,108.843 1331.27,110.725 1334.87,112.655 1338.48,114.634 1342.08,116.662 1345.68,118.737 1349.29,120.861 1352.89,123.032 1356.49,125.25 1360.1,127.515 1363.7,129.827 1367.3,132.186 1370.91,134.59 1374.51,137.04 1378.11,139.535 1381.72,142.076 1385.32,144.661 1388.92,147.291 1392.53,149.964 1396.13,152.681 1399.73,155.442 1403.34,158.245 1406.94,161.091 1410.55,163.979 1414.15,166.909 1417.75,169.88 1421.36,172.892 1424.96,175.945 1428.56,179.038 1432.17,182.171 1435.77,185.343 1439.37,188.554 1442.98,191.803 1446.58,195.091 1450.18,198.416 1453.79,201.779 1457.39,205.178 1460.99,208.614 1464.6,212.086 1468.2,215.593 1471.8,219.135 1475.41,222.711 1479.01,226.322 1482.61,229.966 1486.22,233.644 1489.82,237.354 1493.43,241.096 1497.03,244.87 1500.63,248.676 1504.24,252.512 1507.84,256.378 1511.44,260.274 1515.05,264.199 1518.65,268.153 1522.25,272.136 1525.86,276.146 1529.46,280.183 1533.06,284.247 1536.67,288.338 1540.27,292.454 1543.87,296.595 1547.48,300.761 1551.08,304.951 1554.68,309.164 1558.29,313.401 1561.89,317.66 1565.5,321.941 1569.1,326.244 1572.7,330.568 1576.31,334.912 1579.91,339.276 1583.51,343.659 1587.12,348.061 1590.72,352.481 1594.32,356.919 1597.93,361.374 1601.53,365.846 1605.13,370.333 1608.74,374.836 1612.34,379.354 1615.94,383.887 1619.55,388.433 1623.15,392.992 1626.75,397.564 1630.36,402.148 1633.96,406.743 1637.56,411.35 1641.17,415.967 1644.77,420.593 1648.38,425.229 1651.98,429.874 1655.58,434.526 1659.19,439.186 1662.79,443.853 1666.39,448.527 1670,453.206 1673.6,457.891 1677.2,462.58 1680.81,467.273 1684.41,471.969 1688.01,476.669 1691.62,481.371 1695.22,486.075 1698.82,490.779 1702.43,495.485 1706.03,500.19 1709.63,504.895 1713.24,509.599 1716.84,514.301 1720.45,519.001 1724.05,523.698 1727.65,528.391 1731.26,533.081 1734.86,537.765 1738.46,542.445 1742.07,547.119 1745.67,551.786 1749.27,556.447 1752.88,561.1 1756.48,565.745 1760.08,570.382 1763.69,575.009 1767.29,579.627 1770.89,584.234 1774.5,588.83 1778.1,593.415 1781.7,597.988 1785.31,602.548 1788.91,607.095 1792.52,611.629 1796.12,616.148 1799.72,620.652 1803.33,625.142 1806.93,629.615 1810.53,634.071 1814.14,638.511 1817.74,642.933 1821.34,647.337 1824.95,651.722 1828.55,656.088 1832.15,660.434 1835.76,664.761 1839.36,669.066 1842.96,673.35 1846.57,677.612 1850.17,681.852 1853.77,686.069 1857.38,690.262 1860.98,694.432 1864.58,698.577 1868.19,702.697 1871.79,706.792 1875.4,710.861 1879,714.903 1882.6,718.918 1886.21,722.906 1889.81,726.866 1893.41,730.798 1897.02,734.701 1900.62,738.574 1904.22,742.418 1907.83,746.231 1911.43,750.014 1915.03,753.765 1918.64,757.485 1922.24,761.173 1925.84,764.828 1929.45,768.45 1933.05,772.038 1936.65,775.593 1940.26,779.113 1943.86,782.599 1947.47,786.05 1951.07,789.465 1954.67,792.844 1958.28,796.187 1961.88,799.493 1965.48,802.761 1969.09,805.993 1972.69,809.186 1976.29,812.341 1979.9,815.458 1983.5,818.535 1987.1,821.573 1990.71,824.624 1994.31,828.143 1997.91,832.605 2001.52,838.058 2005.12,844.441 2008.72,851.672 2012.33,859.648 2015.93,868.251 2019.53,877.353 2023.14,886.816 2026.74,896.501 2030.35,906.268 2033.95,915.984 2037.55,925.525 2041.16,934.779 2044.76,943.65 2048.36,952.059 2051.97,959.946 2055.57,967.267 2059.17,974 2062.78,980.139 2066.38,985.692 2069.98,990.681 2073.59,995.138 2077.19,999.102 2080.79,1002.61 2084.4,1005.72 2088,1008.45 2091.6,1010.85 2095.21,1012.96 2098.81,1013.95 \"/>\n</svg>\n"
          },
          "metadata": {},
          "execution_count": 34
        }
      ]
    }
  ]
}